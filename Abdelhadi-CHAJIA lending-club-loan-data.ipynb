{
 "cells": [
  {
   "cell_type": "markdown",
   "id": "d4885ebb",
   "metadata": {},
   "source": [
    "# **Machine Learning - Classification**\n",
    "### I Presentation of the problem "
   ]
  },
  {
   "cell_type": "markdown",
   "id": "72111100",
   "metadata": {},
   "source": [
    "###  **Lending club : loan defaulters prediction**"
   ]
  },
  {
   "cell_type": "markdown",
   "id": "bb0c68aa",
   "metadata": {},
   "source": [
    "###### Lending Club is a lending platform that lends money to people in need at an interest rate based on their credit history and other factors.\n",
    "###### will use Machine learning  to predict whether the loan holder will pay back the loan or not, with help of several algorithms and based on the result obtained we can help the company predict the repayment of the loan or to considere the loan as a loss"
   ]
  },
  {
   "cell_type": "markdown",
   "id": "101aff10",
   "metadata": {},
   "source": [
    "## **II Presenting the different ML approaches and algorithms**\n",
    "\n",
    "### A-The approches\n",
    "\n",
    "* understanding and identifying data\n",
    "* data preparation\n",
    "* determine the model's features and train the model\n",
    "* Evaluation\n",
    "* deployment\n",
    "\n",
    "### B- Algorithms\n",
    "\n",
    "* Logistic Regression\n",
    "* Linear Discriminant Analysis\n",
    "* Decision Tree\n",
    "* K-Nearest Neighbors Classifier\n",
    "* Support Vector Machine\n",
    "* Random Forest\n",
    "* Bagging\n",
    "* Extra Trees\n",
    "* AdaBoost\n",
    "* Gradient Boosting"
   ]
  },
  {
   "cell_type": "markdown",
   "id": "a474abb9",
   "metadata": {},
   "source": [
    "## III Data Overview"
   ]
  },
  {
   "cell_type": "markdown",
   "id": "7f0c2830",
   "metadata": {},
   "source": [
    "#### III-A- Load libraries"
   ]
  },
  {
   "cell_type": "code",
   "execution_count": 4,
   "id": "14329929",
   "metadata": {},
   "outputs": [],
   "source": [
    "import numpy as np \n",
    "import pandas as pd \n",
    "import matplotlib.pyplot as plt\n",
    "import seaborn as sns\n",
    "%matplotlib inline\n",
    "import warnings\n",
    "warnings.filterwarnings('ignore')"
   ]
  },
  {
   "cell_type": "code",
   "execution_count": 5,
   "id": "bf16db57",
   "metadata": {},
   "outputs": [
    {
     "data": {
      "text/html": [
       "<div>\n",
       "<style scoped>\n",
       "    .dataframe tbody tr th:only-of-type {\n",
       "        vertical-align: middle;\n",
       "    }\n",
       "\n",
       "    .dataframe tbody tr th {\n",
       "        vertical-align: top;\n",
       "    }\n",
       "\n",
       "    .dataframe thead th {\n",
       "        text-align: right;\n",
       "    }\n",
       "</style>\n",
       "<table border=\"1\" class=\"dataframe\">\n",
       "  <thead>\n",
       "    <tr style=\"text-align: right;\">\n",
       "      <th></th>\n",
       "      <th>id</th>\n",
       "      <th>member_id</th>\n",
       "      <th>loan_amnt</th>\n",
       "      <th>funded_amnt</th>\n",
       "      <th>funded_amnt_inv</th>\n",
       "      <th>term</th>\n",
       "      <th>int_rate</th>\n",
       "      <th>installment</th>\n",
       "      <th>grade</th>\n",
       "      <th>sub_grade</th>\n",
       "      <th>...</th>\n",
       "      <th>num_tl_90g_dpd_24m</th>\n",
       "      <th>num_tl_op_past_12m</th>\n",
       "      <th>pct_tl_nvr_dlq</th>\n",
       "      <th>percent_bc_gt_75</th>\n",
       "      <th>pub_rec_bankruptcies</th>\n",
       "      <th>tax_liens</th>\n",
       "      <th>tot_hi_cred_lim</th>\n",
       "      <th>total_bal_ex_mort</th>\n",
       "      <th>total_bc_limit</th>\n",
       "      <th>total_il_high_credit_limit</th>\n",
       "    </tr>\n",
       "  </thead>\n",
       "  <tbody>\n",
       "    <tr>\n",
       "      <th>0</th>\n",
       "      <td>1077501</td>\n",
       "      <td>1296599.0</td>\n",
       "      <td>5000.0</td>\n",
       "      <td>5000.0</td>\n",
       "      <td>4975.0</td>\n",
       "      <td>36 months</td>\n",
       "      <td>0.1065</td>\n",
       "      <td>162.87</td>\n",
       "      <td>B</td>\n",
       "      <td>B2</td>\n",
       "      <td>...</td>\n",
       "      <td>NaN</td>\n",
       "      <td>NaN</td>\n",
       "      <td>NaN</td>\n",
       "      <td>NaN</td>\n",
       "      <td>0.0</td>\n",
       "      <td>False</td>\n",
       "      <td>NaN</td>\n",
       "      <td>NaN</td>\n",
       "      <td>NaN</td>\n",
       "      <td>NaN</td>\n",
       "    </tr>\n",
       "    <tr>\n",
       "      <th>1</th>\n",
       "      <td>1077430</td>\n",
       "      <td>1314167.0</td>\n",
       "      <td>2500.0</td>\n",
       "      <td>2500.0</td>\n",
       "      <td>2500.0</td>\n",
       "      <td>60 months</td>\n",
       "      <td>0.1527</td>\n",
       "      <td>59.83</td>\n",
       "      <td>C</td>\n",
       "      <td>C4</td>\n",
       "      <td>...</td>\n",
       "      <td>NaN</td>\n",
       "      <td>NaN</td>\n",
       "      <td>NaN</td>\n",
       "      <td>NaN</td>\n",
       "      <td>0.0</td>\n",
       "      <td>False</td>\n",
       "      <td>NaN</td>\n",
       "      <td>NaN</td>\n",
       "      <td>NaN</td>\n",
       "      <td>NaN</td>\n",
       "    </tr>\n",
       "    <tr>\n",
       "      <th>2</th>\n",
       "      <td>1070078</td>\n",
       "      <td>1305201.0</td>\n",
       "      <td>6500.0</td>\n",
       "      <td>6500.0</td>\n",
       "      <td>6500.0</td>\n",
       "      <td>60 months</td>\n",
       "      <td>0.1465</td>\n",
       "      <td>153.45</td>\n",
       "      <td>C</td>\n",
       "      <td>C3</td>\n",
       "      <td>...</td>\n",
       "      <td>NaN</td>\n",
       "      <td>NaN</td>\n",
       "      <td>NaN</td>\n",
       "      <td>NaN</td>\n",
       "      <td>0.0</td>\n",
       "      <td>False</td>\n",
       "      <td>NaN</td>\n",
       "      <td>NaN</td>\n",
       "      <td>NaN</td>\n",
       "      <td>NaN</td>\n",
       "    </tr>\n",
       "    <tr>\n",
       "      <th>3</th>\n",
       "      <td>1068509</td>\n",
       "      <td>1302907.0</td>\n",
       "      <td>6200.0</td>\n",
       "      <td>6200.0</td>\n",
       "      <td>6200.0</td>\n",
       "      <td>36 months</td>\n",
       "      <td>0.0991</td>\n",
       "      <td>199.80</td>\n",
       "      <td>B</td>\n",
       "      <td>B1</td>\n",
       "      <td>...</td>\n",
       "      <td>NaN</td>\n",
       "      <td>NaN</td>\n",
       "      <td>NaN</td>\n",
       "      <td>NaN</td>\n",
       "      <td>0.0</td>\n",
       "      <td>False</td>\n",
       "      <td>NaN</td>\n",
       "      <td>NaN</td>\n",
       "      <td>NaN</td>\n",
       "      <td>NaN</td>\n",
       "    </tr>\n",
       "    <tr>\n",
       "      <th>4</th>\n",
       "      <td>1057330</td>\n",
       "      <td>1288893.0</td>\n",
       "      <td>14000.0</td>\n",
       "      <td>14000.0</td>\n",
       "      <td>14000.0</td>\n",
       "      <td>36 months</td>\n",
       "      <td>0.1427</td>\n",
       "      <td>480.33</td>\n",
       "      <td>C</td>\n",
       "      <td>C2</td>\n",
       "      <td>...</td>\n",
       "      <td>NaN</td>\n",
       "      <td>NaN</td>\n",
       "      <td>NaN</td>\n",
       "      <td>NaN</td>\n",
       "      <td>0.0</td>\n",
       "      <td>False</td>\n",
       "      <td>NaN</td>\n",
       "      <td>NaN</td>\n",
       "      <td>NaN</td>\n",
       "      <td>NaN</td>\n",
       "    </tr>\n",
       "  </tbody>\n",
       "</table>\n",
       "<p>5 rows × 115 columns</p>\n",
       "</div>"
      ],
      "text/plain": [
       "        id  member_id  loan_amnt  funded_amnt  funded_amnt_inv        term  \\\n",
       "0  1077501  1296599.0     5000.0       5000.0           4975.0   36 months   \n",
       "1  1077430  1314167.0     2500.0       2500.0           2500.0   60 months   \n",
       "2  1070078  1305201.0     6500.0       6500.0           6500.0   60 months   \n",
       "3  1068509  1302907.0     6200.0       6200.0           6200.0   36 months   \n",
       "4  1057330  1288893.0    14000.0      14000.0          14000.0   36 months   \n",
       "\n",
       "   int_rate  installment grade sub_grade  ... num_tl_90g_dpd_24m  \\\n",
       "0    0.1065       162.87     B        B2  ...                NaN   \n",
       "1    0.1527        59.83     C        C4  ...                NaN   \n",
       "2    0.1465       153.45     C        C3  ...                NaN   \n",
       "3    0.0991       199.80     B        B1  ...                NaN   \n",
       "4    0.1427       480.33     C        C2  ...                NaN   \n",
       "\n",
       "  num_tl_op_past_12m pct_tl_nvr_dlq  percent_bc_gt_75 pub_rec_bankruptcies  \\\n",
       "0                NaN            NaN               NaN                  0.0   \n",
       "1                NaN            NaN               NaN                  0.0   \n",
       "2                NaN            NaN               NaN                  0.0   \n",
       "3                NaN            NaN               NaN                  0.0   \n",
       "4                NaN            NaN               NaN                  0.0   \n",
       "\n",
       "  tax_liens tot_hi_cred_lim total_bal_ex_mort total_bc_limit  \\\n",
       "0     False             NaN               NaN            NaN   \n",
       "1     False             NaN               NaN            NaN   \n",
       "2     False             NaN               NaN            NaN   \n",
       "3     False             NaN               NaN            NaN   \n",
       "4     False             NaN               NaN            NaN   \n",
       "\n",
       "  total_il_high_credit_limit  \n",
       "0                        NaN  \n",
       "1                        NaN  \n",
       "2                        NaN  \n",
       "3                        NaN  \n",
       "4                        NaN  \n",
       "\n",
       "[5 rows x 115 columns]"
      ]
     },
     "execution_count": 5,
     "metadata": {},
     "output_type": "execute_result"
    }
   ],
   "source": [
    "pd.reset_option('all')\n",
    "df = pd.read_csv('lending-club-loan-data-2007-11-QueryResult.csv')\n",
    "df.head()"
   ]
  },
  {
   "cell_type": "code",
   "execution_count": 6,
   "id": "977a8058",
   "metadata": {},
   "outputs": [
    {
     "name": "stdout",
     "output_type": "stream",
     "text": [
      "Number of rows   : 42538\n",
      "Number of columns: 115\n"
     ]
    }
   ],
   "source": [
    "print('Number of rows   :',df.shape[0])\n",
    "print('Number of columns:',df.shape[1])"
   ]
  },
  {
   "cell_type": "markdown",
   "id": "b71a5a39",
   "metadata": {},
   "source": [
    "#### III-B Data Description"
   ]
  },
  {
   "cell_type": "code",
   "execution_count": 7,
   "id": "56f2fea0",
   "metadata": {},
   "outputs": [
    {
     "data": {
      "text/plain": [
       "0.0       42504\n",
       "27.0          1\n",
       "6053.0        1\n",
       "Name: delinq_amnt, dtype: int64"
      ]
     },
     "execution_count": 7,
     "metadata": {},
     "output_type": "execute_result"
    }
   ],
   "source": [
    "df['delinq_amnt'].value_counts()"
   ]
  },
  {
   "cell_type": "code",
   "execution_count": 8,
   "id": "c023e0ba",
   "metadata": {},
   "outputs": [
    {
     "data": {
      "text/html": [
       "<div>\n",
       "<style scoped>\n",
       "    .dataframe tbody tr th:only-of-type {\n",
       "        vertical-align: middle;\n",
       "    }\n",
       "\n",
       "    .dataframe tbody tr th {\n",
       "        vertical-align: top;\n",
       "    }\n",
       "\n",
       "    .dataframe thead th {\n",
       "        text-align: right;\n",
       "    }\n",
       "</style>\n",
       "<table border=\"1\" class=\"dataframe\">\n",
       "  <thead>\n",
       "    <tr style=\"text-align: right;\">\n",
       "      <th></th>\n",
       "      <th>member_id</th>\n",
       "      <th>loan_amnt</th>\n",
       "      <th>funded_amnt</th>\n",
       "      <th>funded_amnt_inv</th>\n",
       "      <th>int_rate</th>\n",
       "      <th>installment</th>\n",
       "      <th>annual_inc</th>\n",
       "      <th>dti</th>\n",
       "      <th>delinq_2yrs</th>\n",
       "      <th>fico_range_low</th>\n",
       "      <th>...</th>\n",
       "      <th>num_tl_30dpd</th>\n",
       "      <th>num_tl_90g_dpd_24m</th>\n",
       "      <th>num_tl_op_past_12m</th>\n",
       "      <th>pct_tl_nvr_dlq</th>\n",
       "      <th>percent_bc_gt_75</th>\n",
       "      <th>pub_rec_bankruptcies</th>\n",
       "      <th>tot_hi_cred_lim</th>\n",
       "      <th>total_bal_ex_mort</th>\n",
       "      <th>total_bc_limit</th>\n",
       "      <th>total_il_high_credit_limit</th>\n",
       "    </tr>\n",
       "  </thead>\n",
       "  <tbody>\n",
       "    <tr>\n",
       "      <th>count</th>\n",
       "      <td>4.253500e+04</td>\n",
       "      <td>42535.000000</td>\n",
       "      <td>42535.000000</td>\n",
       "      <td>42535.000000</td>\n",
       "      <td>42535.000000</td>\n",
       "      <td>42535.000000</td>\n",
       "      <td>4.253100e+04</td>\n",
       "      <td>42535.000000</td>\n",
       "      <td>42506.000000</td>\n",
       "      <td>42535.000000</td>\n",
       "      <td>...</td>\n",
       "      <td>0.0</td>\n",
       "      <td>0.0</td>\n",
       "      <td>0.0</td>\n",
       "      <td>0.0</td>\n",
       "      <td>0.0</td>\n",
       "      <td>41170.000000</td>\n",
       "      <td>0.0</td>\n",
       "      <td>0.0</td>\n",
       "      <td>0.0</td>\n",
       "      <td>0.0</td>\n",
       "    </tr>\n",
       "    <tr>\n",
       "      <th>mean</th>\n",
       "      <td>8.257026e+05</td>\n",
       "      <td>11089.722581</td>\n",
       "      <td>10821.585753</td>\n",
       "      <td>10139.830603</td>\n",
       "      <td>0.121650</td>\n",
       "      <td>322.623063</td>\n",
       "      <td>6.913656e+04</td>\n",
       "      <td>13.373043</td>\n",
       "      <td>0.152449</td>\n",
       "      <td>713.052545</td>\n",
       "      <td>...</td>\n",
       "      <td>NaN</td>\n",
       "      <td>NaN</td>\n",
       "      <td>NaN</td>\n",
       "      <td>NaN</td>\n",
       "      <td>NaN</td>\n",
       "      <td>0.045227</td>\n",
       "      <td>NaN</td>\n",
       "      <td>NaN</td>\n",
       "      <td>NaN</td>\n",
       "      <td>NaN</td>\n",
       "    </tr>\n",
       "    <tr>\n",
       "      <th>std</th>\n",
       "      <td>2.795409e+05</td>\n",
       "      <td>7410.938391</td>\n",
       "      <td>7146.914675</td>\n",
       "      <td>7131.686447</td>\n",
       "      <td>0.037079</td>\n",
       "      <td>208.927216</td>\n",
       "      <td>6.409635e+04</td>\n",
       "      <td>6.726315</td>\n",
       "      <td>0.512406</td>\n",
       "      <td>36.188439</td>\n",
       "      <td>...</td>\n",
       "      <td>NaN</td>\n",
       "      <td>NaN</td>\n",
       "      <td>NaN</td>\n",
       "      <td>NaN</td>\n",
       "      <td>NaN</td>\n",
       "      <td>0.208737</td>\n",
       "      <td>NaN</td>\n",
       "      <td>NaN</td>\n",
       "      <td>NaN</td>\n",
       "      <td>NaN</td>\n",
       "    </tr>\n",
       "    <tr>\n",
       "      <th>min</th>\n",
       "      <td>7.047300e+04</td>\n",
       "      <td>500.000000</td>\n",
       "      <td>500.000000</td>\n",
       "      <td>0.000000</td>\n",
       "      <td>0.054200</td>\n",
       "      <td>15.670000</td>\n",
       "      <td>1.896000e+03</td>\n",
       "      <td>0.000000</td>\n",
       "      <td>0.000000</td>\n",
       "      <td>610.000000</td>\n",
       "      <td>...</td>\n",
       "      <td>NaN</td>\n",
       "      <td>NaN</td>\n",
       "      <td>NaN</td>\n",
       "      <td>NaN</td>\n",
       "      <td>NaN</td>\n",
       "      <td>0.000000</td>\n",
       "      <td>NaN</td>\n",
       "      <td>NaN</td>\n",
       "      <td>NaN</td>\n",
       "      <td>NaN</td>\n",
       "    </tr>\n",
       "    <tr>\n",
       "      <th>25%</th>\n",
       "      <td>6.384795e+05</td>\n",
       "      <td>5200.000000</td>\n",
       "      <td>5000.000000</td>\n",
       "      <td>4950.000000</td>\n",
       "      <td>0.096300</td>\n",
       "      <td>165.520000</td>\n",
       "      <td>4.000000e+04</td>\n",
       "      <td>8.200000</td>\n",
       "      <td>0.000000</td>\n",
       "      <td>685.000000</td>\n",
       "      <td>...</td>\n",
       "      <td>NaN</td>\n",
       "      <td>NaN</td>\n",
       "      <td>NaN</td>\n",
       "      <td>NaN</td>\n",
       "      <td>NaN</td>\n",
       "      <td>0.000000</td>\n",
       "      <td>NaN</td>\n",
       "      <td>NaN</td>\n",
       "      <td>NaN</td>\n",
       "      <td>NaN</td>\n",
       "    </tr>\n",
       "    <tr>\n",
       "      <th>50%</th>\n",
       "      <td>8.241780e+05</td>\n",
       "      <td>9700.000000</td>\n",
       "      <td>9600.000000</td>\n",
       "      <td>8500.000000</td>\n",
       "      <td>0.119900</td>\n",
       "      <td>277.690000</td>\n",
       "      <td>5.900000e+04</td>\n",
       "      <td>13.470000</td>\n",
       "      <td>0.000000</td>\n",
       "      <td>710.000000</td>\n",
       "      <td>...</td>\n",
       "      <td>NaN</td>\n",
       "      <td>NaN</td>\n",
       "      <td>NaN</td>\n",
       "      <td>NaN</td>\n",
       "      <td>NaN</td>\n",
       "      <td>0.000000</td>\n",
       "      <td>NaN</td>\n",
       "      <td>NaN</td>\n",
       "      <td>NaN</td>\n",
       "      <td>NaN</td>\n",
       "    </tr>\n",
       "    <tr>\n",
       "      <th>75%</th>\n",
       "      <td>1.033946e+06</td>\n",
       "      <td>15000.000000</td>\n",
       "      <td>15000.000000</td>\n",
       "      <td>14000.000000</td>\n",
       "      <td>0.147200</td>\n",
       "      <td>428.180000</td>\n",
       "      <td>8.250000e+04</td>\n",
       "      <td>18.680000</td>\n",
       "      <td>0.000000</td>\n",
       "      <td>740.000000</td>\n",
       "      <td>...</td>\n",
       "      <td>NaN</td>\n",
       "      <td>NaN</td>\n",
       "      <td>NaN</td>\n",
       "      <td>NaN</td>\n",
       "      <td>NaN</td>\n",
       "      <td>0.000000</td>\n",
       "      <td>NaN</td>\n",
       "      <td>NaN</td>\n",
       "      <td>NaN</td>\n",
       "      <td>NaN</td>\n",
       "    </tr>\n",
       "    <tr>\n",
       "      <th>max</th>\n",
       "      <td>1.314167e+06</td>\n",
       "      <td>35000.000000</td>\n",
       "      <td>35000.000000</td>\n",
       "      <td>35000.000000</td>\n",
       "      <td>0.245900</td>\n",
       "      <td>1305.190000</td>\n",
       "      <td>6.000000e+06</td>\n",
       "      <td>29.990000</td>\n",
       "      <td>13.000000</td>\n",
       "      <td>825.000000</td>\n",
       "      <td>...</td>\n",
       "      <td>NaN</td>\n",
       "      <td>NaN</td>\n",
       "      <td>NaN</td>\n",
       "      <td>NaN</td>\n",
       "      <td>NaN</td>\n",
       "      <td>2.000000</td>\n",
       "      <td>NaN</td>\n",
       "      <td>NaN</td>\n",
       "      <td>NaN</td>\n",
       "      <td>NaN</td>\n",
       "    </tr>\n",
       "  </tbody>\n",
       "</table>\n",
       "<p>8 rows × 87 columns</p>\n",
       "</div>"
      ],
      "text/plain": [
       "          member_id     loan_amnt   funded_amnt  funded_amnt_inv  \\\n",
       "count  4.253500e+04  42535.000000  42535.000000     42535.000000   \n",
       "mean   8.257026e+05  11089.722581  10821.585753     10139.830603   \n",
       "std    2.795409e+05   7410.938391   7146.914675      7131.686447   \n",
       "min    7.047300e+04    500.000000    500.000000         0.000000   \n",
       "25%    6.384795e+05   5200.000000   5000.000000      4950.000000   \n",
       "50%    8.241780e+05   9700.000000   9600.000000      8500.000000   \n",
       "75%    1.033946e+06  15000.000000  15000.000000     14000.000000   \n",
       "max    1.314167e+06  35000.000000  35000.000000     35000.000000   \n",
       "\n",
       "           int_rate   installment    annual_inc           dti   delinq_2yrs  \\\n",
       "count  42535.000000  42535.000000  4.253100e+04  42535.000000  42506.000000   \n",
       "mean       0.121650    322.623063  6.913656e+04     13.373043      0.152449   \n",
       "std        0.037079    208.927216  6.409635e+04      6.726315      0.512406   \n",
       "min        0.054200     15.670000  1.896000e+03      0.000000      0.000000   \n",
       "25%        0.096300    165.520000  4.000000e+04      8.200000      0.000000   \n",
       "50%        0.119900    277.690000  5.900000e+04     13.470000      0.000000   \n",
       "75%        0.147200    428.180000  8.250000e+04     18.680000      0.000000   \n",
       "max        0.245900   1305.190000  6.000000e+06     29.990000     13.000000   \n",
       "\n",
       "       fico_range_low  ...  num_tl_30dpd  num_tl_90g_dpd_24m  \\\n",
       "count    42535.000000  ...           0.0                 0.0   \n",
       "mean       713.052545  ...           NaN                 NaN   \n",
       "std         36.188439  ...           NaN                 NaN   \n",
       "min        610.000000  ...           NaN                 NaN   \n",
       "25%        685.000000  ...           NaN                 NaN   \n",
       "50%        710.000000  ...           NaN                 NaN   \n",
       "75%        740.000000  ...           NaN                 NaN   \n",
       "max        825.000000  ...           NaN                 NaN   \n",
       "\n",
       "       num_tl_op_past_12m  pct_tl_nvr_dlq  percent_bc_gt_75  \\\n",
       "count                 0.0             0.0               0.0   \n",
       "mean                  NaN             NaN               NaN   \n",
       "std                   NaN             NaN               NaN   \n",
       "min                   NaN             NaN               NaN   \n",
       "25%                   NaN             NaN               NaN   \n",
       "50%                   NaN             NaN               NaN   \n",
       "75%                   NaN             NaN               NaN   \n",
       "max                   NaN             NaN               NaN   \n",
       "\n",
       "       pub_rec_bankruptcies  tot_hi_cred_lim  total_bal_ex_mort  \\\n",
       "count          41170.000000              0.0                0.0   \n",
       "mean               0.045227              NaN                NaN   \n",
       "std                0.208737              NaN                NaN   \n",
       "min                0.000000              NaN                NaN   \n",
       "25%                0.000000              NaN                NaN   \n",
       "50%                0.000000              NaN                NaN   \n",
       "75%                0.000000              NaN                NaN   \n",
       "max                2.000000              NaN                NaN   \n",
       "\n",
       "       total_bc_limit  total_il_high_credit_limit  \n",
       "count             0.0                         0.0  \n",
       "mean              NaN                         NaN  \n",
       "std               NaN                         NaN  \n",
       "min               NaN                         NaN  \n",
       "25%               NaN                         NaN  \n",
       "50%               NaN                         NaN  \n",
       "75%               NaN                         NaN  \n",
       "max               NaN                         NaN  \n",
       "\n",
       "[8 rows x 87 columns]"
      ]
     },
     "execution_count": 8,
     "metadata": {},
     "output_type": "execute_result"
    }
   ],
   "source": [
    "df.describe()"
   ]
  },
  {
   "cell_type": "markdown",
   "id": "1174ba0d",
   "metadata": {},
   "source": [
    "## **IV Exploratroy Data Analysis** "
   ]
  },
  {
   "cell_type": "markdown",
   "id": "8f7051e9",
   "metadata": {},
   "source": [
    "#### IV-A Type of Variables"
   ]
  },
  {
   "cell_type": "code",
   "execution_count": 9,
   "id": "ec2133f9",
   "metadata": {},
   "outputs": [
    {
     "data": {
      "text/plain": [
       "id                                 object\n",
       "member_id                         float64\n",
       "loan_amnt                         float64\n",
       "funded_amnt                       float64\n",
       "funded_amnt_inv                   float64\n",
       "term                               object\n",
       "int_rate                          float64\n",
       "installment                       float64\n",
       "grade                              object\n",
       "sub_grade                          object\n",
       "emp_title                          object\n",
       "emp_length                         object\n",
       "home_ownership                     object\n",
       "annual_inc                        float64\n",
       "verification_status                object\n",
       "issue_d                            object\n",
       "loan_status                        object\n",
       "pymnt_plan                         object\n",
       "url                                object\n",
       "desc                               object\n",
       "purpose                            object\n",
       "title                              object\n",
       "zip_code                           object\n",
       "addr_state                         object\n",
       "dti                               float64\n",
       "delinq_2yrs                       float64\n",
       "earliest_cr_line                   object\n",
       "fico_range_low                    float64\n",
       "fico_range_high                   float64\n",
       "inq_last_6mths                    float64\n",
       "mths_since_last_delinq            float64\n",
       "mths_since_last_record            float64\n",
       "open_acc                          float64\n",
       "pub_rec                           float64\n",
       "revol_bal                         float64\n",
       "revol_util                        float64\n",
       "total_acc                         float64\n",
       "initial_list_status                object\n",
       "out_prncp                         float64\n",
       "out_prncp_inv                     float64\n",
       "total_pymnt                       float64\n",
       "total_pymnt_inv                   float64\n",
       "total_rec_prncp                   float64\n",
       "total_rec_int                     float64\n",
       "total_rec_late_fee                float64\n",
       "recoveries                        float64\n",
       "collection_recovery_fee           float64\n",
       "last_pymnt_d                       object\n",
       "last_pymnt_amnt                   float64\n",
       "next_pymnt_d                       object\n",
       "last_credit_pull_d                 object\n",
       "last_fico_range_high              float64\n",
       "last_fico_range_low               float64\n",
       "collections_12_mths_ex_med         object\n",
       "mths_since_last_major_derog       float64\n",
       "policy_code                        object\n",
       "application_type                   object\n",
       "annual_inc_joint                  float64\n",
       "dti_joint                         float64\n",
       "verification_status_joint         float64\n",
       "acc_now_delinq                     object\n",
       "tot_coll_amt                      float64\n",
       "tot_cur_bal                       float64\n",
       "open_acc_6m                       float64\n",
       "open_il_6m                        float64\n",
       "open_il_12m                       float64\n",
       "open_il_24m                       float64\n",
       "mths_since_rcnt_il                float64\n",
       "total_bal_il                      float64\n",
       "il_util                           float64\n",
       "open_rv_12m                       float64\n",
       "open_rv_24m                       float64\n",
       "max_bal_bc                        float64\n",
       "all_util                          float64\n",
       "total_rev_hi_lim                  float64\n",
       "inq_fi                            float64\n",
       "total_cu_tl                       float64\n",
       "inq_last_12m                      float64\n",
       "acc_open_past_24mths              float64\n",
       "avg_cur_bal                       float64\n",
       "bc_open_to_buy                    float64\n",
       "bc_util                           float64\n",
       "chargeoff_within_12_mths           object\n",
       "delinq_amnt                       float64\n",
       "mo_sin_old_il_acct                float64\n",
       "mo_sin_old_rev_tl_op              float64\n",
       "mo_sin_rcnt_rev_tl_op             float64\n",
       "mo_sin_rcnt_tl                    float64\n",
       "mort_acc                          float64\n",
       "mths_since_recent_bc              float64\n",
       "mths_since_recent_bc_dlq          float64\n",
       "mths_since_recent_inq             float64\n",
       "mths_since_recent_revol_delinq    float64\n",
       "num_accts_ever_120_pd             float64\n",
       "num_actv_bc_tl                    float64\n",
       "num_actv_rev_tl                   float64\n",
       "num_bc_sats                       float64\n",
       "num_bc_tl                         float64\n",
       "num_il_tl                         float64\n",
       "num_op_rev_tl                     float64\n",
       "num_rev_accts                     float64\n",
       "num_rev_tl_bal_gt_0               float64\n",
       "num_sats                          float64\n",
       "num_tl_120dpd_2m                  float64\n",
       "num_tl_30dpd                      float64\n",
       "num_tl_90g_dpd_24m                float64\n",
       "num_tl_op_past_12m                float64\n",
       "pct_tl_nvr_dlq                    float64\n",
       "percent_bc_gt_75                  float64\n",
       "pub_rec_bankruptcies              float64\n",
       "tax_liens                          object\n",
       "tot_hi_cred_lim                   float64\n",
       "total_bal_ex_mort                 float64\n",
       "total_bc_limit                    float64\n",
       "total_il_high_credit_limit        float64\n",
       "dtype: object"
      ]
     },
     "execution_count": 9,
     "metadata": {},
     "output_type": "execute_result"
    }
   ],
   "source": [
    "pd.set_option('display.max_rows', None)\n",
    "df.dtypes"
   ]
  },
  {
   "cell_type": "markdown",
   "id": "62a3417b",
   "metadata": {},
   "source": [
    "#### I notice  that the most variables are  of type float and object, in the preporcessing step moste of them will be encoded to be readable for ml algorithms"
   ]
  },
  {
   "cell_type": "markdown",
   "id": "16232382",
   "metadata": {},
   "source": [
    "#### **IV-B Specification of Target Variable**"
   ]
  },
  {
   "cell_type": "code",
   "execution_count": 10,
   "id": "febc9017",
   "metadata": {},
   "outputs": [
    {
     "data": {
      "text/plain": [
       "Fully Paid                                             33586\n",
       "Charged Off                                             5653\n",
       "Does not meet the credit policy. Status:Fully Paid      1988\n",
       "Does not meet the credit policy. Status:Charged Off      761\n",
       "Current                                                  513\n",
       "In Grace Period                                           16\n",
       "Late (31-120 days)                                        12\n",
       "Late (16-30 days)                                          5\n",
       "Default                                                    1\n",
       "Name: loan_status, dtype: int64"
      ]
     },
     "execution_count": 10,
     "metadata": {},
     "output_type": "execute_result"
    }
   ],
   "source": [
    "df['loan_status'].value_counts()"
   ]
  },
  {
   "cell_type": "code",
   "execution_count": 11,
   "id": "69287974",
   "metadata": {},
   "outputs": [
    {
     "data": {
      "text/plain": [
       "<AxesSubplot:xlabel='count', ylabel='loan_status'>"
      ]
     },
     "execution_count": 11,
     "metadata": {},
     "output_type": "execute_result"
    },
    {
     "data": {
      "image/png": "[encoded data removed]",
      "text/plain": [
       "<Figure size 504x216 with 1 Axes>"
      ]
     },
     "metadata": {
      "needs_background": "light"
     },
     "output_type": "display_data"
    }
   ],
   "source": [
    "x = plt.subplots(figsize=(7, 3))\n",
    "sns.countplot(y=\"loan_status\", data=df)"
   ]
  },
  {
   "cell_type": "markdown",
   "id": "0d5a8f4a",
   "metadata": {},
   "source": [
    "* we can see that fully paid is the dominant value so it will be necessary to balance the data in modeling step \n",
    "* fully paid will be grouped in one variable the charged off also will be grouped in one variable"
   ]
  },
  {
   "cell_type": "markdown",
   "id": "5678ac76",
   "metadata": {},
   "source": [
    "#### **IV-C Plot Indipendent Variables**"
   ]
  },
  {
   "cell_type": "code",
   "execution_count": 12,
   "id": "ff9e877a",
   "metadata": {},
   "outputs": [
    {
     "data": {
      "image/png": "[encoded data removed]",
      "text/plain": [
       "<Figure size 648x504 with 4 Axes>"
      ]
     },
     "metadata": {
      "needs_background": "light"
     },
     "output_type": "display_data"
    }
   ],
   "source": [
    "fig, axs = plt.subplots(2, 2, figsize=(9, 7))\n",
    "sns.histplot(data=df, y=\"emp_length\", kde=True, color=\"skyblue\", ax=axs[0, 0])\n",
    "sns.histplot(data=df, x=\"term\", color=\"olive\", ax=axs[0, 1])\n",
    "sns.histplot(data=df, x=\"pub_rec_bankruptcies\", color=\"gold\", ax=axs[1, 0])\n",
    "sns.histplot(data=df, x=\"grade\", color=\"teal\", ax=axs[1, 1])\n",
    "plt.show()"
   ]
  },
  {
   "cell_type": "markdown",
   "id": "818cdd8b",
   "metadata": {},
   "source": [
    "* emp_length: the variable values are varied from 0 year experience to 10 years experience so it will be encoded in preprocessing step**\n",
    "* pub_rec_bankruptcy:This variable varies from 0 to 1 and we clearly see that there some who file bankruptcy recoreds**\n",
    "* Terme :The loan is remburse after 36 months or 60 months we have two values so its= will be label encoded in the preprocessing step so the model wil recongnise the values**\n",
    "* Grade : eache category of borrowers are assigned to a grade with clearly the B and A are the most important also this variable will be label encoded to be model readable**"
   ]
  },
  {
   "cell_type": "code",
   "execution_count": 13,
   "id": "32b4afc2",
   "metadata": {},
   "outputs": [
    {
     "data": {
      "image/png": "[encoded data removed]",
      "text/plain": [
       "<Figure size 648x504 with 4 Axes>"
      ]
     },
     "metadata": {
      "needs_background": "light"
     },
     "output_type": "display_data"
    }
   ],
   "source": [
    "fig, axs = plt.subplots(2, 2, figsize=(9, 7))\n",
    "sns.histplot(data=df, x=\"fico_range_high\", color=\"skyblue\", ax=axs[0, 0])\n",
    "sns.histplot(data=df, x=\"fico_range_low\", color=\"olive\", ax=axs[0, 1])\n",
    "sns.histplot(data=df, x=\"last_fico_range_high\", color=\"gold\", ax=axs[1, 0])\n",
    "sns.histplot(data=df, x=\"last_fico_range_low\", color=\"teal\", ax=axs[1, 1])\n",
    "plt.show()"
   ]
  },
  {
   "cell_type": "code",
   "execution_count": 14,
   "id": "d802d8c2",
   "metadata": {},
   "outputs": [
    {
     "name": "stdout",
     "output_type": "stream",
     "text": [
      "4.0\n",
      "4.0\n"
     ]
    }
   ],
   "source": [
    "print(np.max(df['fico_range_high'] - df['fico_range_low']))\n",
    "print(np.min(df['fico_range_high'] - df['fico_range_low']))"
   ]
  },
  {
   "cell_type": "code",
   "execution_count": 15,
   "id": "5f7fe35a",
   "metadata": {},
   "outputs": [
    {
     "data": {
      "text/plain": [
       "3.9997178992900464"
      ]
     },
     "execution_count": 15,
     "metadata": {},
     "output_type": "execute_result"
    }
   ],
   "source": [
    "np.sum(df['fico_range_high'] - df['fico_range_low'])/42538"
   ]
  },
  {
   "cell_type": "code",
   "execution_count": 16,
   "id": "2a5e0c74",
   "metadata": {},
   "outputs": [
    {
     "data": {
      "text/plain": [
       "170140.0"
      ]
     },
     "execution_count": 16,
     "metadata": {},
     "output_type": "execute_result"
    }
   ],
   "source": [
    "np.sum(df['fico_range_high'] - df['fico_range_low'])"
   ]
  },
  {
   "cell_type": "code",
   "execution_count": 17,
   "id": "3aabf764",
   "metadata": {},
   "outputs": [
    {
     "name": "stdout",
     "output_type": "stream",
     "text": [
      "0.0\n",
      "499.0\n"
     ]
    }
   ],
   "source": [
    "print(np.min(df['last_fico_range_high'] - df['last_fico_range_low']))\n",
    "print(np.max(df['last_fico_range_high'] - df['last_fico_range_low']))"
   ]
  },
  {
   "cell_type": "code",
   "execution_count": 18,
   "id": "daaf2f15",
   "metadata": {},
   "outputs": [
    {
     "data": {
      "text/plain": [
       "12.921646527810429"
      ]
     },
     "execution_count": 18,
     "metadata": {},
     "output_type": "execute_result"
    }
   ],
   "source": [
    "np.sum(df['last_fico_range_high'] - df['last_fico_range_low'])/42538"
   ]
  },
  {
   "cell_type": "code",
   "execution_count": 19,
   "id": "3252bf7c",
   "metadata": {},
   "outputs": [
    {
     "data": {
      "text/plain": [
       "549661.0"
      ]
     },
     "execution_count": 19,
     "metadata": {},
     "output_type": "execute_result"
    }
   ],
   "source": [
    "np.sum(df['last_fico_range_high'] - df['last_fico_range_low'])"
   ]
  },
  {
   "cell_type": "markdown",
   "id": "2c45eb19",
   "metadata": {},
   "source": [
    "* fico_range columns dosnt have much difference they are pretty much linear I will generate a new column out of the two that generate the mean\n",
    "* late_fico_range also we have a slight difference between two variables for the sake of the model will remove both of them I will  work on that in the preprocessing step in details"
   ]
  },
  {
   "cell_type": "markdown",
   "id": "c0416dde",
   "metadata": {},
   "source": [
    "#### ploting the loan status vs the Grade"
   ]
  },
  {
   "cell_type": "code",
   "execution_count": 20,
   "id": "daa8e5e8",
   "metadata": {},
   "outputs": [
    {
     "data": {
      "text/plain": [
       "<AxesSubplot:xlabel='grade', ylabel='count'>"
      ]
     },
     "execution_count": 20,
     "metadata": {},
     "output_type": "execute_result"
    },
    {
     "data": {
      "image/png": "[encoded data removed]",
      "text/plain": [
       "<Figure size 720x360 with 1 Axes>"
      ]
     },
     "metadata": {
      "needs_background": "light"
     },
     "output_type": "display_data"
    }
   ],
   "source": [
    "plt.figure(figsize=(10,5))\n",
    "sns.countplot(x='grade', data=df, hue='loan_status')"
   ]
  },
  {
   "cell_type": "markdown",
   "id": "5bedcdea",
   "metadata": {},
   "source": [
    "##### the ones with grade B C AND A clearly they have high probability of repaying the loan unlike the remaining gardes"
   ]
  },
  {
   "cell_type": "markdown",
   "id": "619dd6cf",
   "metadata": {},
   "source": [
    "#### ploting the installment vs loan amount"
   ]
  },
  {
   "cell_type": "code",
   "execution_count": 21,
   "id": "60ce4524",
   "metadata": {},
   "outputs": [
    {
     "data": {
      "image/png": "[encoded data removed]",
      "text/plain": [
       "<Figure size 432x288 with 1 Axes>"
      ]
     },
     "metadata": {
      "needs_background": "light"
     },
     "output_type": "display_data"
    }
   ],
   "source": [
    "sns.scatterplot(x =\"installment\", y =\"loan_amnt\",data = df);"
   ]
  },
  {
   "cell_type": "markdown",
   "id": "8a352f64",
   "metadata": {},
   "source": [
    "#### we can see that the loan is clearly being paiedby the ones who have high installement"
   ]
  },
  {
   "cell_type": "markdown",
   "id": "229665f6",
   "metadata": {},
   "source": [
    "## **Data Preprocessing**"
   ]
  },
  {
   "cell_type": "markdown",
   "id": "d37a9b18",
   "metadata": {},
   "source": [
    "### **Data Cleaning**"
   ]
  },
  {
   "cell_type": "markdown",
   "id": "3409454a",
   "metadata": {},
   "source": [
    "#### **Calculating how much missing data we have per variable**"
   ]
  },
  {
   "cell_type": "markdown",
   "id": "f7ad9c36",
   "metadata": {},
   "source": [
    "#### **I define a function that will help me every time I clean the data and see the progress of null values treatment**"
   ]
  },
  {
   "cell_type": "code",
   "execution_count": 22,
   "id": "77018426",
   "metadata": {},
   "outputs": [
    {
     "data": {
      "text/html": [
       "<div>\n",
       "<style scoped>\n",
       "    .dataframe tbody tr th:only-of-type {\n",
       "        vertical-align: middle;\n",
       "    }\n",
       "\n",
       "    .dataframe tbody tr th {\n",
       "        vertical-align: top;\n",
       "    }\n",
       "\n",
       "    .dataframe thead th {\n",
       "        text-align: right;\n",
       "    }\n",
       "</style>\n",
       "<table border=\"1\" class=\"dataframe\">\n",
       "  <thead>\n",
       "    <tr style=\"text-align: right;\">\n",
       "      <th></th>\n",
       "      <th>Features</th>\n",
       "      <th>Null values</th>\n",
       "      <th>% Null values</th>\n",
       "    </tr>\n",
       "  </thead>\n",
       "  <tbody>\n",
       "    <tr>\n",
       "      <th>57</th>\n",
       "      <td>annual_inc_joint</td>\n",
       "      <td>42538</td>\n",
       "      <td>100.000000</td>\n",
       "    </tr>\n",
       "    <tr>\n",
       "      <th>86</th>\n",
       "      <td>mo_sin_rcnt_rev_tl_op</td>\n",
       "      <td>42538</td>\n",
       "      <td>100.000000</td>\n",
       "    </tr>\n",
       "    <tr>\n",
       "      <th>84</th>\n",
       "      <td>mo_sin_old_il_acct</td>\n",
       "      <td>42538</td>\n",
       "      <td>100.000000</td>\n",
       "    </tr>\n",
       "    <tr>\n",
       "      <th>81</th>\n",
       "      <td>bc_util</td>\n",
       "      <td>42538</td>\n",
       "      <td>100.000000</td>\n",
       "    </tr>\n",
       "    <tr>\n",
       "      <th>80</th>\n",
       "      <td>bc_open_to_buy</td>\n",
       "      <td>42538</td>\n",
       "      <td>100.000000</td>\n",
       "    </tr>\n",
       "    <tr>\n",
       "      <th>79</th>\n",
       "      <td>avg_cur_bal</td>\n",
       "      <td>42538</td>\n",
       "      <td>100.000000</td>\n",
       "    </tr>\n",
       "    <tr>\n",
       "      <th>78</th>\n",
       "      <td>acc_open_past_24mths</td>\n",
       "      <td>42538</td>\n",
       "      <td>100.000000</td>\n",
       "    </tr>\n",
       "    <tr>\n",
       "      <th>77</th>\n",
       "      <td>inq_last_12m</td>\n",
       "      <td>42538</td>\n",
       "      <td>100.000000</td>\n",
       "    </tr>\n",
       "    <tr>\n",
       "      <th>76</th>\n",
       "      <td>total_cu_tl</td>\n",
       "      <td>42538</td>\n",
       "      <td>100.000000</td>\n",
       "    </tr>\n",
       "    <tr>\n",
       "      <th>75</th>\n",
       "      <td>inq_fi</td>\n",
       "      <td>42538</td>\n",
       "      <td>100.000000</td>\n",
       "    </tr>\n",
       "    <tr>\n",
       "      <th>74</th>\n",
       "      <td>total_rev_hi_lim</td>\n",
       "      <td>42538</td>\n",
       "      <td>100.000000</td>\n",
       "    </tr>\n",
       "    <tr>\n",
       "      <th>73</th>\n",
       "      <td>all_util</td>\n",
       "      <td>42538</td>\n",
       "      <td>100.000000</td>\n",
       "    </tr>\n",
       "    <tr>\n",
       "      <th>72</th>\n",
       "      <td>max_bal_bc</td>\n",
       "      <td>42538</td>\n",
       "      <td>100.000000</td>\n",
       "    </tr>\n",
       "    <tr>\n",
       "      <th>71</th>\n",
       "      <td>open_rv_24m</td>\n",
       "      <td>42538</td>\n",
       "      <td>100.000000</td>\n",
       "    </tr>\n",
       "    <tr>\n",
       "      <th>70</th>\n",
       "      <td>open_rv_12m</td>\n",
       "      <td>42538</td>\n",
       "      <td>100.000000</td>\n",
       "    </tr>\n",
       "    <tr>\n",
       "      <th>69</th>\n",
       "      <td>il_util</td>\n",
       "      <td>42538</td>\n",
       "      <td>100.000000</td>\n",
       "    </tr>\n",
       "    <tr>\n",
       "      <th>68</th>\n",
       "      <td>total_bal_il</td>\n",
       "      <td>42538</td>\n",
       "      <td>100.000000</td>\n",
       "    </tr>\n",
       "    <tr>\n",
       "      <th>67</th>\n",
       "      <td>mths_since_rcnt_il</td>\n",
       "      <td>42538</td>\n",
       "      <td>100.000000</td>\n",
       "    </tr>\n",
       "    <tr>\n",
       "      <th>66</th>\n",
       "      <td>open_il_24m</td>\n",
       "      <td>42538</td>\n",
       "      <td>100.000000</td>\n",
       "    </tr>\n",
       "    <tr>\n",
       "      <th>65</th>\n",
       "      <td>open_il_12m</td>\n",
       "      <td>42538</td>\n",
       "      <td>100.000000</td>\n",
       "    </tr>\n",
       "    <tr>\n",
       "      <th>64</th>\n",
       "      <td>open_il_6m</td>\n",
       "      <td>42538</td>\n",
       "      <td>100.000000</td>\n",
       "    </tr>\n",
       "    <tr>\n",
       "      <th>63</th>\n",
       "      <td>open_acc_6m</td>\n",
       "      <td>42538</td>\n",
       "      <td>100.000000</td>\n",
       "    </tr>\n",
       "    <tr>\n",
       "      <th>62</th>\n",
       "      <td>tot_cur_bal</td>\n",
       "      <td>42538</td>\n",
       "      <td>100.000000</td>\n",
       "    </tr>\n",
       "    <tr>\n",
       "      <th>61</th>\n",
       "      <td>tot_coll_amt</td>\n",
       "      <td>42538</td>\n",
       "      <td>100.000000</td>\n",
       "    </tr>\n",
       "    <tr>\n",
       "      <th>59</th>\n",
       "      <td>verification_status_joint</td>\n",
       "      <td>42538</td>\n",
       "      <td>100.000000</td>\n",
       "    </tr>\n",
       "    <tr>\n",
       "      <th>85</th>\n",
       "      <td>mo_sin_old_rev_tl_op</td>\n",
       "      <td>42538</td>\n",
       "      <td>100.000000</td>\n",
       "    </tr>\n",
       "    <tr>\n",
       "      <th>87</th>\n",
       "      <td>mo_sin_rcnt_tl</td>\n",
       "      <td>42538</td>\n",
       "      <td>100.000000</td>\n",
       "    </tr>\n",
       "    <tr>\n",
       "      <th>54</th>\n",
       "      <td>mths_since_last_major_derog</td>\n",
       "      <td>42538</td>\n",
       "      <td>100.000000</td>\n",
       "    </tr>\n",
       "    <tr>\n",
       "      <th>88</th>\n",
       "      <td>mort_acc</td>\n",
       "      <td>42538</td>\n",
       "      <td>100.000000</td>\n",
       "    </tr>\n",
       "    <tr>\n",
       "      <th>113</th>\n",
       "      <td>total_bc_limit</td>\n",
       "      <td>42538</td>\n",
       "      <td>100.000000</td>\n",
       "    </tr>\n",
       "    <tr>\n",
       "      <th>112</th>\n",
       "      <td>total_bal_ex_mort</td>\n",
       "      <td>42538</td>\n",
       "      <td>100.000000</td>\n",
       "    </tr>\n",
       "    <tr>\n",
       "      <th>111</th>\n",
       "      <td>tot_hi_cred_lim</td>\n",
       "      <td>42538</td>\n",
       "      <td>100.000000</td>\n",
       "    </tr>\n",
       "    <tr>\n",
       "      <th>108</th>\n",
       "      <td>percent_bc_gt_75</td>\n",
       "      <td>42538</td>\n",
       "      <td>100.000000</td>\n",
       "    </tr>\n",
       "    <tr>\n",
       "      <th>107</th>\n",
       "      <td>pct_tl_nvr_dlq</td>\n",
       "      <td>42538</td>\n",
       "      <td>100.000000</td>\n",
       "    </tr>\n",
       "    <tr>\n",
       "      <th>106</th>\n",
       "      <td>num_tl_op_past_12m</td>\n",
       "      <td>42538</td>\n",
       "      <td>100.000000</td>\n",
       "    </tr>\n",
       "    <tr>\n",
       "      <th>105</th>\n",
       "      <td>num_tl_90g_dpd_24m</td>\n",
       "      <td>42538</td>\n",
       "      <td>100.000000</td>\n",
       "    </tr>\n",
       "    <tr>\n",
       "      <th>104</th>\n",
       "      <td>num_tl_30dpd</td>\n",
       "      <td>42538</td>\n",
       "      <td>100.000000</td>\n",
       "    </tr>\n",
       "    <tr>\n",
       "      <th>103</th>\n",
       "      <td>num_tl_120dpd_2m</td>\n",
       "      <td>42538</td>\n",
       "      <td>100.000000</td>\n",
       "    </tr>\n",
       "    <tr>\n",
       "      <th>102</th>\n",
       "      <td>num_sats</td>\n",
       "      <td>42538</td>\n",
       "      <td>100.000000</td>\n",
       "    </tr>\n",
       "    <tr>\n",
       "      <th>101</th>\n",
       "      <td>num_rev_tl_bal_gt_0</td>\n",
       "      <td>42538</td>\n",
       "      <td>100.000000</td>\n",
       "    </tr>\n",
       "    <tr>\n",
       "      <th>100</th>\n",
       "      <td>num_rev_accts</td>\n",
       "      <td>42538</td>\n",
       "      <td>100.000000</td>\n",
       "    </tr>\n",
       "    <tr>\n",
       "      <th>99</th>\n",
       "      <td>num_op_rev_tl</td>\n",
       "      <td>42538</td>\n",
       "      <td>100.000000</td>\n",
       "    </tr>\n",
       "    <tr>\n",
       "      <th>98</th>\n",
       "      <td>num_il_tl</td>\n",
       "      <td>42538</td>\n",
       "      <td>100.000000</td>\n",
       "    </tr>\n",
       "    <tr>\n",
       "      <th>97</th>\n",
       "      <td>num_bc_tl</td>\n",
       "      <td>42538</td>\n",
       "      <td>100.000000</td>\n",
       "    </tr>\n",
       "    <tr>\n",
       "      <th>96</th>\n",
       "      <td>num_bc_sats</td>\n",
       "      <td>42538</td>\n",
       "      <td>100.000000</td>\n",
       "    </tr>\n",
       "    <tr>\n",
       "      <th>95</th>\n",
       "      <td>num_actv_rev_tl</td>\n",
       "      <td>42538</td>\n",
       "      <td>100.000000</td>\n",
       "    </tr>\n",
       "    <tr>\n",
       "      <th>94</th>\n",
       "      <td>num_actv_bc_tl</td>\n",
       "      <td>42538</td>\n",
       "      <td>100.000000</td>\n",
       "    </tr>\n",
       "    <tr>\n",
       "      <th>93</th>\n",
       "      <td>num_accts_ever_120_pd</td>\n",
       "      <td>42538</td>\n",
       "      <td>100.000000</td>\n",
       "    </tr>\n",
       "    <tr>\n",
       "      <th>92</th>\n",
       "      <td>mths_since_recent_revol_delinq</td>\n",
       "      <td>42538</td>\n",
       "      <td>100.000000</td>\n",
       "    </tr>\n",
       "    <tr>\n",
       "      <th>91</th>\n",
       "      <td>mths_since_recent_inq</td>\n",
       "      <td>42538</td>\n",
       "      <td>100.000000</td>\n",
       "    </tr>\n",
       "    <tr>\n",
       "      <th>90</th>\n",
       "      <td>mths_since_recent_bc_dlq</td>\n",
       "      <td>42538</td>\n",
       "      <td>100.000000</td>\n",
       "    </tr>\n",
       "    <tr>\n",
       "      <th>89</th>\n",
       "      <td>mths_since_recent_bc</td>\n",
       "      <td>42538</td>\n",
       "      <td>100.000000</td>\n",
       "    </tr>\n",
       "    <tr>\n",
       "      <th>58</th>\n",
       "      <td>dti_joint</td>\n",
       "      <td>42538</td>\n",
       "      <td>100.000000</td>\n",
       "    </tr>\n",
       "    <tr>\n",
       "      <th>114</th>\n",
       "      <td>total_il_high_credit_limit</td>\n",
       "      <td>42538</td>\n",
       "      <td>100.000000</td>\n",
       "    </tr>\n",
       "    <tr>\n",
       "      <th>49</th>\n",
       "      <td>next_pymnt_d</td>\n",
       "      <td>39242</td>\n",
       "      <td>92.251634</td>\n",
       "    </tr>\n",
       "    <tr>\n",
       "      <th>31</th>\n",
       "      <td>mths_since_last_record</td>\n",
       "      <td>38887</td>\n",
       "      <td>91.417086</td>\n",
       "    </tr>\n",
       "    <tr>\n",
       "      <th>30</th>\n",
       "      <td>mths_since_last_delinq</td>\n",
       "      <td>26929</td>\n",
       "      <td>63.305750</td>\n",
       "    </tr>\n",
       "    <tr>\n",
       "      <th>19</th>\n",
       "      <td>desc</td>\n",
       "      <td>13296</td>\n",
       "      <td>31.256759</td>\n",
       "    </tr>\n",
       "    <tr>\n",
       "      <th>10</th>\n",
       "      <td>emp_title</td>\n",
       "      <td>2629</td>\n",
       "      <td>6.180356</td>\n",
       "    </tr>\n",
       "    <tr>\n",
       "      <th>109</th>\n",
       "      <td>pub_rec_bankruptcies</td>\n",
       "      <td>1368</td>\n",
       "      <td>3.215948</td>\n",
       "    </tr>\n",
       "    <tr>\n",
       "      <th>11</th>\n",
       "      <td>emp_length</td>\n",
       "      <td>1115</td>\n",
       "      <td>2.621186</td>\n",
       "    </tr>\n",
       "    <tr>\n",
       "      <th>53</th>\n",
       "      <td>collections_12_mths_ex_med</td>\n",
       "      <td>148</td>\n",
       "      <td>0.347924</td>\n",
       "    </tr>\n",
       "    <tr>\n",
       "      <th>82</th>\n",
       "      <td>chargeoff_within_12_mths</td>\n",
       "      <td>148</td>\n",
       "      <td>0.347924</td>\n",
       "    </tr>\n",
       "    <tr>\n",
       "      <th>110</th>\n",
       "      <td>tax_liens</td>\n",
       "      <td>108</td>\n",
       "      <td>0.253891</td>\n",
       "    </tr>\n",
       "    <tr>\n",
       "      <th>35</th>\n",
       "      <td>revol_util</td>\n",
       "      <td>93</td>\n",
       "      <td>0.218628</td>\n",
       "    </tr>\n",
       "    <tr>\n",
       "      <th>47</th>\n",
       "      <td>last_pymnt_d</td>\n",
       "      <td>86</td>\n",
       "      <td>0.202172</td>\n",
       "    </tr>\n",
       "    <tr>\n",
       "      <th>83</th>\n",
       "      <td>delinq_amnt</td>\n",
       "      <td>32</td>\n",
       "      <td>0.075227</td>\n",
       "    </tr>\n",
       "    <tr>\n",
       "      <th>36</th>\n",
       "      <td>total_acc</td>\n",
       "      <td>32</td>\n",
       "      <td>0.075227</td>\n",
       "    </tr>\n",
       "    <tr>\n",
       "      <th>25</th>\n",
       "      <td>delinq_2yrs</td>\n",
       "      <td>32</td>\n",
       "      <td>0.075227</td>\n",
       "    </tr>\n",
       "    <tr>\n",
       "      <th>32</th>\n",
       "      <td>open_acc</td>\n",
       "      <td>32</td>\n",
       "      <td>0.075227</td>\n",
       "    </tr>\n",
       "    <tr>\n",
       "      <th>33</th>\n",
       "      <td>pub_rec</td>\n",
       "      <td>32</td>\n",
       "      <td>0.075227</td>\n",
       "    </tr>\n",
       "    <tr>\n",
       "      <th>26</th>\n",
       "      <td>earliest_cr_line</td>\n",
       "      <td>32</td>\n",
       "      <td>0.075227</td>\n",
       "    </tr>\n",
       "    <tr>\n",
       "      <th>29</th>\n",
       "      <td>inq_last_6mths</td>\n",
       "      <td>32</td>\n",
       "      <td>0.075227</td>\n",
       "    </tr>\n",
       "    <tr>\n",
       "      <th>60</th>\n",
       "      <td>acc_now_delinq</td>\n",
       "      <td>32</td>\n",
       "      <td>0.075227</td>\n",
       "    </tr>\n",
       "    <tr>\n",
       "      <th>21</th>\n",
       "      <td>title</td>\n",
       "      <td>16</td>\n",
       "      <td>0.037613</td>\n",
       "    </tr>\n",
       "    <tr>\n",
       "      <th>13</th>\n",
       "      <td>annual_inc</td>\n",
       "      <td>7</td>\n",
       "      <td>0.016456</td>\n",
       "    </tr>\n",
       "    <tr>\n",
       "      <th>50</th>\n",
       "      <td>last_credit_pull_d</td>\n",
       "      <td>7</td>\n",
       "      <td>0.016456</td>\n",
       "    </tr>\n",
       "    <tr>\n",
       "      <th>18</th>\n",
       "      <td>url</td>\n",
       "      <td>3</td>\n",
       "      <td>0.007053</td>\n",
       "    </tr>\n",
       "    <tr>\n",
       "      <th>16</th>\n",
       "      <td>loan_status</td>\n",
       "      <td>3</td>\n",
       "      <td>0.007053</td>\n",
       "    </tr>\n",
       "    <tr>\n",
       "      <th>15</th>\n",
       "      <td>issue_d</td>\n",
       "      <td>3</td>\n",
       "      <td>0.007053</td>\n",
       "    </tr>\n",
       "    <tr>\n",
       "      <th>14</th>\n",
       "      <td>verification_status</td>\n",
       "      <td>3</td>\n",
       "      <td>0.007053</td>\n",
       "    </tr>\n",
       "    <tr>\n",
       "      <th>12</th>\n",
       "      <td>home_ownership</td>\n",
       "      <td>3</td>\n",
       "      <td>0.007053</td>\n",
       "    </tr>\n",
       "    <tr>\n",
       "      <th>51</th>\n",
       "      <td>last_fico_range_high</td>\n",
       "      <td>3</td>\n",
       "      <td>0.007053</td>\n",
       "    </tr>\n",
       "    <tr>\n",
       "      <th>52</th>\n",
       "      <td>last_fico_range_low</td>\n",
       "      <td>3</td>\n",
       "      <td>0.007053</td>\n",
       "    </tr>\n",
       "    <tr>\n",
       "      <th>9</th>\n",
       "      <td>sub_grade</td>\n",
       "      <td>3</td>\n",
       "      <td>0.007053</td>\n",
       "    </tr>\n",
       "    <tr>\n",
       "      <th>8</th>\n",
       "      <td>grade</td>\n",
       "      <td>3</td>\n",
       "      <td>0.007053</td>\n",
       "    </tr>\n",
       "    <tr>\n",
       "      <th>7</th>\n",
       "      <td>installment</td>\n",
       "      <td>3</td>\n",
       "      <td>0.007053</td>\n",
       "    </tr>\n",
       "    <tr>\n",
       "      <th>6</th>\n",
       "      <td>int_rate</td>\n",
       "      <td>3</td>\n",
       "      <td>0.007053</td>\n",
       "    </tr>\n",
       "    <tr>\n",
       "      <th>5</th>\n",
       "      <td>term</td>\n",
       "      <td>3</td>\n",
       "      <td>0.007053</td>\n",
       "    </tr>\n",
       "    <tr>\n",
       "      <th>1</th>\n",
       "      <td>member_id</td>\n",
       "      <td>3</td>\n",
       "      <td>0.007053</td>\n",
       "    </tr>\n",
       "    <tr>\n",
       "      <th>56</th>\n",
       "      <td>application_type</td>\n",
       "      <td>3</td>\n",
       "      <td>0.007053</td>\n",
       "    </tr>\n",
       "    <tr>\n",
       "      <th>4</th>\n",
       "      <td>funded_amnt_inv</td>\n",
       "      <td>3</td>\n",
       "      <td>0.007053</td>\n",
       "    </tr>\n",
       "    <tr>\n",
       "      <th>3</th>\n",
       "      <td>funded_amnt</td>\n",
       "      <td>3</td>\n",
       "      <td>0.007053</td>\n",
       "    </tr>\n",
       "    <tr>\n",
       "      <th>2</th>\n",
       "      <td>loan_amnt</td>\n",
       "      <td>3</td>\n",
       "      <td>0.007053</td>\n",
       "    </tr>\n",
       "    <tr>\n",
       "      <th>17</th>\n",
       "      <td>pymnt_plan</td>\n",
       "      <td>3</td>\n",
       "      <td>0.007053</td>\n",
       "    </tr>\n",
       "    <tr>\n",
       "      <th>38</th>\n",
       "      <td>out_prncp</td>\n",
       "      <td>3</td>\n",
       "      <td>0.007053</td>\n",
       "    </tr>\n",
       "    <tr>\n",
       "      <th>37</th>\n",
       "      <td>initial_list_status</td>\n",
       "      <td>3</td>\n",
       "      <td>0.007053</td>\n",
       "    </tr>\n",
       "    <tr>\n",
       "      <th>45</th>\n",
       "      <td>recoveries</td>\n",
       "      <td>3</td>\n",
       "      <td>0.007053</td>\n",
       "    </tr>\n",
       "    <tr>\n",
       "      <th>39</th>\n",
       "      <td>out_prncp_inv</td>\n",
       "      <td>3</td>\n",
       "      <td>0.007053</td>\n",
       "    </tr>\n",
       "    <tr>\n",
       "      <th>40</th>\n",
       "      <td>total_pymnt</td>\n",
       "      <td>3</td>\n",
       "      <td>0.007053</td>\n",
       "    </tr>\n",
       "    <tr>\n",
       "      <th>34</th>\n",
       "      <td>revol_bal</td>\n",
       "      <td>3</td>\n",
       "      <td>0.007053</td>\n",
       "    </tr>\n",
       "    <tr>\n",
       "      <th>41</th>\n",
       "      <td>total_pymnt_inv</td>\n",
       "      <td>3</td>\n",
       "      <td>0.007053</td>\n",
       "    </tr>\n",
       "    <tr>\n",
       "      <th>42</th>\n",
       "      <td>total_rec_prncp</td>\n",
       "      <td>3</td>\n",
       "      <td>0.007053</td>\n",
       "    </tr>\n",
       "    <tr>\n",
       "      <th>43</th>\n",
       "      <td>total_rec_int</td>\n",
       "      <td>3</td>\n",
       "      <td>0.007053</td>\n",
       "    </tr>\n",
       "    <tr>\n",
       "      <th>44</th>\n",
       "      <td>total_rec_late_fee</td>\n",
       "      <td>3</td>\n",
       "      <td>0.007053</td>\n",
       "    </tr>\n",
       "    <tr>\n",
       "      <th>46</th>\n",
       "      <td>collection_recovery_fee</td>\n",
       "      <td>3</td>\n",
       "      <td>0.007053</td>\n",
       "    </tr>\n",
       "    <tr>\n",
       "      <th>20</th>\n",
       "      <td>purpose</td>\n",
       "      <td>3</td>\n",
       "      <td>0.007053</td>\n",
       "    </tr>\n",
       "    <tr>\n",
       "      <th>55</th>\n",
       "      <td>policy_code</td>\n",
       "      <td>3</td>\n",
       "      <td>0.007053</td>\n",
       "    </tr>\n",
       "    <tr>\n",
       "      <th>28</th>\n",
       "      <td>fico_range_high</td>\n",
       "      <td>3</td>\n",
       "      <td>0.007053</td>\n",
       "    </tr>\n",
       "    <tr>\n",
       "      <th>27</th>\n",
       "      <td>fico_range_low</td>\n",
       "      <td>3</td>\n",
       "      <td>0.007053</td>\n",
       "    </tr>\n",
       "    <tr>\n",
       "      <th>48</th>\n",
       "      <td>last_pymnt_amnt</td>\n",
       "      <td>3</td>\n",
       "      <td>0.007053</td>\n",
       "    </tr>\n",
       "    <tr>\n",
       "      <th>24</th>\n",
       "      <td>dti</td>\n",
       "      <td>3</td>\n",
       "      <td>0.007053</td>\n",
       "    </tr>\n",
       "    <tr>\n",
       "      <th>23</th>\n",
       "      <td>addr_state</td>\n",
       "      <td>3</td>\n",
       "      <td>0.007053</td>\n",
       "    </tr>\n",
       "    <tr>\n",
       "      <th>22</th>\n",
       "      <td>zip_code</td>\n",
       "      <td>3</td>\n",
       "      <td>0.007053</td>\n",
       "    </tr>\n",
       "    <tr>\n",
       "      <th>0</th>\n",
       "      <td>id</td>\n",
       "      <td>0</td>\n",
       "      <td>0.000000</td>\n",
       "    </tr>\n",
       "  </tbody>\n",
       "</table>\n",
       "</div>"
      ],
      "text/plain": [
       "                           Features  Null values  % Null values\n",
       "57                 annual_inc_joint        42538     100.000000\n",
       "86            mo_sin_rcnt_rev_tl_op        42538     100.000000\n",
       "84               mo_sin_old_il_acct        42538     100.000000\n",
       "81                          bc_util        42538     100.000000\n",
       "80                   bc_open_to_buy        42538     100.000000\n",
       "79                      avg_cur_bal        42538     100.000000\n",
       "78             acc_open_past_24mths        42538     100.000000\n",
       "77                     inq_last_12m        42538     100.000000\n",
       "76                      total_cu_tl        42538     100.000000\n",
       "75                           inq_fi        42538     100.000000\n",
       "74                 total_rev_hi_lim        42538     100.000000\n",
       "73                         all_util        42538     100.000000\n",
       "72                       max_bal_bc        42538     100.000000\n",
       "71                      open_rv_24m        42538     100.000000\n",
       "70                      open_rv_12m        42538     100.000000\n",
       "69                          il_util        42538     100.000000\n",
       "68                     total_bal_il        42538     100.000000\n",
       "67               mths_since_rcnt_il        42538     100.000000\n",
       "66                      open_il_24m        42538     100.000000\n",
       "65                      open_il_12m        42538     100.000000\n",
       "64                       open_il_6m        42538     100.000000\n",
       "63                      open_acc_6m        42538     100.000000\n",
       "62                      tot_cur_bal        42538     100.000000\n",
       "61                     tot_coll_amt        42538     100.000000\n",
       "59        verification_status_joint        42538     100.000000\n",
       "85             mo_sin_old_rev_tl_op        42538     100.000000\n",
       "87                   mo_sin_rcnt_tl        42538     100.000000\n",
       "54      mths_since_last_major_derog        42538     100.000000\n",
       "88                         mort_acc        42538     100.000000\n",
       "113                  total_bc_limit        42538     100.000000\n",
       "112               total_bal_ex_mort        42538     100.000000\n",
       "111                 tot_hi_cred_lim        42538     100.000000\n",
       "108                percent_bc_gt_75        42538     100.000000\n",
       "107                  pct_tl_nvr_dlq        42538     100.000000\n",
       "106              num_tl_op_past_12m        42538     100.000000\n",
       "105              num_tl_90g_dpd_24m        42538     100.000000\n",
       "104                    num_tl_30dpd        42538     100.000000\n",
       "103                num_tl_120dpd_2m        42538     100.000000\n",
       "102                        num_sats        42538     100.000000\n",
       "101             num_rev_tl_bal_gt_0        42538     100.000000\n",
       "100                   num_rev_accts        42538     100.000000\n",
       "99                    num_op_rev_tl        42538     100.000000\n",
       "98                        num_il_tl        42538     100.000000\n",
       "97                        num_bc_tl        42538     100.000000\n",
       "96                      num_bc_sats        42538     100.000000\n",
       "95                  num_actv_rev_tl        42538     100.000000\n",
       "94                   num_actv_bc_tl        42538     100.000000\n",
       "93            num_accts_ever_120_pd        42538     100.000000\n",
       "92   mths_since_recent_revol_delinq        42538     100.000000\n",
       "91            mths_since_recent_inq        42538     100.000000\n",
       "90         mths_since_recent_bc_dlq        42538     100.000000\n",
       "89             mths_since_recent_bc        42538     100.000000\n",
       "58                        dti_joint        42538     100.000000\n",
       "114      total_il_high_credit_limit        42538     100.000000\n",
       "49                     next_pymnt_d        39242      92.251634\n",
       "31           mths_since_last_record        38887      91.417086\n",
       "30           mths_since_last_delinq        26929      63.305750\n",
       "19                             desc        13296      31.256759\n",
       "10                        emp_title         2629       6.180356\n",
       "109            pub_rec_bankruptcies         1368       3.215948\n",
       "11                       emp_length         1115       2.621186\n",
       "53       collections_12_mths_ex_med          148       0.347924\n",
       "82         chargeoff_within_12_mths          148       0.347924\n",
       "110                       tax_liens          108       0.253891\n",
       "35                       revol_util           93       0.218628\n",
       "47                     last_pymnt_d           86       0.202172\n",
       "83                      delinq_amnt           32       0.075227\n",
       "36                        total_acc           32       0.075227\n",
       "25                      delinq_2yrs           32       0.075227\n",
       "32                         open_acc           32       0.075227\n",
       "33                          pub_rec           32       0.075227\n",
       "26                 earliest_cr_line           32       0.075227\n",
       "29                   inq_last_6mths           32       0.075227\n",
       "60                   acc_now_delinq           32       0.075227\n",
       "21                            title           16       0.037613\n",
       "13                       annual_inc            7       0.016456\n",
       "50               last_credit_pull_d            7       0.016456\n",
       "18                              url            3       0.007053\n",
       "16                      loan_status            3       0.007053\n",
       "15                          issue_d            3       0.007053\n",
       "14              verification_status            3       0.007053\n",
       "12                   home_ownership            3       0.007053\n",
       "51             last_fico_range_high            3       0.007053\n",
       "52              last_fico_range_low            3       0.007053\n",
       "9                         sub_grade            3       0.007053\n",
       "8                             grade            3       0.007053\n",
       "7                       installment            3       0.007053\n",
       "6                          int_rate            3       0.007053\n",
       "5                              term            3       0.007053\n",
       "1                         member_id            3       0.007053\n",
       "56                 application_type            3       0.007053\n",
       "4                   funded_amnt_inv            3       0.007053\n",
       "3                       funded_amnt            3       0.007053\n",
       "2                         loan_amnt            3       0.007053\n",
       "17                       pymnt_plan            3       0.007053\n",
       "38                        out_prncp            3       0.007053\n",
       "37              initial_list_status            3       0.007053\n",
       "45                       recoveries            3       0.007053\n",
       "39                    out_prncp_inv            3       0.007053\n",
       "40                      total_pymnt            3       0.007053\n",
       "34                        revol_bal            3       0.007053\n",
       "41                  total_pymnt_inv            3       0.007053\n",
       "42                  total_rec_prncp            3       0.007053\n",
       "43                    total_rec_int            3       0.007053\n",
       "44               total_rec_late_fee            3       0.007053\n",
       "46          collection_recovery_fee            3       0.007053\n",
       "20                          purpose            3       0.007053\n",
       "55                      policy_code            3       0.007053\n",
       "28                  fico_range_high            3       0.007053\n",
       "27                   fico_range_low            3       0.007053\n",
       "48                  last_pymnt_amnt            3       0.007053\n",
       "24                              dti            3       0.007053\n",
       "23                       addr_state            3       0.007053\n",
       "22                         zip_code            3       0.007053\n",
       "0                                id            0       0.000000"
      ]
     },
     "execution_count": 22,
     "metadata": {},
     "output_type": "execute_result"
    }
   ],
   "source": [
    "pd.set_option('display.max_rows', 120)\n",
    "def nul_calcul(df):\n",
    "    null_df=pd.DataFrame()\n",
    "    null_df['Features']=df.isnull().sum().index\n",
    "    null_df['Null values']=df.isnull().sum().values\n",
    "    null_df['% Null values']=(df.isnull().sum().values / df.shape[0])*100\n",
    "    return null_df.sort_values(by='% Null values',ascending=False)\n",
    "nul_calcul(df)"
   ]
  },
  {
   "cell_type": "code",
   "execution_count": 23,
   "id": "0cb06397",
   "metadata": {},
   "outputs": [
    {
     "data": {
      "text/plain": [
       "<AxesSubplot:>"
      ]
     },
     "execution_count": 23,
     "metadata": {},
     "output_type": "execute_result"
    },
    {
     "data": {
      "image/png": "[encoded data removed]",
      "text/plain": [
       "<Figure size 432x288 with 2 Axes>"
      ]
     },
     "metadata": {
      "needs_background": "light"
     },
     "output_type": "display_data"
    }
   ],
   "source": [
    "sns.heatmap(df.isnull(),cmap=\"viridis_r\")"
   ]
  },
  {
   "cell_type": "markdown",
   "id": "e645ce24",
   "metadata": {},
   "source": [
    "#### **Elimination of Variables with 100% Missing Values**"
   ]
  },
  {
   "cell_type": "code",
   "execution_count": 24,
   "id": "d7c982b8",
   "metadata": {},
   "outputs": [],
   "source": [
    "fnulls= (df.isnull().sum().values / df.shape[0])*100\n",
    "dft= df.dropna( axis=1, thresh=fnulls)"
   ]
  },
  {
   "cell_type": "code",
   "execution_count": 25,
   "id": "62ab1fd0",
   "metadata": {},
   "outputs": [
    {
     "data": {
      "text/plain": [
       "(42538, 61)"
      ]
     },
     "execution_count": 25,
     "metadata": {},
     "output_type": "execute_result"
    }
   ],
   "source": [
    "dft.shape"
   ]
  },
  {
   "cell_type": "code",
   "execution_count": 26,
   "id": "2a005521",
   "metadata": {},
   "outputs": [
    {
     "data": {
      "text/plain": [
       "<AxesSubplot:>"
      ]
     },
     "execution_count": 26,
     "metadata": {},
     "output_type": "execute_result"
    },
    {
     "data": {
      "image/png": "[encoded data removed]",
      "text/plain": [
       "<Figure size 432x288 with 2 Axes>"
      ]
     },
     "metadata": {
      "needs_background": "light"
     },
     "output_type": "display_data"
    }
   ],
   "source": [
    "sns.heatmap(dft.isnull(),cmap=\"viridis_r\")"
   ]
  },
  {
   "cell_type": "code",
   "execution_count": 27,
   "id": "a6731147",
   "metadata": {},
   "outputs": [
    {
     "data": {
      "text/html": [
       "<div>\n",
       "<style scoped>\n",
       "    .dataframe tbody tr th:only-of-type {\n",
       "        vertical-align: middle;\n",
       "    }\n",
       "\n",
       "    .dataframe tbody tr th {\n",
       "        vertical-align: top;\n",
       "    }\n",
       "\n",
       "    .dataframe thead th {\n",
       "        text-align: right;\n",
       "    }\n",
       "</style>\n",
       "<table border=\"1\" class=\"dataframe\">\n",
       "  <thead>\n",
       "    <tr style=\"text-align: right;\">\n",
       "      <th></th>\n",
       "      <th>Features</th>\n",
       "      <th>Null values</th>\n",
       "      <th>% Null values</th>\n",
       "    </tr>\n",
       "  </thead>\n",
       "  <tbody>\n",
       "    <tr>\n",
       "      <th>49</th>\n",
       "      <td>next_pymnt_d</td>\n",
       "      <td>39242</td>\n",
       "      <td>92.251634</td>\n",
       "    </tr>\n",
       "    <tr>\n",
       "      <th>31</th>\n",
       "      <td>mths_since_last_record</td>\n",
       "      <td>38887</td>\n",
       "      <td>91.417086</td>\n",
       "    </tr>\n",
       "    <tr>\n",
       "      <th>30</th>\n",
       "      <td>mths_since_last_delinq</td>\n",
       "      <td>26929</td>\n",
       "      <td>63.305750</td>\n",
       "    </tr>\n",
       "    <tr>\n",
       "      <th>19</th>\n",
       "      <td>desc</td>\n",
       "      <td>13296</td>\n",
       "      <td>31.256759</td>\n",
       "    </tr>\n",
       "    <tr>\n",
       "      <th>10</th>\n",
       "      <td>emp_title</td>\n",
       "      <td>2629</td>\n",
       "      <td>6.180356</td>\n",
       "    </tr>\n",
       "    <tr>\n",
       "      <th>59</th>\n",
       "      <td>pub_rec_bankruptcies</td>\n",
       "      <td>1368</td>\n",
       "      <td>3.215948</td>\n",
       "    </tr>\n",
       "    <tr>\n",
       "      <th>11</th>\n",
       "      <td>emp_length</td>\n",
       "      <td>1115</td>\n",
       "      <td>2.621186</td>\n",
       "    </tr>\n",
       "    <tr>\n",
       "      <th>57</th>\n",
       "      <td>chargeoff_within_12_mths</td>\n",
       "      <td>148</td>\n",
       "      <td>0.347924</td>\n",
       "    </tr>\n",
       "    <tr>\n",
       "      <th>53</th>\n",
       "      <td>collections_12_mths_ex_med</td>\n",
       "      <td>148</td>\n",
       "      <td>0.347924</td>\n",
       "    </tr>\n",
       "    <tr>\n",
       "      <th>60</th>\n",
       "      <td>tax_liens</td>\n",
       "      <td>108</td>\n",
       "      <td>0.253891</td>\n",
       "    </tr>\n",
       "    <tr>\n",
       "      <th>35</th>\n",
       "      <td>revol_util</td>\n",
       "      <td>93</td>\n",
       "      <td>0.218628</td>\n",
       "    </tr>\n",
       "    <tr>\n",
       "      <th>47</th>\n",
       "      <td>last_pymnt_d</td>\n",
       "      <td>86</td>\n",
       "      <td>0.202172</td>\n",
       "    </tr>\n",
       "    <tr>\n",
       "      <th>56</th>\n",
       "      <td>acc_now_delinq</td>\n",
       "      <td>32</td>\n",
       "      <td>0.075227</td>\n",
       "    </tr>\n",
       "    <tr>\n",
       "      <th>26</th>\n",
       "      <td>earliest_cr_line</td>\n",
       "      <td>32</td>\n",
       "      <td>0.075227</td>\n",
       "    </tr>\n",
       "    <tr>\n",
       "      <th>25</th>\n",
       "      <td>delinq_2yrs</td>\n",
       "      <td>32</td>\n",
       "      <td>0.075227</td>\n",
       "    </tr>\n",
       "    <tr>\n",
       "      <th>32</th>\n",
       "      <td>open_acc</td>\n",
       "      <td>32</td>\n",
       "      <td>0.075227</td>\n",
       "    </tr>\n",
       "    <tr>\n",
       "      <th>33</th>\n",
       "      <td>pub_rec</td>\n",
       "      <td>32</td>\n",
       "      <td>0.075227</td>\n",
       "    </tr>\n",
       "    <tr>\n",
       "      <th>36</th>\n",
       "      <td>total_acc</td>\n",
       "      <td>32</td>\n",
       "      <td>0.075227</td>\n",
       "    </tr>\n",
       "    <tr>\n",
       "      <th>58</th>\n",
       "      <td>delinq_amnt</td>\n",
       "      <td>32</td>\n",
       "      <td>0.075227</td>\n",
       "    </tr>\n",
       "    <tr>\n",
       "      <th>29</th>\n",
       "      <td>inq_last_6mths</td>\n",
       "      <td>32</td>\n",
       "      <td>0.075227</td>\n",
       "    </tr>\n",
       "    <tr>\n",
       "      <th>21</th>\n",
       "      <td>title</td>\n",
       "      <td>16</td>\n",
       "      <td>0.037613</td>\n",
       "    </tr>\n",
       "    <tr>\n",
       "      <th>50</th>\n",
       "      <td>last_credit_pull_d</td>\n",
       "      <td>7</td>\n",
       "      <td>0.016456</td>\n",
       "    </tr>\n",
       "    <tr>\n",
       "      <th>13</th>\n",
       "      <td>annual_inc</td>\n",
       "      <td>7</td>\n",
       "      <td>0.016456</td>\n",
       "    </tr>\n",
       "    <tr>\n",
       "      <th>43</th>\n",
       "      <td>total_rec_int</td>\n",
       "      <td>3</td>\n",
       "      <td>0.007053</td>\n",
       "    </tr>\n",
       "    <tr>\n",
       "      <th>44</th>\n",
       "      <td>total_rec_late_fee</td>\n",
       "      <td>3</td>\n",
       "      <td>0.007053</td>\n",
       "    </tr>\n",
       "    <tr>\n",
       "      <th>45</th>\n",
       "      <td>recoveries</td>\n",
       "      <td>3</td>\n",
       "      <td>0.007053</td>\n",
       "    </tr>\n",
       "    <tr>\n",
       "      <th>46</th>\n",
       "      <td>collection_recovery_fee</td>\n",
       "      <td>3</td>\n",
       "      <td>0.007053</td>\n",
       "    </tr>\n",
       "    <tr>\n",
       "      <th>42</th>\n",
       "      <td>total_rec_prncp</td>\n",
       "      <td>3</td>\n",
       "      <td>0.007053</td>\n",
       "    </tr>\n",
       "    <tr>\n",
       "      <th>5</th>\n",
       "      <td>term</td>\n",
       "      <td>3</td>\n",
       "      <td>0.007053</td>\n",
       "    </tr>\n",
       "    <tr>\n",
       "      <th>48</th>\n",
       "      <td>last_pymnt_amnt</td>\n",
       "      <td>3</td>\n",
       "      <td>0.007053</td>\n",
       "    </tr>\n",
       "    <tr>\n",
       "      <th>40</th>\n",
       "      <td>total_pymnt</td>\n",
       "      <td>3</td>\n",
       "      <td>0.007053</td>\n",
       "    </tr>\n",
       "    <tr>\n",
       "      <th>51</th>\n",
       "      <td>last_fico_range_high</td>\n",
       "      <td>3</td>\n",
       "      <td>0.007053</td>\n",
       "    </tr>\n",
       "    <tr>\n",
       "      <th>52</th>\n",
       "      <td>last_fico_range_low</td>\n",
       "      <td>3</td>\n",
       "      <td>0.007053</td>\n",
       "    </tr>\n",
       "    <tr>\n",
       "      <th>4</th>\n",
       "      <td>funded_amnt_inv</td>\n",
       "      <td>3</td>\n",
       "      <td>0.007053</td>\n",
       "    </tr>\n",
       "    <tr>\n",
       "      <th>54</th>\n",
       "      <td>policy_code</td>\n",
       "      <td>3</td>\n",
       "      <td>0.007053</td>\n",
       "    </tr>\n",
       "    <tr>\n",
       "      <th>55</th>\n",
       "      <td>application_type</td>\n",
       "      <td>3</td>\n",
       "      <td>0.007053</td>\n",
       "    </tr>\n",
       "    <tr>\n",
       "      <th>3</th>\n",
       "      <td>funded_amnt</td>\n",
       "      <td>3</td>\n",
       "      <td>0.007053</td>\n",
       "    </tr>\n",
       "    <tr>\n",
       "      <th>2</th>\n",
       "      <td>loan_amnt</td>\n",
       "      <td>3</td>\n",
       "      <td>0.007053</td>\n",
       "    </tr>\n",
       "    <tr>\n",
       "      <th>41</th>\n",
       "      <td>total_pymnt_inv</td>\n",
       "      <td>3</td>\n",
       "      <td>0.007053</td>\n",
       "    </tr>\n",
       "    <tr>\n",
       "      <th>9</th>\n",
       "      <td>sub_grade</td>\n",
       "      <td>3</td>\n",
       "      <td>0.007053</td>\n",
       "    </tr>\n",
       "    <tr>\n",
       "      <th>39</th>\n",
       "      <td>out_prncp_inv</td>\n",
       "      <td>3</td>\n",
       "      <td>0.007053</td>\n",
       "    </tr>\n",
       "    <tr>\n",
       "      <th>22</th>\n",
       "      <td>zip_code</td>\n",
       "      <td>3</td>\n",
       "      <td>0.007053</td>\n",
       "    </tr>\n",
       "    <tr>\n",
       "      <th>12</th>\n",
       "      <td>home_ownership</td>\n",
       "      <td>3</td>\n",
       "      <td>0.007053</td>\n",
       "    </tr>\n",
       "    <tr>\n",
       "      <th>14</th>\n",
       "      <td>verification_status</td>\n",
       "      <td>3</td>\n",
       "      <td>0.007053</td>\n",
       "    </tr>\n",
       "    <tr>\n",
       "      <th>15</th>\n",
       "      <td>issue_d</td>\n",
       "      <td>3</td>\n",
       "      <td>0.007053</td>\n",
       "    </tr>\n",
       "    <tr>\n",
       "      <th>16</th>\n",
       "      <td>loan_status</td>\n",
       "      <td>3</td>\n",
       "      <td>0.007053</td>\n",
       "    </tr>\n",
       "    <tr>\n",
       "      <th>17</th>\n",
       "      <td>pymnt_plan</td>\n",
       "      <td>3</td>\n",
       "      <td>0.007053</td>\n",
       "    </tr>\n",
       "    <tr>\n",
       "      <th>18</th>\n",
       "      <td>url</td>\n",
       "      <td>3</td>\n",
       "      <td>0.007053</td>\n",
       "    </tr>\n",
       "    <tr>\n",
       "      <th>7</th>\n",
       "      <td>installment</td>\n",
       "      <td>3</td>\n",
       "      <td>0.007053</td>\n",
       "    </tr>\n",
       "    <tr>\n",
       "      <th>20</th>\n",
       "      <td>purpose</td>\n",
       "      <td>3</td>\n",
       "      <td>0.007053</td>\n",
       "    </tr>\n",
       "    <tr>\n",
       "      <th>23</th>\n",
       "      <td>addr_state</td>\n",
       "      <td>3</td>\n",
       "      <td>0.007053</td>\n",
       "    </tr>\n",
       "    <tr>\n",
       "      <th>38</th>\n",
       "      <td>out_prncp</td>\n",
       "      <td>3</td>\n",
       "      <td>0.007053</td>\n",
       "    </tr>\n",
       "    <tr>\n",
       "      <th>24</th>\n",
       "      <td>dti</td>\n",
       "      <td>3</td>\n",
       "      <td>0.007053</td>\n",
       "    </tr>\n",
       "    <tr>\n",
       "      <th>27</th>\n",
       "      <td>fico_range_low</td>\n",
       "      <td>3</td>\n",
       "      <td>0.007053</td>\n",
       "    </tr>\n",
       "    <tr>\n",
       "      <th>28</th>\n",
       "      <td>fico_range_high</td>\n",
       "      <td>3</td>\n",
       "      <td>0.007053</td>\n",
       "    </tr>\n",
       "    <tr>\n",
       "      <th>1</th>\n",
       "      <td>member_id</td>\n",
       "      <td>3</td>\n",
       "      <td>0.007053</td>\n",
       "    </tr>\n",
       "    <tr>\n",
       "      <th>6</th>\n",
       "      <td>int_rate</td>\n",
       "      <td>3</td>\n",
       "      <td>0.007053</td>\n",
       "    </tr>\n",
       "    <tr>\n",
       "      <th>34</th>\n",
       "      <td>revol_bal</td>\n",
       "      <td>3</td>\n",
       "      <td>0.007053</td>\n",
       "    </tr>\n",
       "    <tr>\n",
       "      <th>8</th>\n",
       "      <td>grade</td>\n",
       "      <td>3</td>\n",
       "      <td>0.007053</td>\n",
       "    </tr>\n",
       "    <tr>\n",
       "      <th>37</th>\n",
       "      <td>initial_list_status</td>\n",
       "      <td>3</td>\n",
       "      <td>0.007053</td>\n",
       "    </tr>\n",
       "    <tr>\n",
       "      <th>0</th>\n",
       "      <td>id</td>\n",
       "      <td>0</td>\n",
       "      <td>0.000000</td>\n",
       "    </tr>\n",
       "  </tbody>\n",
       "</table>\n",
       "</div>"
      ],
      "text/plain": [
       "                      Features  Null values  % Null values\n",
       "49                next_pymnt_d        39242      92.251634\n",
       "31      mths_since_last_record        38887      91.417086\n",
       "30      mths_since_last_delinq        26929      63.305750\n",
       "19                        desc        13296      31.256759\n",
       "10                   emp_title         2629       6.180356\n",
       "59        pub_rec_bankruptcies         1368       3.215948\n",
       "11                  emp_length         1115       2.621186\n",
       "57    chargeoff_within_12_mths          148       0.347924\n",
       "53  collections_12_mths_ex_med          148       0.347924\n",
       "60                   tax_liens          108       0.253891\n",
       "35                  revol_util           93       0.218628\n",
       "47                last_pymnt_d           86       0.202172\n",
       "56              acc_now_delinq           32       0.075227\n",
       "26            earliest_cr_line           32       0.075227\n",
       "25                 delinq_2yrs           32       0.075227\n",
       "32                    open_acc           32       0.075227\n",
       "33                     pub_rec           32       0.075227\n",
       "36                   total_acc           32       0.075227\n",
       "58                 delinq_amnt           32       0.075227\n",
       "29              inq_last_6mths           32       0.075227\n",
       "21                       title           16       0.037613\n",
       "50          last_credit_pull_d            7       0.016456\n",
       "13                  annual_inc            7       0.016456\n",
       "43               total_rec_int            3       0.007053\n",
       "44          total_rec_late_fee            3       0.007053\n",
       "45                  recoveries            3       0.007053\n",
       "46     collection_recovery_fee            3       0.007053\n",
       "42             total_rec_prncp            3       0.007053\n",
       "5                         term            3       0.007053\n",
       "48             last_pymnt_amnt            3       0.007053\n",
       "40                 total_pymnt            3       0.007053\n",
       "51        last_fico_range_high            3       0.007053\n",
       "52         last_fico_range_low            3       0.007053\n",
       "4              funded_amnt_inv            3       0.007053\n",
       "54                 policy_code            3       0.007053\n",
       "55            application_type            3       0.007053\n",
       "3                  funded_amnt            3       0.007053\n",
       "2                    loan_amnt            3       0.007053\n",
       "41             total_pymnt_inv            3       0.007053\n",
       "9                    sub_grade            3       0.007053\n",
       "39               out_prncp_inv            3       0.007053\n",
       "22                    zip_code            3       0.007053\n",
       "12              home_ownership            3       0.007053\n",
       "14         verification_status            3       0.007053\n",
       "15                     issue_d            3       0.007053\n",
       "16                 loan_status            3       0.007053\n",
       "17                  pymnt_plan            3       0.007053\n",
       "18                         url            3       0.007053\n",
       "7                  installment            3       0.007053\n",
       "20                     purpose            3       0.007053\n",
       "23                  addr_state            3       0.007053\n",
       "38                   out_prncp            3       0.007053\n",
       "24                         dti            3       0.007053\n",
       "27              fico_range_low            3       0.007053\n",
       "28             fico_range_high            3       0.007053\n",
       "1                    member_id            3       0.007053\n",
       "6                     int_rate            3       0.007053\n",
       "34                   revol_bal            3       0.007053\n",
       "8                        grade            3       0.007053\n",
       "37         initial_list_status            3       0.007053\n",
       "0                           id            0       0.000000"
      ]
     },
     "execution_count": 27,
     "metadata": {},
     "output_type": "execute_result"
    }
   ],
   "source": [
    "nul_calcul(dft)"
   ]
  },
  {
   "cell_type": "markdown",
   "id": "ff52e25b",
   "metadata": {},
   "source": [
    "#### **Tha leaves us with 61 variables from 115  that means  54 variables are deleted**"
   ]
  },
  {
   "cell_type": "markdown",
   "id": "f1fc9214",
   "metadata": {},
   "source": [
    "### Importing Dictionnary of variables for better understanding \n",
    "\n",
    "#### loading just non null variables from dft "
   ]
  },
  {
   "cell_type": "code",
   "execution_count": 28,
   "id": "d891ffaa",
   "metadata": {},
   "outputs": [
    {
     "data": {
      "text/plain": [
       "Index(['id', 'member_id', 'loan_amnt', 'funded_amnt', 'funded_amnt_inv',\n",
       "       'term', 'int_rate', 'installment', 'grade', 'sub_grade', 'emp_title',\n",
       "       'emp_length', 'home_ownership', 'annual_inc', 'verification_status',\n",
       "       'issue_d', 'loan_status', 'pymnt_plan', 'url', 'desc', 'purpose',\n",
       "       'title', 'zip_code', 'addr_state', 'dti', 'delinq_2yrs',\n",
       "       'earliest_cr_line', 'fico_range_low', 'fico_range_high',\n",
       "       'inq_last_6mths', 'mths_since_last_delinq', 'mths_since_last_record',\n",
       "       'open_acc', 'pub_rec', 'revol_bal', 'revol_util', 'total_acc',\n",
       "       'initial_list_status', 'out_prncp', 'out_prncp_inv', 'total_pymnt',\n",
       "       'total_pymnt_inv', 'total_rec_prncp', 'total_rec_int',\n",
       "       'total_rec_late_fee', 'recoveries', 'collection_recovery_fee',\n",
       "       'last_pymnt_d', 'last_pymnt_amnt', 'next_pymnt_d', 'last_credit_pull_d',\n",
       "       'last_fico_range_high', 'last_fico_range_low',\n",
       "       'collections_12_mths_ex_med', 'policy_code', 'application_type',\n",
       "       'acc_now_delinq', 'chargeoff_within_12_mths', 'delinq_amnt',\n",
       "       'pub_rec_bankruptcies', 'tax_liens'],\n",
       "      dtype='object')"
      ]
     },
     "execution_count": 28,
     "metadata": {},
     "output_type": "execute_result"
    }
   ],
   "source": [
    "dft.columns"
   ]
  },
  {
   "cell_type": "code",
   "execution_count": 29,
   "id": "b252ea58",
   "metadata": {},
   "outputs": [],
   "source": [
    "dsf=pd.set_option('display.max_colwidth', None)\n",
    "dsf = pd.read_csv('LCDataDictionary.csv',sep=',')\n",
    "dsf.set_index(\"LoanStatNew\", inplace=True)\n",
    "dfd=dsf.loc[['id', 'member_id', 'loan_amnt', 'funded_amnt', 'funded_amnt_inv',\n",
    "       'term', 'int_rate', 'installment', 'grade', 'sub_grade', 'emp_title',\n",
    "       'emp_length', 'home_ownership', 'annual_inc', 'verification_status',\n",
    "       'issue_d', 'loan_status', 'pymnt_plan', 'url', 'desc', 'purpose',\n",
    "       'title', 'zip_code', 'addr_state', 'dti', 'delinq_2yrs',\n",
    "       'earliest_cr_line', 'fico_range_low', 'fico_range_high',\n",
    "       'inq_last_6mths', 'mths_since_last_delinq', 'mths_since_last_record',\n",
    "       'open_acc', 'pub_rec', 'revol_bal', 'revol_util', 'total_acc',\n",
    "       'initial_list_status', 'out_prncp', 'out_prncp_inv', 'total_pymnt',\n",
    "       'total_pymnt_inv', 'total_rec_prncp', 'total_rec_int',\n",
    "       'total_rec_late_fee', 'recoveries', 'collection_recovery_fee',\n",
    "       'last_pymnt_d', 'last_pymnt_amnt', 'next_pymnt_d', 'last_credit_pull_d',\n",
    "       'last_fico_range_high', 'last_fico_range_low',\n",
    "       'collections_12_mths_ex_med', 'policy_code', 'application_type',\n",
    "       'acc_now_delinq', 'chargeoff_within_12_mths', 'delinq_amnt',\n",
    "       'pub_rec_bankruptcies', 'tax_liens']]"
   ]
  },
  {
   "cell_type": "markdown",
   "id": "f742e3b6",
   "metadata": {},
   "source": [
    "#### loading the dictionnary partially in a df called dsf with non null columns"
   ]
  },
  {
   "cell_type": "code",
   "execution_count": 30,
   "id": "503da275",
   "metadata": {},
   "outputs": [
    {
     "data": {
      "text/html": [
       "<div>\n",
       "<style scoped>\n",
       "    .dataframe tbody tr th:only-of-type {\n",
       "        vertical-align: middle;\n",
       "    }\n",
       "\n",
       "    .dataframe tbody tr th {\n",
       "        vertical-align: top;\n",
       "    }\n",
       "\n",
       "    .dataframe thead th {\n",
       "        text-align: right;\n",
       "    }\n",
       "</style>\n",
       "<table border=\"1\" class=\"dataframe\">\n",
       "  <thead>\n",
       "    <tr style=\"text-align: right;\">\n",
       "      <th></th>\n",
       "      <th>Description</th>\n",
       "    </tr>\n",
       "    <tr>\n",
       "      <th>LoanStatNew</th>\n",
       "      <th></th>\n",
       "    </tr>\n",
       "  </thead>\n",
       "  <tbody>\n",
       "    <tr>\n",
       "      <th>id</th>\n",
       "      <td>A unique LC assigned ID for the loan listing.</td>\n",
       "    </tr>\n",
       "    <tr>\n",
       "      <th>member_id</th>\n",
       "      <td>A unique LC assigned Id for the borrower member.</td>\n",
       "    </tr>\n",
       "    <tr>\n",
       "      <th>loan_amnt</th>\n",
       "      <td>The listed amount of the loan applied for by the borrower. If at some point in time, the credit department reduces the loan amount, then it will be reflected in this value.</td>\n",
       "    </tr>\n",
       "    <tr>\n",
       "      <th>funded_amnt</th>\n",
       "      <td>The total amount committed to that loan at that point in time.</td>\n",
       "    </tr>\n",
       "    <tr>\n",
       "      <th>funded_amnt_inv</th>\n",
       "      <td>The total amount committed by investors for that loan at that point in time.</td>\n",
       "    </tr>\n",
       "    <tr>\n",
       "      <th>term</th>\n",
       "      <td>The number of payments on the loan. Values are in months and can be either 36 or 60.</td>\n",
       "    </tr>\n",
       "    <tr>\n",
       "      <th>int_rate</th>\n",
       "      <td>Interest Rate on the loan</td>\n",
       "    </tr>\n",
       "    <tr>\n",
       "      <th>installment</th>\n",
       "      <td>The monthly payment owed by the borrower if the loan originates.</td>\n",
       "    </tr>\n",
       "    <tr>\n",
       "      <th>grade</th>\n",
       "      <td>LC assigned loan grade</td>\n",
       "    </tr>\n",
       "    <tr>\n",
       "      <th>sub_grade</th>\n",
       "      <td>LC assigned loan subgrade</td>\n",
       "    </tr>\n",
       "    <tr>\n",
       "      <th>emp_title</th>\n",
       "      <td>The job title supplied by the Borrower when applying for the loan.*</td>\n",
       "    </tr>\n",
       "    <tr>\n",
       "      <th>emp_length</th>\n",
       "      <td>Employment length in years. Possible values are between 0 and 10 where 0 means less than one year and 10 means ten or more years.</td>\n",
       "    </tr>\n",
       "    <tr>\n",
       "      <th>home_ownership</th>\n",
       "      <td>The home ownership status provided by the borrower during registration. Our values are: RENT, OWN, MORTGAGE, OTHER.</td>\n",
       "    </tr>\n",
       "    <tr>\n",
       "      <th>annual_inc</th>\n",
       "      <td>The self-reported annual income provided by the borrower during registration.</td>\n",
       "    </tr>\n",
       "    <tr>\n",
       "      <th>verification_status</th>\n",
       "      <td>Indicates if income was verified by LC, not verified, or if the income source was verified</td>\n",
       "    </tr>\n",
       "    <tr>\n",
       "      <th>issue_d</th>\n",
       "      <td>The month which the loan was funded</td>\n",
       "    </tr>\n",
       "    <tr>\n",
       "      <th>loan_status</th>\n",
       "      <td>Current status of the loan</td>\n",
       "    </tr>\n",
       "    <tr>\n",
       "      <th>pymnt_plan</th>\n",
       "      <td>Indicates if a payment plan has been put in place for the loan</td>\n",
       "    </tr>\n",
       "  </tbody>\n",
       "</table>\n",
       "</div>"
      ],
      "text/plain": [
       "                                                                                                                                                                                      Description\n",
       "LoanStatNew                                                                                                                                                                                      \n",
       "id                                                                                                                                                  A unique LC assigned ID for the loan listing.\n",
       "member_id                                                                                                                                        A unique LC assigned Id for the borrower member.\n",
       "loan_amnt            The listed amount of the loan applied for by the borrower. If at some point in time, the credit department reduces the loan amount, then it will be reflected in this value.\n",
       "funded_amnt                                                                                                                        The total amount committed to that loan at that point in time.\n",
       "funded_amnt_inv                                                                                                      The total amount committed by investors for that loan at that point in time.\n",
       "term                                                                                                         The number of payments on the loan. Values are in months and can be either 36 or 60.\n",
       "int_rate                                                                                                                                                                Interest Rate on the loan\n",
       "installment                                                                                                                      The monthly payment owed by the borrower if the loan originates.\n",
       "grade                                                                                                                                                                      LC assigned loan grade\n",
       "sub_grade                                                                                                                                                               LC assigned loan subgrade\n",
       "emp_title                                                                                                                     The job title supplied by the Borrower when applying for the loan.*\n",
       "emp_length                                                     Employment length in years. Possible values are between 0 and 10 where 0 means less than one year and 10 means ten or more years. \n",
       "home_ownership                                                                The home ownership status provided by the borrower during registration. Our values are: RENT, OWN, MORTGAGE, OTHER.\n",
       "annual_inc                                                                                                          The self-reported annual income provided by the borrower during registration.\n",
       "verification_status                                                                                    Indicates if income was verified by LC, not verified, or if the income source was verified\n",
       "issue_d                                                                                                                                                       The month which the loan was funded\n",
       "loan_status                                                                                                                                                            Current status of the loan\n",
       "pymnt_plan                                                                                                                         Indicates if a payment plan has been put in place for the loan"
      ]
     },
     "execution_count": 30,
     "metadata": {},
     "output_type": "execute_result"
    }
   ],
   "source": [
    "#studying Variables and their usefulness for the model\n",
    "dfd[:18]"
   ]
  },
  {
   "cell_type": "markdown",
   "id": "167508b1",
   "metadata": {},
   "source": [
    "* id : for the sake of the model and their prediction usualy we wont have an ID or memeber_id \n",
    "* sub_grade : has   info thats already been in garde and  redundant variables removing ==> sub_Grade \n",
    "* funded_amnt : we  its the same as loan amount no need to keep both\n",
    "* funded_amnt_inv :its the same as loan amount no need to keep both\n",
    "* sub_grade : we already have more information on grade no need to keep both\n",
    "* emp_title — has 2629 null values\n",
    "* issue_d: date variable I need to keep the columns to a minimum so I can deploy easily\n",
    "* pymnt_plan no need to keep since all the values are false and 1 is true\n"
   ]
  },
  {
   "cell_type": "code",
   "execution_count": 31,
   "id": "a095d419",
   "metadata": {},
   "outputs": [
    {
     "data": {
      "text/plain": [
       "RENT        20181\n",
       "MORTGAGE    18959\n",
       "OWN          3251\n",
       "OTHER         136\n",
       "NONE            8\n",
       "Name: home_ownership, dtype: int64"
      ]
     },
     "execution_count": 31,
     "metadata": {},
     "output_type": "execute_result"
    }
   ],
   "source": [
    "df['home_ownership'].value_counts()"
   ]
  },
  {
   "cell_type": "markdown",
   "id": "f33fba8f",
   "metadata": {},
   "source": [
    "#### removing columns above"
   ]
  },
  {
   "cell_type": "code",
   "execution_count": 32,
   "id": "b493a4e4",
   "metadata": {},
   "outputs": [],
   "source": [
    "drop_list = ['id','member_id','funded_amnt','funded_amnt_inv','sub_grade','emp_title','pymnt_plan','issue_d']\n",
    "dft= dft.drop(drop_list,axis=1)"
   ]
  },
  {
   "cell_type": "markdown",
   "id": "1cf223b4",
   "metadata": {},
   "source": [
    "#### Second Group Of Columns\n",
    "\n",
    "#### move on to the next 18 columns:"
   ]
  },
  {
   "cell_type": "code",
   "execution_count": 33,
   "id": "e94e31eb",
   "metadata": {},
   "outputs": [
    {
     "data": {
      "text/html": [
       "<div>\n",
       "<style scoped>\n",
       "    .dataframe tbody tr th:only-of-type {\n",
       "        vertical-align: middle;\n",
       "    }\n",
       "\n",
       "    .dataframe tbody tr th {\n",
       "        vertical-align: top;\n",
       "    }\n",
       "\n",
       "    .dataframe thead th {\n",
       "        text-align: right;\n",
       "    }\n",
       "</style>\n",
       "<table border=\"1\" class=\"dataframe\">\n",
       "  <thead>\n",
       "    <tr style=\"text-align: right;\">\n",
       "      <th></th>\n",
       "      <th>Description</th>\n",
       "    </tr>\n",
       "    <tr>\n",
       "      <th>LoanStatNew</th>\n",
       "      <th></th>\n",
       "    </tr>\n",
       "  </thead>\n",
       "  <tbody>\n",
       "    <tr>\n",
       "      <th>url</th>\n",
       "      <td>URL for the LC page with listing data.</td>\n",
       "    </tr>\n",
       "    <tr>\n",
       "      <th>desc</th>\n",
       "      <td>Loan description provided by the borrower</td>\n",
       "    </tr>\n",
       "    <tr>\n",
       "      <th>purpose</th>\n",
       "      <td>A category provided by the borrower for the loan request.</td>\n",
       "    </tr>\n",
       "    <tr>\n",
       "      <th>title</th>\n",
       "      <td>The loan title provided by the borrower</td>\n",
       "    </tr>\n",
       "    <tr>\n",
       "      <th>zip_code</th>\n",
       "      <td>The first 3 numbers of the zip code provided by the borrower in the loan application.</td>\n",
       "    </tr>\n",
       "    <tr>\n",
       "      <th>addr_state</th>\n",
       "      <td>The state provided by the borrower in the loan application</td>\n",
       "    </tr>\n",
       "    <tr>\n",
       "      <th>dti</th>\n",
       "      <td>A ratio calculated using the borrower’s total monthly debt payments on the total debt obligations, excluding mortgage and the requested LC loan, divided by the borrower’s self-reported monthly income.</td>\n",
       "    </tr>\n",
       "    <tr>\n",
       "      <th>delinq_2yrs</th>\n",
       "      <td>The number of 30+ days past-due incidences of delinquency in the borrower's credit file for the past 2 years</td>\n",
       "    </tr>\n",
       "    <tr>\n",
       "      <th>earliest_cr_line</th>\n",
       "      <td>The month the borrower's earliest reported credit line was opened</td>\n",
       "    </tr>\n",
       "    <tr>\n",
       "      <th>fico_range_low</th>\n",
       "      <td>The lower boundary range the borrower’s FICO at loan origination belongs to.</td>\n",
       "    </tr>\n",
       "    <tr>\n",
       "      <th>fico_range_high</th>\n",
       "      <td>The upper boundary range the borrower’s FICO at loan origination belongs to.</td>\n",
       "    </tr>\n",
       "    <tr>\n",
       "      <th>inq_last_6mths</th>\n",
       "      <td>The number of inquiries in past 6 months (excluding auto and mortgage inquiries)</td>\n",
       "    </tr>\n",
       "    <tr>\n",
       "      <th>mths_since_last_delinq</th>\n",
       "      <td>The number of months since the borrower's last delinquency.</td>\n",
       "    </tr>\n",
       "    <tr>\n",
       "      <th>mths_since_last_record</th>\n",
       "      <td>The number of months since the last public record.</td>\n",
       "    </tr>\n",
       "    <tr>\n",
       "      <th>open_acc</th>\n",
       "      <td>The number of open credit lines in the borrower's credit file.</td>\n",
       "    </tr>\n",
       "    <tr>\n",
       "      <th>pub_rec</th>\n",
       "      <td>Number of derogatory public records</td>\n",
       "    </tr>\n",
       "    <tr>\n",
       "      <th>revol_bal</th>\n",
       "      <td>Total credit revolving balance</td>\n",
       "    </tr>\n",
       "    <tr>\n",
       "      <th>revol_util</th>\n",
       "      <td>Revolving line utilization rate, or the amount of credit the borrower is using relative to all available revolving credit.</td>\n",
       "    </tr>\n",
       "    <tr>\n",
       "      <th>total_acc</th>\n",
       "      <td>The total number of credit lines currently in the borrower's credit file</td>\n",
       "    </tr>\n",
       "  </tbody>\n",
       "</table>\n",
       "</div>"
      ],
      "text/plain": [
       "                                                                                                                                                                                                                     Description\n",
       "LoanStatNew                                                                                                                                                                                                                     \n",
       "url                                                                                                                                                                                       URL for the LC page with listing data.\n",
       "desc                                                                                                                                                                                   Loan description provided by the borrower\n",
       "purpose                                                                                                                                                               A category provided by the borrower for the loan request. \n",
       "title                                                                                                                                                                                    The loan title provided by the borrower\n",
       "zip_code                                                                                                                                   The first 3 numbers of the zip code provided by the borrower in the loan application.\n",
       "addr_state                                                                                                                                                            The state provided by the borrower in the loan application\n",
       "dti                     A ratio calculated using the borrower’s total monthly debt payments on the total debt obligations, excluding mortgage and the requested LC loan, divided by the borrower’s self-reported monthly income.\n",
       "delinq_2yrs                                                                                                         The number of 30+ days past-due incidences of delinquency in the borrower's credit file for the past 2 years\n",
       "earliest_cr_line                                                                                                                                               The month the borrower's earliest reported credit line was opened\n",
       "fico_range_low                                                                                                                                      The lower boundary range the borrower’s FICO at loan origination belongs to.\n",
       "fico_range_high                                                                                                                                     The upper boundary range the borrower’s FICO at loan origination belongs to.\n",
       "inq_last_6mths                                                                                                                                  The number of inquiries in past 6 months (excluding auto and mortgage inquiries)\n",
       "mths_since_last_delinq                                                                                                                                               The number of months since the borrower's last delinquency.\n",
       "mths_since_last_record                                                                                                                                                        The number of months since the last public record.\n",
       "open_acc                                                                                                                                                          The number of open credit lines in the borrower's credit file.\n",
       "pub_rec                                                                                                                                                                                      Number of derogatory public records\n",
       "revol_bal                                                                                                                                                                                         Total credit revolving balance\n",
       "revol_util                                                                                            Revolving line utilization rate, or the amount of credit the borrower is using relative to all available revolving credit.\n",
       "total_acc                                                                                                                                               The total number of credit lines currently in the borrower's credit file"
      ]
     },
     "execution_count": 33,
     "metadata": {},
     "output_type": "execute_result"
    }
   ],
   "source": [
    "dfd[18:37]"
   ]
  },
  {
   "cell_type": "markdown",
   "id": "a3f5b421",
   "metadata": {},
   "source": [
    "* url : categorical variale link not suitable to be encoded\n",
    "* desc: 13296 missing values not usful needs alot of processing\n",
    "* title : not helping too much categorical values not fitting to be encoded\n",
    "* zip_code : not fitting to be in dataset since we are interested in likelihood of a borrower reimbursing his dept\n",
    "* earliest_cr_line : date variable no need to keep it\n",
    "* inq_last_6mths : 30 missing vaues\n",
    "* addr_state :  the same logic apply for zip code1\n",
    "* delinq_2yrs: almost all of the values are 0s\n",
    "* mths_since_last_delinq : 26929 missing values\n",
    "* mths_since_last_record : 38887 missing values\n",
    "* open_acc:  30 missing values\n",
    "* pub_rec : 30 missing vaues\n",
    "* revol_bal:the info already in revol_util no need to keep both"
   ]
  },
  {
   "cell_type": "markdown",
   "id": "afa7d4bf",
   "metadata": {},
   "source": [
    "#### removing columns above"
   ]
  },
  {
   "cell_type": "code",
   "execution_count": 34,
   "id": "a450a71a",
   "metadata": {},
   "outputs": [],
   "source": [
    "drop_list2 = ['url','desc','title','zip_code','earliest_cr_line','inq_last_6mths','addr_state','delinq_2yrs'\n",
    "              ,'mths_since_last_delinq','mths_since_last_record','open_acc','pub_rec','revol_bal']\n",
    "dft= dft.drop(drop_list2,axis=1)"
   ]
  },
  {
   "cell_type": "markdown",
   "id": "3ac239f3",
   "metadata": {},
   "source": [
    "#### Third Group Of Columns\n",
    "\n",
    "#### move on to the rest of the columns:"
   ]
  },
  {
   "cell_type": "code",
   "execution_count": 35,
   "id": "595fc7c9",
   "metadata": {},
   "outputs": [
    {
     "data": {
      "text/html": [
       "<div>\n",
       "<style scoped>\n",
       "    .dataframe tbody tr th:only-of-type {\n",
       "        vertical-align: middle;\n",
       "    }\n",
       "\n",
       "    .dataframe tbody tr th {\n",
       "        vertical-align: top;\n",
       "    }\n",
       "\n",
       "    .dataframe thead th {\n",
       "        text-align: right;\n",
       "    }\n",
       "</style>\n",
       "<table border=\"1\" class=\"dataframe\">\n",
       "  <thead>\n",
       "    <tr style=\"text-align: right;\">\n",
       "      <th></th>\n",
       "      <th>Description</th>\n",
       "    </tr>\n",
       "    <tr>\n",
       "      <th>LoanStatNew</th>\n",
       "      <th></th>\n",
       "    </tr>\n",
       "  </thead>\n",
       "  <tbody>\n",
       "    <tr>\n",
       "      <th>initial_list_status</th>\n",
       "      <td>The initial listing status of the loan. Possible values are – W, F</td>\n",
       "    </tr>\n",
       "    <tr>\n",
       "      <th>out_prncp</th>\n",
       "      <td>Remaining outstanding principal for total amount funded</td>\n",
       "    </tr>\n",
       "    <tr>\n",
       "      <th>out_prncp_inv</th>\n",
       "      <td>Remaining outstanding principal for portion of total amount funded by investors</td>\n",
       "    </tr>\n",
       "    <tr>\n",
       "      <th>total_pymnt</th>\n",
       "      <td>Payments received to date for total amount funded</td>\n",
       "    </tr>\n",
       "    <tr>\n",
       "      <th>total_pymnt_inv</th>\n",
       "      <td>Payments received to date for portion of total amount funded by investors</td>\n",
       "    </tr>\n",
       "    <tr>\n",
       "      <th>total_rec_prncp</th>\n",
       "      <td>Principal received to date</td>\n",
       "    </tr>\n",
       "    <tr>\n",
       "      <th>total_rec_int</th>\n",
       "      <td>Interest received to date</td>\n",
       "    </tr>\n",
       "    <tr>\n",
       "      <th>total_rec_late_fee</th>\n",
       "      <td>Late fees received to date</td>\n",
       "    </tr>\n",
       "    <tr>\n",
       "      <th>recoveries</th>\n",
       "      <td>post charge off gross recovery</td>\n",
       "    </tr>\n",
       "    <tr>\n",
       "      <th>collection_recovery_fee</th>\n",
       "      <td>post charge off collection fee</td>\n",
       "    </tr>\n",
       "    <tr>\n",
       "      <th>last_pymnt_d</th>\n",
       "      <td>Last month payment was received</td>\n",
       "    </tr>\n",
       "    <tr>\n",
       "      <th>last_pymnt_amnt</th>\n",
       "      <td>Last total payment amount received</td>\n",
       "    </tr>\n",
       "    <tr>\n",
       "      <th>next_pymnt_d</th>\n",
       "      <td>Next scheduled payment date</td>\n",
       "    </tr>\n",
       "    <tr>\n",
       "      <th>last_credit_pull_d</th>\n",
       "      <td>The most recent month LC pulled credit for this loan</td>\n",
       "    </tr>\n",
       "    <tr>\n",
       "      <th>last_fico_range_high</th>\n",
       "      <td>The upper boundary range the borrower’s last FICO pulled belongs to.</td>\n",
       "    </tr>\n",
       "    <tr>\n",
       "      <th>last_fico_range_low</th>\n",
       "      <td>The lower boundary range the borrower’s last FICO pulled belongs to.</td>\n",
       "    </tr>\n",
       "    <tr>\n",
       "      <th>collections_12_mths_ex_med</th>\n",
       "      <td>Number of collections in 12 months excluding medical collections</td>\n",
       "    </tr>\n",
       "    <tr>\n",
       "      <th>policy_code</th>\n",
       "      <td>publicly available policy_code=1\\nnew products not publicly available policy_code=2</td>\n",
       "    </tr>\n",
       "    <tr>\n",
       "      <th>application_type</th>\n",
       "      <td>Indicates whether the loan is an individual application or a joint application with two co-borrowers</td>\n",
       "    </tr>\n",
       "    <tr>\n",
       "      <th>acc_now_delinq</th>\n",
       "      <td>The number of accounts on which the borrower is now delinquent.</td>\n",
       "    </tr>\n",
       "    <tr>\n",
       "      <th>chargeoff_within_12_mths</th>\n",
       "      <td>Number of charge-offs within 12 months</td>\n",
       "    </tr>\n",
       "    <tr>\n",
       "      <th>delinq_amnt</th>\n",
       "      <td>The past-due amount owed for the accounts on which the borrower is now delinquent.</td>\n",
       "    </tr>\n",
       "    <tr>\n",
       "      <th>pub_rec_bankruptcies</th>\n",
       "      <td>Number of public record bankruptcies</td>\n",
       "    </tr>\n",
       "    <tr>\n",
       "      <th>tax_liens</th>\n",
       "      <td>Number of tax liens</td>\n",
       "    </tr>\n",
       "  </tbody>\n",
       "</table>\n",
       "</div>"
      ],
      "text/plain": [
       "                                                                                                                     Description\n",
       "LoanStatNew                                                                                                                     \n",
       "initial_list_status                                           The initial listing status of the loan. Possible values are – W, F\n",
       "out_prncp                                                                Remaining outstanding principal for total amount funded\n",
       "out_prncp_inv                                    Remaining outstanding principal for portion of total amount funded by investors\n",
       "total_pymnt                                                                    Payments received to date for total amount funded\n",
       "total_pymnt_inv                                        Payments received to date for portion of total amount funded by investors\n",
       "total_rec_prncp                                                                                       Principal received to date\n",
       "total_rec_int                                                                                          Interest received to date\n",
       "total_rec_late_fee                                                                                    Late fees received to date\n",
       "recoveries                                                                                        post charge off gross recovery\n",
       "collection_recovery_fee                                                                           post charge off collection fee\n",
       "last_pymnt_d                                                                                     Last month payment was received\n",
       "last_pymnt_amnt                                                                               Last total payment amount received\n",
       "next_pymnt_d                                                                                         Next scheduled payment date\n",
       "last_credit_pull_d                                                          The most recent month LC pulled credit for this loan\n",
       "last_fico_range_high                                        The upper boundary range the borrower’s last FICO pulled belongs to.\n",
       "last_fico_range_low                                         The lower boundary range the borrower’s last FICO pulled belongs to.\n",
       "collections_12_mths_ex_med                                      Number of collections in 12 months excluding medical collections\n",
       "policy_code                                  publicly available policy_code=1\\nnew products not publicly available policy_code=2\n",
       "application_type            Indicates whether the loan is an individual application or a joint application with two co-borrowers\n",
       "acc_now_delinq                                                   The number of accounts on which the borrower is now delinquent.\n",
       "chargeoff_within_12_mths                                                                  Number of charge-offs within 12 months\n",
       "delinq_amnt                                   The past-due amount owed for the accounts on which the borrower is now delinquent.\n",
       "pub_rec_bankruptcies                                                                        Number of public record bankruptcies\n",
       "tax_liens                                                                                                    Number of tax liens"
      ]
     },
     "execution_count": 35,
     "metadata": {},
     "output_type": "execute_result"
    }
   ],
   "source": [
    "dfd[37:]"
   ]
  },
  {
   "cell_type": "markdown",
   "id": "29d4e135",
   "metadata": {},
   "source": [
    "* initial_list_status : has one value == false\n",
    "* out_prncp : we only need loan amounrt and the monthly instalment\n",
    "* out_prncp_inv: we only need loan amounrt and the monthly instalment\n",
    "* total_pymnt_inv:we only need loan amounrt and the monthly instalment\n",
    "* total_rec_prncp: we have the instalment column\n",
    "* total_rec_int: keeping the varibales to a minimum\n",
    "* total_rec_late_fee:keeping the varibales to a minimum\n",
    "* home_ownership: date variable no need to keep it\n",
    "* collection_recovery_fee we already have recoveries column\n",
    "* next_pymnt_d : not usful for the model prediction  39242 missing value\n",
    "* last_pymnt_amnt : we can keep recoveries no need for last payement\n",
    "* last_credit_pull_d: date variable no need to keep it\n",
    "* last_credit_pull_d : date variable no need to keep it\n",
    "* collections_12_mths_ex_med : Number of collections in 12 months excluding medical collections with 148 missing values plus all false\n",
    "* application_type : hase one value of individual\n",
    "* policy_code : not helping in prediction\n",
    "* acc_now_delinq :we have delinq_2yrs columns\n",
    "* chargeoff_within_12_mths : Number of charge-offs within 12 months 148 missing values \n",
    "* delinq_amnt : all values equal 0 no need to keep it\n",
    "* pub_rec_bankruptcies : \tNumber of public record bankruptcies with 1368 missing data plus all data are fals\n",
    "* tax_liens : too muche false value the same value is repeated no need to keep it"
   ]
  },
  {
   "cell_type": "markdown",
   "id": "59a27578",
   "metadata": {},
   "source": [
    "#### removing columns above"
   ]
  },
  {
   "cell_type": "code",
   "execution_count": 36,
   "id": "e0e3bf9b",
   "metadata": {},
   "outputs": [],
   "source": [
    "drop_cols3 = ['initial_list_status','out_prncp','out_prncp_inv','total_pymnt_inv','total_rec_prncp'\n",
    "              ,'total_rec_int','total_rec_late_fee','collection_recovery_fee','last_credit_pull_d','last_pymnt_d',\n",
    "              'next_pymnt_d','last_pymnt_amnt','collections_12_mths_ex_med','application_type','policy_code'\n",
    "              ,'chargeoff_within_12_mths','acc_now_delinq','delinq_amnt','pub_rec_bankruptcies','tax_liens']\n",
    "dft = dft.drop(drop_cols3, axis=1)"
   ]
  },
  {
   "cell_type": "code",
   "execution_count": 37,
   "id": "9474a265",
   "metadata": {},
   "outputs": [
    {
     "data": {
      "text/plain": [
       "(42538, 20)"
      ]
     },
     "execution_count": 37,
     "metadata": {},
     "output_type": "execute_result"
    }
   ],
   "source": [
    "dft.shape"
   ]
  },
  {
   "cell_type": "code",
   "execution_count": 38,
   "id": "f73a5793",
   "metadata": {},
   "outputs": [
    {
     "data": {
      "text/html": [
       "<div>\n",
       "<style scoped>\n",
       "    .dataframe tbody tr th:only-of-type {\n",
       "        vertical-align: middle;\n",
       "    }\n",
       "\n",
       "    .dataframe tbody tr th {\n",
       "        vertical-align: top;\n",
       "    }\n",
       "\n",
       "    .dataframe thead th {\n",
       "        text-align: right;\n",
       "    }\n",
       "</style>\n",
       "<table border=\"1\" class=\"dataframe\">\n",
       "  <thead>\n",
       "    <tr style=\"text-align: right;\">\n",
       "      <th></th>\n",
       "      <th>Features</th>\n",
       "      <th>Null values</th>\n",
       "      <th>% Null values</th>\n",
       "    </tr>\n",
       "  </thead>\n",
       "  <tbody>\n",
       "    <tr>\n",
       "      <th>5</th>\n",
       "      <td>emp_length</td>\n",
       "      <td>1115</td>\n",
       "      <td>2.621186</td>\n",
       "    </tr>\n",
       "    <tr>\n",
       "      <th>14</th>\n",
       "      <td>revol_util</td>\n",
       "      <td>93</td>\n",
       "      <td>0.218628</td>\n",
       "    </tr>\n",
       "    <tr>\n",
       "      <th>15</th>\n",
       "      <td>total_acc</td>\n",
       "      <td>32</td>\n",
       "      <td>0.075227</td>\n",
       "    </tr>\n",
       "    <tr>\n",
       "      <th>7</th>\n",
       "      <td>annual_inc</td>\n",
       "      <td>7</td>\n",
       "      <td>0.016456</td>\n",
       "    </tr>\n",
       "    <tr>\n",
       "      <th>0</th>\n",
       "      <td>loan_amnt</td>\n",
       "      <td>3</td>\n",
       "      <td>0.007053</td>\n",
       "    </tr>\n",
       "    <tr>\n",
       "      <th>11</th>\n",
       "      <td>dti</td>\n",
       "      <td>3</td>\n",
       "      <td>0.007053</td>\n",
       "    </tr>\n",
       "    <tr>\n",
       "      <th>18</th>\n",
       "      <td>last_fico_range_high</td>\n",
       "      <td>3</td>\n",
       "      <td>0.007053</td>\n",
       "    </tr>\n",
       "    <tr>\n",
       "      <th>17</th>\n",
       "      <td>recoveries</td>\n",
       "      <td>3</td>\n",
       "      <td>0.007053</td>\n",
       "    </tr>\n",
       "    <tr>\n",
       "      <th>16</th>\n",
       "      <td>total_pymnt</td>\n",
       "      <td>3</td>\n",
       "      <td>0.007053</td>\n",
       "    </tr>\n",
       "    <tr>\n",
       "      <th>13</th>\n",
       "      <td>fico_range_high</td>\n",
       "      <td>3</td>\n",
       "      <td>0.007053</td>\n",
       "    </tr>\n",
       "    <tr>\n",
       "      <th>12</th>\n",
       "      <td>fico_range_low</td>\n",
       "      <td>3</td>\n",
       "      <td>0.007053</td>\n",
       "    </tr>\n",
       "    <tr>\n",
       "      <th>10</th>\n",
       "      <td>purpose</td>\n",
       "      <td>3</td>\n",
       "      <td>0.007053</td>\n",
       "    </tr>\n",
       "    <tr>\n",
       "      <th>1</th>\n",
       "      <td>term</td>\n",
       "      <td>3</td>\n",
       "      <td>0.007053</td>\n",
       "    </tr>\n",
       "    <tr>\n",
       "      <th>9</th>\n",
       "      <td>loan_status</td>\n",
       "      <td>3</td>\n",
       "      <td>0.007053</td>\n",
       "    </tr>\n",
       "    <tr>\n",
       "      <th>8</th>\n",
       "      <td>verification_status</td>\n",
       "      <td>3</td>\n",
       "      <td>0.007053</td>\n",
       "    </tr>\n",
       "    <tr>\n",
       "      <th>6</th>\n",
       "      <td>home_ownership</td>\n",
       "      <td>3</td>\n",
       "      <td>0.007053</td>\n",
       "    </tr>\n",
       "    <tr>\n",
       "      <th>4</th>\n",
       "      <td>grade</td>\n",
       "      <td>3</td>\n",
       "      <td>0.007053</td>\n",
       "    </tr>\n",
       "    <tr>\n",
       "      <th>3</th>\n",
       "      <td>installment</td>\n",
       "      <td>3</td>\n",
       "      <td>0.007053</td>\n",
       "    </tr>\n",
       "    <tr>\n",
       "      <th>2</th>\n",
       "      <td>int_rate</td>\n",
       "      <td>3</td>\n",
       "      <td>0.007053</td>\n",
       "    </tr>\n",
       "    <tr>\n",
       "      <th>19</th>\n",
       "      <td>last_fico_range_low</td>\n",
       "      <td>3</td>\n",
       "      <td>0.007053</td>\n",
       "    </tr>\n",
       "  </tbody>\n",
       "</table>\n",
       "</div>"
      ],
      "text/plain": [
       "                Features  Null values  % Null values\n",
       "5             emp_length         1115       2.621186\n",
       "14            revol_util           93       0.218628\n",
       "15             total_acc           32       0.075227\n",
       "7             annual_inc            7       0.016456\n",
       "0              loan_amnt            3       0.007053\n",
       "11                   dti            3       0.007053\n",
       "18  last_fico_range_high            3       0.007053\n",
       "17            recoveries            3       0.007053\n",
       "16           total_pymnt            3       0.007053\n",
       "13       fico_range_high            3       0.007053\n",
       "12        fico_range_low            3       0.007053\n",
       "10               purpose            3       0.007053\n",
       "1                   term            3       0.007053\n",
       "9            loan_status            3       0.007053\n",
       "8    verification_status            3       0.007053\n",
       "6         home_ownership            3       0.007053\n",
       "4                  grade            3       0.007053\n",
       "3            installment            3       0.007053\n",
       "2               int_rate            3       0.007053\n",
       "19   last_fico_range_low            3       0.007053"
      ]
     },
     "execution_count": 38,
     "metadata": {},
     "output_type": "execute_result"
    }
   ],
   "source": [
    "nul_calcul(dft)"
   ]
  },
  {
   "cell_type": "code",
   "execution_count": 39,
   "id": "96407fa4",
   "metadata": {},
   "outputs": [
    {
     "data": {
      "text/plain": [
       "loan_status\n",
       "Fully Paid                                             827\n",
       "Charged Off                                            230\n",
       "Current                                                 19\n",
       "Does not meet the credit policy. Status:Fully Paid      19\n",
       "Does not meet the credit policy. Status:Charged Off     15\n",
       "In Grace Period                                          1\n",
       "Late (16-30 days)                                        1\n",
       "dtype: int64"
      ]
     },
     "execution_count": 39,
     "metadata": {},
     "output_type": "execute_result"
    }
   ],
   "source": [
    "pd.set_option('display.max_rows', None)\n",
    "emp_length_null=dft[dft['emp_length'].isnull()]\n",
    "emp_length_null[['emp_length', 'loan_status']].value_counts('loan_status')"
   ]
  },
  {
   "cell_type": "markdown",
   "id": "5617b88a",
   "metadata": {},
   "source": [
    "#### removing null rows of the column emp_length"
   ]
  },
  {
   "cell_type": "code",
   "execution_count": 40,
   "id": "9eef19fc",
   "metadata": {},
   "outputs": [],
   "source": [
    "dft.dropna(subset=['emp_length'], how='all', inplace=True)"
   ]
  },
  {
   "cell_type": "code",
   "execution_count": 41,
   "id": "6902a186",
   "metadata": {},
   "outputs": [
    {
     "data": {
      "text/plain": [
       "10+ years    9369\n",
       "< 1 year     5062\n",
       "2 years      4743\n",
       "3 years      4364\n",
       "4 years      3649\n",
       "1 year       3595\n",
       "5 years      3458\n",
       "6 years      2375\n",
       "7 years      1875\n",
       "8 years      1592\n",
       "9 years      1341\n",
       "Name: emp_length, dtype: int64"
      ]
     },
     "execution_count": 41,
     "metadata": {},
     "output_type": "execute_result"
    }
   ],
   "source": [
    "dft['emp_length'].value_counts()"
   ]
  },
  {
   "cell_type": "markdown",
   "id": "f26efd8a",
   "metadata": {},
   "source": [
    "#### filling null vlues of the revol_util  with the mean"
   ]
  },
  {
   "cell_type": "code",
   "execution_count": 42,
   "id": "21d4f5ec",
   "metadata": {},
   "outputs": [],
   "source": [
    "revol_mean=dft['revol_util'].mean()\n",
    "dft['revol_util']=dft['revol_util'].fillna(revol_mean)"
   ]
  },
  {
   "cell_type": "code",
   "execution_count": 43,
   "id": "9d859bcf",
   "metadata": {},
   "outputs": [
    {
     "data": {
      "text/html": [
       "<div>\n",
       "<style scoped>\n",
       "    .dataframe tbody tr th:only-of-type {\n",
       "        vertical-align: middle;\n",
       "    }\n",
       "\n",
       "    .dataframe tbody tr th {\n",
       "        vertical-align: top;\n",
       "    }\n",
       "\n",
       "    .dataframe thead th {\n",
       "        text-align: right;\n",
       "    }\n",
       "</style>\n",
       "<table border=\"1\" class=\"dataframe\">\n",
       "  <thead>\n",
       "    <tr style=\"text-align: right;\">\n",
       "      <th></th>\n",
       "      <th>Features</th>\n",
       "      <th>Null values</th>\n",
       "      <th>% Null values</th>\n",
       "    </tr>\n",
       "  </thead>\n",
       "  <tbody>\n",
       "    <tr>\n",
       "      <th>15</th>\n",
       "      <td>total_acc</td>\n",
       "      <td>29</td>\n",
       "      <td>0.070009</td>\n",
       "    </tr>\n",
       "    <tr>\n",
       "      <th>7</th>\n",
       "      <td>annual_inc</td>\n",
       "      <td>4</td>\n",
       "      <td>0.009656</td>\n",
       "    </tr>\n",
       "    <tr>\n",
       "      <th>0</th>\n",
       "      <td>loan_amnt</td>\n",
       "      <td>0</td>\n",
       "      <td>0.000000</td>\n",
       "    </tr>\n",
       "    <tr>\n",
       "      <th>11</th>\n",
       "      <td>dti</td>\n",
       "      <td>0</td>\n",
       "      <td>0.000000</td>\n",
       "    </tr>\n",
       "    <tr>\n",
       "      <th>18</th>\n",
       "      <td>last_fico_range_high</td>\n",
       "      <td>0</td>\n",
       "      <td>0.000000</td>\n",
       "    </tr>\n",
       "    <tr>\n",
       "      <th>17</th>\n",
       "      <td>recoveries</td>\n",
       "      <td>0</td>\n",
       "      <td>0.000000</td>\n",
       "    </tr>\n",
       "    <tr>\n",
       "      <th>16</th>\n",
       "      <td>total_pymnt</td>\n",
       "      <td>0</td>\n",
       "      <td>0.000000</td>\n",
       "    </tr>\n",
       "    <tr>\n",
       "      <th>14</th>\n",
       "      <td>revol_util</td>\n",
       "      <td>0</td>\n",
       "      <td>0.000000</td>\n",
       "    </tr>\n",
       "    <tr>\n",
       "      <th>13</th>\n",
       "      <td>fico_range_high</td>\n",
       "      <td>0</td>\n",
       "      <td>0.000000</td>\n",
       "    </tr>\n",
       "    <tr>\n",
       "      <th>12</th>\n",
       "      <td>fico_range_low</td>\n",
       "      <td>0</td>\n",
       "      <td>0.000000</td>\n",
       "    </tr>\n",
       "    <tr>\n",
       "      <th>10</th>\n",
       "      <td>purpose</td>\n",
       "      <td>0</td>\n",
       "      <td>0.000000</td>\n",
       "    </tr>\n",
       "    <tr>\n",
       "      <th>1</th>\n",
       "      <td>term</td>\n",
       "      <td>0</td>\n",
       "      <td>0.000000</td>\n",
       "    </tr>\n",
       "    <tr>\n",
       "      <th>9</th>\n",
       "      <td>loan_status</td>\n",
       "      <td>0</td>\n",
       "      <td>0.000000</td>\n",
       "    </tr>\n",
       "    <tr>\n",
       "      <th>8</th>\n",
       "      <td>verification_status</td>\n",
       "      <td>0</td>\n",
       "      <td>0.000000</td>\n",
       "    </tr>\n",
       "    <tr>\n",
       "      <th>6</th>\n",
       "      <td>home_ownership</td>\n",
       "      <td>0</td>\n",
       "      <td>0.000000</td>\n",
       "    </tr>\n",
       "    <tr>\n",
       "      <th>5</th>\n",
       "      <td>emp_length</td>\n",
       "      <td>0</td>\n",
       "      <td>0.000000</td>\n",
       "    </tr>\n",
       "    <tr>\n",
       "      <th>4</th>\n",
       "      <td>grade</td>\n",
       "      <td>0</td>\n",
       "      <td>0.000000</td>\n",
       "    </tr>\n",
       "    <tr>\n",
       "      <th>3</th>\n",
       "      <td>installment</td>\n",
       "      <td>0</td>\n",
       "      <td>0.000000</td>\n",
       "    </tr>\n",
       "    <tr>\n",
       "      <th>2</th>\n",
       "      <td>int_rate</td>\n",
       "      <td>0</td>\n",
       "      <td>0.000000</td>\n",
       "    </tr>\n",
       "    <tr>\n",
       "      <th>19</th>\n",
       "      <td>last_fico_range_low</td>\n",
       "      <td>0</td>\n",
       "      <td>0.000000</td>\n",
       "    </tr>\n",
       "  </tbody>\n",
       "</table>\n",
       "</div>"
      ],
      "text/plain": [
       "                Features  Null values  % Null values\n",
       "15             total_acc           29       0.070009\n",
       "7             annual_inc            4       0.009656\n",
       "0              loan_amnt            0       0.000000\n",
       "11                   dti            0       0.000000\n",
       "18  last_fico_range_high            0       0.000000\n",
       "17            recoveries            0       0.000000\n",
       "16           total_pymnt            0       0.000000\n",
       "14            revol_util            0       0.000000\n",
       "13       fico_range_high            0       0.000000\n",
       "12        fico_range_low            0       0.000000\n",
       "10               purpose            0       0.000000\n",
       "1                   term            0       0.000000\n",
       "9            loan_status            0       0.000000\n",
       "8    verification_status            0       0.000000\n",
       "6         home_ownership            0       0.000000\n",
       "5             emp_length            0       0.000000\n",
       "4                  grade            0       0.000000\n",
       "3            installment            0       0.000000\n",
       "2               int_rate            0       0.000000\n",
       "19   last_fico_range_low            0       0.000000"
      ]
     },
     "execution_count": 43,
     "metadata": {},
     "output_type": "execute_result"
    }
   ],
   "source": [
    "nul_calcul(dft)"
   ]
  },
  {
   "cell_type": "markdown",
   "id": "03075285",
   "metadata": {},
   "source": [
    "#### **This method fills each missing row with the value of the nearest one above it**"
   ]
  },
  {
   "cell_type": "code",
   "execution_count": 44,
   "id": "010d2254",
   "metadata": {},
   "outputs": [],
   "source": [
    "dft.fillna(method='ffill', inplace=True)"
   ]
  },
  {
   "cell_type": "code",
   "execution_count": 45,
   "id": "a0ac4451",
   "metadata": {},
   "outputs": [
    {
     "data": {
      "text/html": [
       "<div>\n",
       "<style scoped>\n",
       "    .dataframe tbody tr th:only-of-type {\n",
       "        vertical-align: middle;\n",
       "    }\n",
       "\n",
       "    .dataframe tbody tr th {\n",
       "        vertical-align: top;\n",
       "    }\n",
       "\n",
       "    .dataframe thead th {\n",
       "        text-align: right;\n",
       "    }\n",
       "</style>\n",
       "<table border=\"1\" class=\"dataframe\">\n",
       "  <thead>\n",
       "    <tr style=\"text-align: right;\">\n",
       "      <th></th>\n",
       "      <th>Features</th>\n",
       "      <th>Null values</th>\n",
       "      <th>% Null values</th>\n",
       "    </tr>\n",
       "  </thead>\n",
       "  <tbody>\n",
       "    <tr>\n",
       "      <th>0</th>\n",
       "      <td>loan_amnt</td>\n",
       "      <td>0</td>\n",
       "      <td>0.0</td>\n",
       "    </tr>\n",
       "    <tr>\n",
       "      <th>1</th>\n",
       "      <td>term</td>\n",
       "      <td>0</td>\n",
       "      <td>0.0</td>\n",
       "    </tr>\n",
       "    <tr>\n",
       "      <th>18</th>\n",
       "      <td>last_fico_range_high</td>\n",
       "      <td>0</td>\n",
       "      <td>0.0</td>\n",
       "    </tr>\n",
       "    <tr>\n",
       "      <th>17</th>\n",
       "      <td>recoveries</td>\n",
       "      <td>0</td>\n",
       "      <td>0.0</td>\n",
       "    </tr>\n",
       "    <tr>\n",
       "      <th>16</th>\n",
       "      <td>total_pymnt</td>\n",
       "      <td>0</td>\n",
       "      <td>0.0</td>\n",
       "    </tr>\n",
       "    <tr>\n",
       "      <th>15</th>\n",
       "      <td>total_acc</td>\n",
       "      <td>0</td>\n",
       "      <td>0.0</td>\n",
       "    </tr>\n",
       "    <tr>\n",
       "      <th>14</th>\n",
       "      <td>revol_util</td>\n",
       "      <td>0</td>\n",
       "      <td>0.0</td>\n",
       "    </tr>\n",
       "    <tr>\n",
       "      <th>13</th>\n",
       "      <td>fico_range_high</td>\n",
       "      <td>0</td>\n",
       "      <td>0.0</td>\n",
       "    </tr>\n",
       "    <tr>\n",
       "      <th>12</th>\n",
       "      <td>fico_range_low</td>\n",
       "      <td>0</td>\n",
       "      <td>0.0</td>\n",
       "    </tr>\n",
       "    <tr>\n",
       "      <th>11</th>\n",
       "      <td>dti</td>\n",
       "      <td>0</td>\n",
       "      <td>0.0</td>\n",
       "    </tr>\n",
       "    <tr>\n",
       "      <th>10</th>\n",
       "      <td>purpose</td>\n",
       "      <td>0</td>\n",
       "      <td>0.0</td>\n",
       "    </tr>\n",
       "    <tr>\n",
       "      <th>9</th>\n",
       "      <td>loan_status</td>\n",
       "      <td>0</td>\n",
       "      <td>0.0</td>\n",
       "    </tr>\n",
       "    <tr>\n",
       "      <th>8</th>\n",
       "      <td>verification_status</td>\n",
       "      <td>0</td>\n",
       "      <td>0.0</td>\n",
       "    </tr>\n",
       "    <tr>\n",
       "      <th>7</th>\n",
       "      <td>annual_inc</td>\n",
       "      <td>0</td>\n",
       "      <td>0.0</td>\n",
       "    </tr>\n",
       "    <tr>\n",
       "      <th>6</th>\n",
       "      <td>home_ownership</td>\n",
       "      <td>0</td>\n",
       "      <td>0.0</td>\n",
       "    </tr>\n",
       "    <tr>\n",
       "      <th>5</th>\n",
       "      <td>emp_length</td>\n",
       "      <td>0</td>\n",
       "      <td>0.0</td>\n",
       "    </tr>\n",
       "    <tr>\n",
       "      <th>4</th>\n",
       "      <td>grade</td>\n",
       "      <td>0</td>\n",
       "      <td>0.0</td>\n",
       "    </tr>\n",
       "    <tr>\n",
       "      <th>3</th>\n",
       "      <td>installment</td>\n",
       "      <td>0</td>\n",
       "      <td>0.0</td>\n",
       "    </tr>\n",
       "    <tr>\n",
       "      <th>2</th>\n",
       "      <td>int_rate</td>\n",
       "      <td>0</td>\n",
       "      <td>0.0</td>\n",
       "    </tr>\n",
       "    <tr>\n",
       "      <th>19</th>\n",
       "      <td>last_fico_range_low</td>\n",
       "      <td>0</td>\n",
       "      <td>0.0</td>\n",
       "    </tr>\n",
       "  </tbody>\n",
       "</table>\n",
       "</div>"
      ],
      "text/plain": [
       "                Features  Null values  % Null values\n",
       "0              loan_amnt            0            0.0\n",
       "1                   term            0            0.0\n",
       "18  last_fico_range_high            0            0.0\n",
       "17            recoveries            0            0.0\n",
       "16           total_pymnt            0            0.0\n",
       "15             total_acc            0            0.0\n",
       "14            revol_util            0            0.0\n",
       "13       fico_range_high            0            0.0\n",
       "12        fico_range_low            0            0.0\n",
       "11                   dti            0            0.0\n",
       "10               purpose            0            0.0\n",
       "9            loan_status            0            0.0\n",
       "8    verification_status            0            0.0\n",
       "7             annual_inc            0            0.0\n",
       "6         home_ownership            0            0.0\n",
       "5             emp_length            0            0.0\n",
       "4                  grade            0            0.0\n",
       "3            installment            0            0.0\n",
       "2               int_rate            0            0.0\n",
       "19   last_fico_range_low            0            0.0"
      ]
     },
     "execution_count": 45,
     "metadata": {},
     "output_type": "execute_result"
    }
   ],
   "source": [
    "nul_calcul(dft)"
   ]
  },
  {
   "cell_type": "code",
   "execution_count": 46,
   "id": "3bb729f3",
   "metadata": {},
   "outputs": [
    {
     "data": {
      "text/plain": [
       "<AxesSubplot:>"
      ]
     },
     "execution_count": 46,
     "metadata": {},
     "output_type": "execute_result"
    },
    {
     "data": {
      "image/png": "[encoded data removed]",
      "text/plain": [
       "<Figure size 432x288 with 2 Axes>"
      ]
     },
     "metadata": {
      "needs_background": "light"
     },
     "output_type": "display_data"
    }
   ],
   "source": [
    "sns.heatmap(dft.isnull(),cmap=\"viridis_r\")"
   ]
  },
  {
   "cell_type": "code",
   "execution_count": 47,
   "id": "a0cf1d40",
   "metadata": {},
   "outputs": [],
   "source": [
    "dft = dft.dropna(how='all')"
   ]
  },
  {
   "cell_type": "markdown",
   "id": "cfdd4e5c",
   "metadata": {},
   "source": [
    "#### it seems now that we have data frame withou null values"
   ]
  },
  {
   "cell_type": "code",
   "execution_count": 48,
   "id": "f9f92824",
   "metadata": {},
   "outputs": [
    {
     "data": {
      "text/plain": [
       "(41423, 20)"
      ]
     },
     "execution_count": 48,
     "metadata": {},
     "output_type": "execute_result"
    }
   ],
   "source": [
    "dft.shape"
   ]
  },
  {
   "cell_type": "code",
   "execution_count": 49,
   "id": "fc9048af",
   "metadata": {},
   "outputs": [
    {
     "name": "stdout",
     "output_type": "stream",
     "text": [
      "Number of rows   : 41423\n",
      "Number of columns: 20\n"
     ]
    }
   ],
   "source": [
    "#Shape of dataframe\n",
    "print('Number of rows   :',dft.shape[0])\n",
    "print('Number of columns:',dft.shape[1])"
   ]
  },
  {
   "cell_type": "markdown",
   "id": "0c0a3ab9",
   "metadata": {},
   "source": [
    "## **Features Engineering**"
   ]
  },
  {
   "cell_type": "markdown",
   "id": "64fe989a",
   "metadata": {},
   "source": [
    "#### **The variable verification status has 3 values 'verified', 'source verified', and 'not verified' source verified and verified mean the same thing so I transform 'source verified' to verified and proceed to label encoding**"
   ]
  },
  {
   "cell_type": "code",
   "execution_count": 50,
   "id": "0cd3b453",
   "metadata": {},
   "outputs": [
    {
     "data": {
      "text/plain": [
       "Not Verified       18313\n",
       "Verified           13004\n",
       "Source Verified    10106\n",
       "Name: verification_status, dtype: int64"
      ]
     },
     "execution_count": 50,
     "metadata": {},
     "output_type": "execute_result"
    }
   ],
   "source": [
    "dft[\"verification_status\"].value_counts()"
   ]
  },
  {
   "cell_type": "code",
   "execution_count": 51,
   "id": "97bda5c8",
   "metadata": {},
   "outputs": [],
   "source": [
    "dft[\"verification_status\"].replace({\"Source Verified\":'Verified'}, inplace=True)"
   ]
  },
  {
   "cell_type": "code",
   "execution_count": 52,
   "id": "32dc717f",
   "metadata": {},
   "outputs": [
    {
     "data": {
      "text/plain": [
       "array([1, 0])"
      ]
     },
     "execution_count": 52,
     "metadata": {},
     "output_type": "execute_result"
    }
   ],
   "source": [
    "from sklearn import preprocessing\n",
    "  \n",
    "# label_encoder object knows how to understand word labels.\n",
    "label_enc_vs = preprocessing.LabelEncoder()\n",
    "  \n",
    "# Encode labels in column 'species'.\n",
    "dft['verification_status']= label_enc_vs.fit_transform(dft['verification_status'])\n",
    "  \n",
    "dft['verification_status'].unique()"
   ]
  },
  {
   "cell_type": "markdown",
   "id": "2df92c87",
   "metadata": {},
   "source": [
    "#### **The variable home_ownership has alot of values and possibly good for prediction so it'll be wise to encode it"
   ]
  },
  {
   "cell_type": "code",
   "execution_count": 53,
   "id": "f8b4c7cd",
   "metadata": {},
   "outputs": [
    {
     "data": {
      "text/plain": [
       "array([4, 3, 0, 2, 1])"
      ]
     },
     "execution_count": 53,
     "metadata": {},
     "output_type": "execute_result"
    }
   ],
   "source": [
    "# Encode labels in column 'species'.\n",
    "dft['home_ownership']= label_enc_vs.fit_transform(dft['home_ownership'])\n",
    "  \n",
    "dft['home_ownership'].unique()"
   ]
  },
  {
   "cell_type": "markdown",
   "id": "236dc525",
   "metadata": {},
   "source": [
    "#### **The variable emp_length has 11 values I have encoded it ordinaly by experience**"
   ]
  },
  {
   "cell_type": "code",
   "execution_count": 54,
   "id": "39372a14",
   "metadata": {},
   "outputs": [
    {
     "data": {
      "text/plain": [
       "10+ years    9369\n",
       "< 1 year     5062\n",
       "2 years      4743\n",
       "3 years      4364\n",
       "4 years      3649\n",
       "1 year       3595\n",
       "5 years      3458\n",
       "6 years      2375\n",
       "7 years      1875\n",
       "8 years      1592\n",
       "9 years      1341\n",
       "Name: emp_length, dtype: int64"
      ]
     },
     "execution_count": 54,
     "metadata": {},
     "output_type": "execute_result"
    }
   ],
   "source": [
    "dft[\"emp_length\"].value_counts()"
   ]
  },
  {
   "cell_type": "code",
   "execution_count": 55,
   "id": "e0da1ecc",
   "metadata": {},
   "outputs": [
    {
     "data": {
      "text/plain": [
       "array([10,  0,  5,  2,  4,  3,  9,  1,  6,  7,  8], dtype=int64)"
      ]
     },
     "execution_count": 55,
     "metadata": {},
     "output_type": "execute_result"
    }
   ],
   "source": [
    "dft[\"emp_length\"].replace({\"< 1 year\":0 ,\"1 year\":1,\"2 years\":2,\"3 years\":3,\"4 years\":4,\"5 years\":5,\n",
    "                          \"6 years\":6,\"7 years\":7,\"8 years\":8,\"9 years\":9,\"10+ years\":10}, inplace=True)\n",
    "dft['emp_length'].unique()"
   ]
  },
  {
   "cell_type": "markdown",
   "id": "00e74398",
   "metadata": {},
   "source": [
    "#### **checking the correlation between 'fico_range_high' and 'fico_range_low' "
   ]
  },
  {
   "cell_type": "code",
   "execution_count": 56,
   "id": "590b37c6",
   "metadata": {},
   "outputs": [
    {
     "data": {
      "text/plain": [
       "<AxesSubplot:xlabel='fico_range_low', ylabel='fico_range_high'>"
      ]
     },
     "execution_count": 56,
     "metadata": {},
     "output_type": "execute_result"
    },
    {
     "data": {
      "image/png": "[encoded data removed]",
      "text/plain": [
       "<Figure size 432x288 with 1 Axes>"
      ]
     },
     "metadata": {
      "needs_background": "light"
     },
     "output_type": "display_data"
    }
   ],
   "source": [
    "sns.regplot(x=dft[\"fico_range_low\"], y=dft[\"fico_range_high\"])"
   ]
  },
  {
   "cell_type": "markdown",
   "id": "2d1b06ec",
   "metadata": {},
   "source": [
    "#### we can see clearly that the two variables are linear no need to keep both of them, will generate mean columns out of them"
   ]
  },
  {
   "cell_type": "markdown",
   "id": "22b9e505",
   "metadata": {},
   "source": [
    "#### calculating the mean of the two variables and drop them afterwards"
   ]
  },
  {
   "cell_type": "code",
   "execution_count": 57,
   "id": "8bea31c5",
   "metadata": {},
   "outputs": [],
   "source": [
    "dft['fico_score']=dft[['fico_range_low', 'fico_range_high']].mean(axis=1)"
   ]
  },
  {
   "cell_type": "code",
   "execution_count": 58,
   "id": "20fc5c5d",
   "metadata": {},
   "outputs": [],
   "source": [
    "dft=dft.drop(['fico_range_low','fico_range_high'],axis=1)"
   ]
  },
  {
   "cell_type": "markdown",
   "id": "f25f03c9",
   "metadata": {},
   "source": [
    "#### **checking the correlation between tast_fico_range_low and last_fico_range_high**"
   ]
  },
  {
   "cell_type": "code",
   "execution_count": 59,
   "id": "7a14ff0f",
   "metadata": {},
   "outputs": [
    {
     "data": {
      "text/html": [
       "<div>\n",
       "<style scoped>\n",
       "    .dataframe tbody tr th:only-of-type {\n",
       "        vertical-align: middle;\n",
       "    }\n",
       "\n",
       "    .dataframe tbody tr th {\n",
       "        vertical-align: top;\n",
       "    }\n",
       "\n",
       "    .dataframe thead th {\n",
       "        text-align: right;\n",
       "    }\n",
       "</style>\n",
       "<table border=\"1\" class=\"dataframe\">\n",
       "  <thead>\n",
       "    <tr style=\"text-align: right;\">\n",
       "      <th></th>\n",
       "      <th>last_fico_range_high</th>\n",
       "      <th>last_fico_range_low</th>\n",
       "    </tr>\n",
       "  </thead>\n",
       "  <tbody>\n",
       "    <tr>\n",
       "      <th>last_fico_range_high</th>\n",
       "      <td>1.000000</td>\n",
       "      <td>0.851592</td>\n",
       "    </tr>\n",
       "    <tr>\n",
       "      <th>last_fico_range_low</th>\n",
       "      <td>0.851592</td>\n",
       "      <td>1.000000</td>\n",
       "    </tr>\n",
       "  </tbody>\n",
       "</table>\n",
       "</div>"
      ],
      "text/plain": [
       "                      last_fico_range_high  last_fico_range_low\n",
       "last_fico_range_high              1.000000             0.851592\n",
       "last_fico_range_low               0.851592             1.000000"
      ]
     },
     "execution_count": 59,
     "metadata": {},
     "output_type": "execute_result"
    }
   ],
   "source": [
    "dft[[\"last_fico_range_high\",\"last_fico_range_low\"]].corr()"
   ]
  },
  {
   "cell_type": "code",
   "execution_count": 60,
   "id": "e4ffb57d",
   "metadata": {},
   "outputs": [
    {
     "data": {
      "text/plain": [
       "<AxesSubplot:xlabel='last_fico_range_high', ylabel='last_fico_range_low'>"
      ]
     },
     "execution_count": 60,
     "metadata": {},
     "output_type": "execute_result"
    },
    {
     "data": {
      "image/png": "[encoded data removed]",
      "text/plain": [
       "<Figure size 432x288 with 1 Axes>"
      ]
     },
     "metadata": {
      "needs_background": "light"
     },
     "output_type": "display_data"
    }
   ],
   "source": [
    "sns.regplot(x=dft[\"last_fico_range_high\"], y=dft[\"last_fico_range_low\"])"
   ]
  },
  {
   "cell_type": "code",
   "execution_count": 61,
   "id": "b3a20601",
   "metadata": {},
   "outputs": [],
   "source": [
    "dft=dft.drop(['last_fico_range_high','last_fico_range_low'],axis=1)"
   ]
  },
  {
   "cell_type": "markdown",
   "id": "eea87ec8",
   "metadata": {},
   "source": [
    "#### since we already have a fico score column no need to keep the late score,I ll remove both of them"
   ]
  },
  {
   "cell_type": "markdown",
   "id": "611d5015",
   "metadata": {},
   "source": [
    "#### **The variable sub_Grade takes an ordinal shape from A to G the ordinal encoding is fitting in this case**"
   ]
  },
  {
   "cell_type": "code",
   "execution_count": 62,
   "id": "8786d838",
   "metadata": {},
   "outputs": [
    {
     "data": {
      "text/plain": [
       "array([1, 2, 0, 3, 4, 6, 5])"
      ]
     },
     "execution_count": 62,
     "metadata": {},
     "output_type": "execute_result"
    }
   ],
   "source": [
    "# Import label encoder\n",
    "from sklearn import preprocessing\n",
    "  \n",
    "# label_encoder object knows how to understand word labels.\n",
    "label_encoder = preprocessing.LabelEncoder()\n",
    "  \n",
    "# Encode labels in column 'species'.\n",
    "dft['grade']= label_encoder.fit_transform(dft['grade'])\n",
    "  \n",
    "dft['grade'].unique()"
   ]
  },
  {
   "cell_type": "markdown",
   "id": "346fdd60",
   "metadata": {},
   "source": [
    "#### **The purpose variable has alot of values I took the unique variables and split them into to 2 categories personal and investment so that in encoding dont give us alot variable**"
   ]
  },
  {
   "cell_type": "code",
   "execution_count": 63,
   "id": "98c8aafd",
   "metadata": {},
   "outputs": [],
   "source": [
    "dft[\"purpose\"].replace({\"debt_consolidation\":\"personal\" ,\"credit_card\":\"personal\",\"other\":\"personal\",\n",
    "                        \"home_improvement\":\"investement\",\"major_purchase\":\"investement\",\"small_business\":\"investement\",\n",
    "                          \"car\":\"investement\",\"wedding\":\"personal\",\"medical\":\"personal\",\"moving\":\"investement\",\"house\":\"investement\",\"educational\":\"investement\",\n",
    "                       \"vacation\":\"investement\",\"vacation\":\"investement\",\"renewable_energy\":\"investement\"}, inplace=True)"
   ]
  },
  {
   "cell_type": "code",
   "execution_count": 64,
   "id": "5fb96b66",
   "metadata": {
    "scrolled": true
   },
   "outputs": [
    {
     "data": {
      "text/plain": [
       "array([1, 0])"
      ]
     },
     "execution_count": 64,
     "metadata": {},
     "output_type": "execute_result"
    }
   ],
   "source": [
    "dft['purpose']= label_encoder.fit_transform(dft['purpose'])\n",
    "  \n",
    "dft['purpose'].unique()"
   ]
  },
  {
   "cell_type": "markdown",
   "id": "a04bed0d",
   "metadata": {},
   "source": [
    "#### Replace the two terms with their corresponding number for the sake of model understanding"
   ]
  },
  {
   "cell_type": "code",
   "execution_count": 65,
   "id": "470f0d8e",
   "metadata": {},
   "outputs": [
    {
     "data": {
      "text/plain": [
       "array([36, 60], dtype=int64)"
      ]
     },
     "execution_count": 65,
     "metadata": {},
     "output_type": "execute_result"
    }
   ],
   "source": [
    "dft[\"term\"].replace({\" 36 months\":36 ,\" 60 months\":60}, inplace=True)\n",
    "dft['term'].unique()"
   ]
  },
  {
   "cell_type": "code",
   "execution_count": 66,
   "id": "56e8d714",
   "metadata": {},
   "outputs": [
    {
     "data": {
      "text/plain": [
       "array(['Fully Paid', 'Charged Off', 'Current', 'Late (31-120 days)',\n",
       "       'In Grace Period', 'Default', 'Late (16-30 days)',\n",
       "       'Does not meet the credit policy. Status:Fully Paid',\n",
       "       'Does not meet the credit policy. Status:Charged Off'],\n",
       "      dtype=object)"
      ]
     },
     "execution_count": 66,
     "metadata": {},
     "output_type": "execute_result"
    }
   ],
   "source": [
    "dft['loan_status'].unique()"
   ]
  },
  {
   "cell_type": "markdown",
   "id": "7760088b",
   "metadata": {},
   "source": [
    "#### I replace other values like 'current' and 'Does Not.... Status:Fully Paid' with Fully Paid and Late values with charged of so we can have a two class problem of classification"
   ]
  },
  {
   "cell_type": "code",
   "execution_count": 67,
   "id": "05c6b3ea",
   "metadata": {},
   "outputs": [
    {
     "data": {
      "text/plain": [
       "array(['Fully Paid', 'Charged Off'], dtype=object)"
      ]
     },
     "execution_count": 67,
     "metadata": {},
     "output_type": "execute_result"
    }
   ],
   "source": [
    "dft[\"loan_status\"].replace({\"Default\":\"Fully Paid\" ,\"Current\":\"Fully Paid\",\"In Grace Period\":\"Fully Paid\",\n",
    "                     \"Late (16-30 days)\":\"Charged Off\",\"Does not meet the credit policy. Status:Fully Paid\":\"Fully Paid\",\n",
    "                    \"Does not meet the credit policy. Status:Charged Off\":\"Charged Off\",\n",
    "                           \"Late (31-120 days)\":\"Charged Off\"}, inplace=True)\n",
    "dft['loan_status'].unique()"
   ]
  },
  {
   "cell_type": "code",
   "execution_count": 68,
   "id": "35ebf961",
   "metadata": {},
   "outputs": [
    {
     "data": {
      "text/plain": [
       "array([1, 0])"
      ]
     },
     "execution_count": 68,
     "metadata": {},
     "output_type": "execute_result"
    }
   ],
   "source": [
    "dft['loan_status']= label_encoder.fit_transform(dft['loan_status'])\n",
    "dft['loan_status'].unique()"
   ]
  },
  {
   "cell_type": "code",
   "execution_count": 69,
   "id": "89183193",
   "metadata": {},
   "outputs": [
    {
     "data": {
      "text/html": [
       "<div>\n",
       "<style scoped>\n",
       "    .dataframe tbody tr th:only-of-type {\n",
       "        vertical-align: middle;\n",
       "    }\n",
       "\n",
       "    .dataframe tbody tr th {\n",
       "        vertical-align: top;\n",
       "    }\n",
       "\n",
       "    .dataframe thead th {\n",
       "        text-align: right;\n",
       "    }\n",
       "</style>\n",
       "<table border=\"1\" class=\"dataframe\">\n",
       "  <thead>\n",
       "    <tr style=\"text-align: right;\">\n",
       "      <th></th>\n",
       "      <th>loan_amnt</th>\n",
       "      <th>term</th>\n",
       "      <th>int_rate</th>\n",
       "      <th>installment</th>\n",
       "      <th>grade</th>\n",
       "      <th>emp_length</th>\n",
       "      <th>home_ownership</th>\n",
       "      <th>annual_inc</th>\n",
       "      <th>verification_status</th>\n",
       "      <th>loan_status</th>\n",
       "      <th>purpose</th>\n",
       "      <th>dti</th>\n",
       "      <th>revol_util</th>\n",
       "      <th>total_acc</th>\n",
       "      <th>total_pymnt</th>\n",
       "      <th>recoveries</th>\n",
       "      <th>fico_score</th>\n",
       "    </tr>\n",
       "  </thead>\n",
       "  <tbody>\n",
       "    <tr>\n",
       "      <th>0</th>\n",
       "      <td>5000.0</td>\n",
       "      <td>36</td>\n",
       "      <td>0.1065</td>\n",
       "      <td>162.87</td>\n",
       "      <td>1</td>\n",
       "      <td>10</td>\n",
       "      <td>4</td>\n",
       "      <td>24000.0</td>\n",
       "      <td>1</td>\n",
       "      <td>1</td>\n",
       "      <td>1</td>\n",
       "      <td>27.65</td>\n",
       "      <td>0.837</td>\n",
       "      <td>9.0</td>\n",
       "      <td>5863.155187</td>\n",
       "      <td>0.00</td>\n",
       "      <td>737.0</td>\n",
       "    </tr>\n",
       "    <tr>\n",
       "      <th>1</th>\n",
       "      <td>2500.0</td>\n",
       "      <td>60</td>\n",
       "      <td>0.1527</td>\n",
       "      <td>59.83</td>\n",
       "      <td>2</td>\n",
       "      <td>0</td>\n",
       "      <td>4</td>\n",
       "      <td>30000.0</td>\n",
       "      <td>1</td>\n",
       "      <td>0</td>\n",
       "      <td>0</td>\n",
       "      <td>1.00</td>\n",
       "      <td>0.094</td>\n",
       "      <td>4.0</td>\n",
       "      <td>1008.710000</td>\n",
       "      <td>117.08</td>\n",
       "      <td>742.0</td>\n",
       "    </tr>\n",
       "    <tr>\n",
       "      <th>2</th>\n",
       "      <td>6500.0</td>\n",
       "      <td>60</td>\n",
       "      <td>0.1465</td>\n",
       "      <td>153.45</td>\n",
       "      <td>2</td>\n",
       "      <td>5</td>\n",
       "      <td>3</td>\n",
       "      <td>72000.0</td>\n",
       "      <td>0</td>\n",
       "      <td>1</td>\n",
       "      <td>1</td>\n",
       "      <td>16.12</td>\n",
       "      <td>0.206</td>\n",
       "      <td>23.0</td>\n",
       "      <td>7678.017673</td>\n",
       "      <td>0.00</td>\n",
       "      <td>697.0</td>\n",
       "    </tr>\n",
       "    <tr>\n",
       "      <th>3</th>\n",
       "      <td>6200.0</td>\n",
       "      <td>36</td>\n",
       "      <td>0.0991</td>\n",
       "      <td>199.80</td>\n",
       "      <td>1</td>\n",
       "      <td>2</td>\n",
       "      <td>4</td>\n",
       "      <td>25000.0</td>\n",
       "      <td>0</td>\n",
       "      <td>0</td>\n",
       "      <td>1</td>\n",
       "      <td>20.64</td>\n",
       "      <td>0.477</td>\n",
       "      <td>12.0</td>\n",
       "      <td>2452.220000</td>\n",
       "      <td>258.27</td>\n",
       "      <td>712.0</td>\n",
       "    </tr>\n",
       "    <tr>\n",
       "      <th>4</th>\n",
       "      <td>14000.0</td>\n",
       "      <td>36</td>\n",
       "      <td>0.1427</td>\n",
       "      <td>480.33</td>\n",
       "      <td>2</td>\n",
       "      <td>0</td>\n",
       "      <td>4</td>\n",
       "      <td>35000.0</td>\n",
       "      <td>1</td>\n",
       "      <td>1</td>\n",
       "      <td>1</td>\n",
       "      <td>8.40</td>\n",
       "      <td>0.657</td>\n",
       "      <td>30.0</td>\n",
       "      <td>16745.801430</td>\n",
       "      <td>0.00</td>\n",
       "      <td>682.0</td>\n",
       "    </tr>\n",
       "  </tbody>\n",
       "</table>\n",
       "</div>"
      ],
      "text/plain": [
       "   loan_amnt  term  int_rate  installment  grade  emp_length  home_ownership  \\\n",
       "0     5000.0    36    0.1065       162.87      1          10               4   \n",
       "1     2500.0    60    0.1527        59.83      2           0               4   \n",
       "2     6500.0    60    0.1465       153.45      2           5               3   \n",
       "3     6200.0    36    0.0991       199.80      1           2               4   \n",
       "4    14000.0    36    0.1427       480.33      2           0               4   \n",
       "\n",
       "   annual_inc  verification_status  loan_status  purpose    dti  revol_util  \\\n",
       "0     24000.0                    1            1        1  27.65       0.837   \n",
       "1     30000.0                    1            0        0   1.00       0.094   \n",
       "2     72000.0                    0            1        1  16.12       0.206   \n",
       "3     25000.0                    0            0        1  20.64       0.477   \n",
       "4     35000.0                    1            1        1   8.40       0.657   \n",
       "\n",
       "   total_acc   total_pymnt  recoveries  fico_score  \n",
       "0        9.0   5863.155187        0.00       737.0  \n",
       "1        4.0   1008.710000      117.08       742.0  \n",
       "2       23.0   7678.017673        0.00       697.0  \n",
       "3       12.0   2452.220000      258.27       712.0  \n",
       "4       30.0  16745.801430        0.00       682.0  "
      ]
     },
     "execution_count": 69,
     "metadata": {},
     "output_type": "execute_result"
    }
   ],
   "source": [
    "pd.set_option('display.max_columns', None)\n",
    "dft.head()"
   ]
  },
  {
   "cell_type": "code",
   "execution_count": 70,
   "id": "1fafafe9",
   "metadata": {},
   "outputs": [
    {
     "data": {
      "text/plain": [
       "(41423, 17)"
      ]
     },
     "execution_count": 70,
     "metadata": {},
     "output_type": "execute_result"
    }
   ],
   "source": [
    "dft.shape"
   ]
  },
  {
   "cell_type": "code",
   "execution_count": 71,
   "id": "580945a7",
   "metadata": {},
   "outputs": [
    {
     "name": "stdout",
     "output_type": "stream",
     "text": [
      "<class 'pandas.core.frame.DataFrame'>\n",
      "Int64Index: 41423 entries, 0 to 42537\n",
      "Data columns (total 17 columns):\n",
      " #   Column               Non-Null Count  Dtype  \n",
      "---  ------               --------------  -----  \n",
      " 0   loan_amnt            41423 non-null  float64\n",
      " 1   term                 41423 non-null  int64  \n",
      " 2   int_rate             41423 non-null  float64\n",
      " 3   installment          41423 non-null  float64\n",
      " 4   grade                41423 non-null  int32  \n",
      " 5   emp_length           41423 non-null  int64  \n",
      " 6   home_ownership       41423 non-null  int32  \n",
      " 7   annual_inc           41423 non-null  float64\n",
      " 8   verification_status  41423 non-null  int32  \n",
      " 9   loan_status          41423 non-null  int32  \n",
      " 10  purpose              41423 non-null  int32  \n",
      " 11  dti                  41423 non-null  float64\n",
      " 12  revol_util           41423 non-null  float64\n",
      " 13  total_acc            41423 non-null  float64\n",
      " 14  total_pymnt          41423 non-null  float64\n",
      " 15  recoveries           41423 non-null  float64\n",
      " 16  fico_score           41423 non-null  float64\n",
      "dtypes: float64(10), int32(5), int64(2)\n",
      "memory usage: 4.9 MB\n"
     ]
    }
   ],
   "source": [
    "dft.info()"
   ]
  },
  {
   "cell_type": "code",
   "execution_count": 72,
   "id": "c3055dc6",
   "metadata": {},
   "outputs": [
    {
     "data": {
      "text/html": [
       "<div>\n",
       "<style scoped>\n",
       "    .dataframe tbody tr th:only-of-type {\n",
       "        vertical-align: middle;\n",
       "    }\n",
       "\n",
       "    .dataframe tbody tr th {\n",
       "        vertical-align: top;\n",
       "    }\n",
       "\n",
       "    .dataframe thead th {\n",
       "        text-align: right;\n",
       "    }\n",
       "</style>\n",
       "<table border=\"1\" class=\"dataframe\">\n",
       "  <thead>\n",
       "    <tr style=\"text-align: right;\">\n",
       "      <th></th>\n",
       "      <th>Features</th>\n",
       "      <th>Null values</th>\n",
       "      <th>% Null values</th>\n",
       "    </tr>\n",
       "  </thead>\n",
       "  <tbody>\n",
       "    <tr>\n",
       "      <th>0</th>\n",
       "      <td>loan_amnt</td>\n",
       "      <td>0</td>\n",
       "      <td>0.0</td>\n",
       "    </tr>\n",
       "    <tr>\n",
       "      <th>9</th>\n",
       "      <td>loan_status</td>\n",
       "      <td>0</td>\n",
       "      <td>0.0</td>\n",
       "    </tr>\n",
       "    <tr>\n",
       "      <th>15</th>\n",
       "      <td>recoveries</td>\n",
       "      <td>0</td>\n",
       "      <td>0.0</td>\n",
       "    </tr>\n",
       "    <tr>\n",
       "      <th>14</th>\n",
       "      <td>total_pymnt</td>\n",
       "      <td>0</td>\n",
       "      <td>0.0</td>\n",
       "    </tr>\n",
       "    <tr>\n",
       "      <th>13</th>\n",
       "      <td>total_acc</td>\n",
       "      <td>0</td>\n",
       "      <td>0.0</td>\n",
       "    </tr>\n",
       "    <tr>\n",
       "      <th>12</th>\n",
       "      <td>revol_util</td>\n",
       "      <td>0</td>\n",
       "      <td>0.0</td>\n",
       "    </tr>\n",
       "    <tr>\n",
       "      <th>11</th>\n",
       "      <td>dti</td>\n",
       "      <td>0</td>\n",
       "      <td>0.0</td>\n",
       "    </tr>\n",
       "    <tr>\n",
       "      <th>10</th>\n",
       "      <td>purpose</td>\n",
       "      <td>0</td>\n",
       "      <td>0.0</td>\n",
       "    </tr>\n",
       "    <tr>\n",
       "      <th>8</th>\n",
       "      <td>verification_status</td>\n",
       "      <td>0</td>\n",
       "      <td>0.0</td>\n",
       "    </tr>\n",
       "    <tr>\n",
       "      <th>1</th>\n",
       "      <td>term</td>\n",
       "      <td>0</td>\n",
       "      <td>0.0</td>\n",
       "    </tr>\n",
       "    <tr>\n",
       "      <th>7</th>\n",
       "      <td>annual_inc</td>\n",
       "      <td>0</td>\n",
       "      <td>0.0</td>\n",
       "    </tr>\n",
       "    <tr>\n",
       "      <th>6</th>\n",
       "      <td>home_ownership</td>\n",
       "      <td>0</td>\n",
       "      <td>0.0</td>\n",
       "    </tr>\n",
       "    <tr>\n",
       "      <th>5</th>\n",
       "      <td>emp_length</td>\n",
       "      <td>0</td>\n",
       "      <td>0.0</td>\n",
       "    </tr>\n",
       "    <tr>\n",
       "      <th>4</th>\n",
       "      <td>grade</td>\n",
       "      <td>0</td>\n",
       "      <td>0.0</td>\n",
       "    </tr>\n",
       "    <tr>\n",
       "      <th>3</th>\n",
       "      <td>installment</td>\n",
       "      <td>0</td>\n",
       "      <td>0.0</td>\n",
       "    </tr>\n",
       "    <tr>\n",
       "      <th>2</th>\n",
       "      <td>int_rate</td>\n",
       "      <td>0</td>\n",
       "      <td>0.0</td>\n",
       "    </tr>\n",
       "    <tr>\n",
       "      <th>16</th>\n",
       "      <td>fico_score</td>\n",
       "      <td>0</td>\n",
       "      <td>0.0</td>\n",
       "    </tr>\n",
       "  </tbody>\n",
       "</table>\n",
       "</div>"
      ],
      "text/plain": [
       "               Features  Null values  % Null values\n",
       "0             loan_amnt            0            0.0\n",
       "9           loan_status            0            0.0\n",
       "15           recoveries            0            0.0\n",
       "14          total_pymnt            0            0.0\n",
       "13            total_acc            0            0.0\n",
       "12           revol_util            0            0.0\n",
       "11                  dti            0            0.0\n",
       "10              purpose            0            0.0\n",
       "8   verification_status            0            0.0\n",
       "1                  term            0            0.0\n",
       "7            annual_inc            0            0.0\n",
       "6        home_ownership            0            0.0\n",
       "5            emp_length            0            0.0\n",
       "4                 grade            0            0.0\n",
       "3           installment            0            0.0\n",
       "2              int_rate            0            0.0\n",
       "16           fico_score            0            0.0"
      ]
     },
     "execution_count": 72,
     "metadata": {},
     "output_type": "execute_result"
    }
   ],
   "source": [
    "nul_calcul(dft)"
   ]
  },
  {
   "cell_type": "markdown",
   "id": "e014c104",
   "metadata": {},
   "source": [
    "## **Splitting Dataset Into Train and Test**"
   ]
  },
  {
   "cell_type": "markdown",
   "id": "24b7c831",
   "metadata": {},
   "source": [
    "### **1- Define X & y**"
   ]
  },
  {
   "cell_type": "code",
   "execution_count": 144,
   "id": "5fbd02f4",
   "metadata": {},
   "outputs": [],
   "source": [
    "X=dft.drop('loan_status',axis=1)\n",
    "y=dft['loan_status']"
   ]
  },
  {
   "cell_type": "code",
   "execution_count": 145,
   "id": "c2337cbd",
   "metadata": {},
   "outputs": [
    {
     "data": {
      "text/plain": [
       "((41423, 16), (41423,))"
      ]
     },
     "execution_count": 145,
     "metadata": {},
     "output_type": "execute_result"
    }
   ],
   "source": [
    "#show the shape of X and y\n",
    "X.shape,y.shape"
   ]
  },
  {
   "cell_type": "code",
   "execution_count": 146,
   "id": "fd4bd74a",
   "metadata": {},
   "outputs": [
    {
     "data": {
      "text/html": [
       "<div>\n",
       "<style scoped>\n",
       "    .dataframe tbody tr th:only-of-type {\n",
       "        vertical-align: middle;\n",
       "    }\n",
       "\n",
       "    .dataframe tbody tr th {\n",
       "        vertical-align: top;\n",
       "    }\n",
       "\n",
       "    .dataframe thead th {\n",
       "        text-align: right;\n",
       "    }\n",
       "</style>\n",
       "<table border=\"1\" class=\"dataframe\">\n",
       "  <thead>\n",
       "    <tr style=\"text-align: right;\">\n",
       "      <th></th>\n",
       "      <th>loan_amnt</th>\n",
       "      <th>term</th>\n",
       "      <th>int_rate</th>\n",
       "      <th>installment</th>\n",
       "      <th>grade</th>\n",
       "      <th>emp_length</th>\n",
       "      <th>home_ownership</th>\n",
       "      <th>annual_inc</th>\n",
       "      <th>verification_status</th>\n",
       "      <th>purpose</th>\n",
       "      <th>dti</th>\n",
       "      <th>revol_util</th>\n",
       "      <th>total_acc</th>\n",
       "      <th>total_pymnt</th>\n",
       "      <th>recoveries</th>\n",
       "      <th>fico_score</th>\n",
       "    </tr>\n",
       "  </thead>\n",
       "  <tbody>\n",
       "    <tr>\n",
       "      <th>0</th>\n",
       "      <td>5000.0</td>\n",
       "      <td>36</td>\n",
       "      <td>0.1065</td>\n",
       "      <td>162.87</td>\n",
       "      <td>1</td>\n",
       "      <td>10</td>\n",
       "      <td>4</td>\n",
       "      <td>24000.0</td>\n",
       "      <td>1</td>\n",
       "      <td>1</td>\n",
       "      <td>27.65</td>\n",
       "      <td>0.837</td>\n",
       "      <td>9.0</td>\n",
       "      <td>5863.155187</td>\n",
       "      <td>0.00</td>\n",
       "      <td>737.0</td>\n",
       "    </tr>\n",
       "    <tr>\n",
       "      <th>1</th>\n",
       "      <td>2500.0</td>\n",
       "      <td>60</td>\n",
       "      <td>0.1527</td>\n",
       "      <td>59.83</td>\n",
       "      <td>2</td>\n",
       "      <td>0</td>\n",
       "      <td>4</td>\n",
       "      <td>30000.0</td>\n",
       "      <td>1</td>\n",
       "      <td>0</td>\n",
       "      <td>1.00</td>\n",
       "      <td>0.094</td>\n",
       "      <td>4.0</td>\n",
       "      <td>1008.710000</td>\n",
       "      <td>117.08</td>\n",
       "      <td>742.0</td>\n",
       "    </tr>\n",
       "    <tr>\n",
       "      <th>2</th>\n",
       "      <td>6500.0</td>\n",
       "      <td>60</td>\n",
       "      <td>0.1465</td>\n",
       "      <td>153.45</td>\n",
       "      <td>2</td>\n",
       "      <td>5</td>\n",
       "      <td>3</td>\n",
       "      <td>72000.0</td>\n",
       "      <td>0</td>\n",
       "      <td>1</td>\n",
       "      <td>16.12</td>\n",
       "      <td>0.206</td>\n",
       "      <td>23.0</td>\n",
       "      <td>7678.017673</td>\n",
       "      <td>0.00</td>\n",
       "      <td>697.0</td>\n",
       "    </tr>\n",
       "    <tr>\n",
       "      <th>3</th>\n",
       "      <td>6200.0</td>\n",
       "      <td>36</td>\n",
       "      <td>0.0991</td>\n",
       "      <td>199.80</td>\n",
       "      <td>1</td>\n",
       "      <td>2</td>\n",
       "      <td>4</td>\n",
       "      <td>25000.0</td>\n",
       "      <td>0</td>\n",
       "      <td>1</td>\n",
       "      <td>20.64</td>\n",
       "      <td>0.477</td>\n",
       "      <td>12.0</td>\n",
       "      <td>2452.220000</td>\n",
       "      <td>258.27</td>\n",
       "      <td>712.0</td>\n",
       "    </tr>\n",
       "    <tr>\n",
       "      <th>4</th>\n",
       "      <td>14000.0</td>\n",
       "      <td>36</td>\n",
       "      <td>0.1427</td>\n",
       "      <td>480.33</td>\n",
       "      <td>2</td>\n",
       "      <td>0</td>\n",
       "      <td>4</td>\n",
       "      <td>35000.0</td>\n",
       "      <td>1</td>\n",
       "      <td>1</td>\n",
       "      <td>8.40</td>\n",
       "      <td>0.657</td>\n",
       "      <td>30.0</td>\n",
       "      <td>16745.801430</td>\n",
       "      <td>0.00</td>\n",
       "      <td>682.0</td>\n",
       "    </tr>\n",
       "  </tbody>\n",
       "</table>\n",
       "</div>"
      ],
      "text/plain": [
       "   loan_amnt  term  int_rate  installment  grade  emp_length  home_ownership  \\\n",
       "0     5000.0    36    0.1065       162.87      1          10               4   \n",
       "1     2500.0    60    0.1527        59.83      2           0               4   \n",
       "2     6500.0    60    0.1465       153.45      2           5               3   \n",
       "3     6200.0    36    0.0991       199.80      1           2               4   \n",
       "4    14000.0    36    0.1427       480.33      2           0               4   \n",
       "\n",
       "   annual_inc  verification_status  purpose    dti  revol_util  total_acc  \\\n",
       "0     24000.0                    1        1  27.65       0.837        9.0   \n",
       "1     30000.0                    1        0   1.00       0.094        4.0   \n",
       "2     72000.0                    0        1  16.12       0.206       23.0   \n",
       "3     25000.0                    0        1  20.64       0.477       12.0   \n",
       "4     35000.0                    1        1   8.40       0.657       30.0   \n",
       "\n",
       "    total_pymnt  recoveries  fico_score  \n",
       "0   5863.155187        0.00       737.0  \n",
       "1   1008.710000      117.08       742.0  \n",
       "2   7678.017673        0.00       697.0  \n",
       "3   2452.220000      258.27       712.0  \n",
       "4  16745.801430        0.00       682.0  "
      ]
     },
     "execution_count": 146,
     "metadata": {},
     "output_type": "execute_result"
    }
   ],
   "source": [
    "#show the head of X\n",
    "X.head()"
   ]
  },
  {
   "cell_type": "code",
   "execution_count": 147,
   "id": "31e30cf9",
   "metadata": {},
   "outputs": [],
   "source": [
    "# split the data between the train and test dataset (test_size=0.3)\n",
    "from sklearn.model_selection import train_test_split\n",
    "X_train, X_test, y_train, y_test=train_test_split(X,y,test_size=0.3, random_state=1)"
   ]
  },
  {
   "cell_type": "code",
   "execution_count": 148,
   "id": "e1ea005f",
   "metadata": {},
   "outputs": [
    {
     "name": "stdout",
     "output_type": "stream",
     "text": [
      "size of dataset (41423, 17) (41423, 17)\n",
      "size of training dataset (28996, 16) (28996,)\n",
      "size of test dataset (12427, 16) (12427,)\n"
     ]
    }
   ],
   "source": [
    "print(\"size of dataset\", dft.shape,dft.shape)\n",
    "print(\"size of training dataset\", X_train.shape,y_train.shape)\n",
    "print(\"size of test dataset\", X_test.shape,y_test.shape)"
   ]
  },
  {
   "cell_type": "markdown",
   "id": "5828c1fd",
   "metadata": {},
   "source": [
    "### Scalling data so we can have the same scale so the model doesn't favorit one feature over the other"
   ]
  },
  {
   "cell_type": "code",
   "execution_count": 149,
   "id": "3ef0a55a",
   "metadata": {},
   "outputs": [],
   "source": [
    "from sklearn.preprocessing import MinMaxScaler"
   ]
  },
  {
   "cell_type": "code",
   "execution_count": 152,
   "id": "3fc80c1a",
   "metadata": {},
   "outputs": [],
   "source": [
    "scaler=MinMaxScaler()"
   ]
  },
  {
   "cell_type": "code",
   "execution_count": 153,
   "id": "ccc4a87e",
   "metadata": {},
   "outputs": [
    {
     "data": {
      "text/plain": [
       "MinMaxScaler()"
      ]
     },
     "execution_count": 153,
     "metadata": {},
     "output_type": "execute_result"
    }
   ],
   "source": [
    "scaler.fit(X_train)"
   ]
  },
  {
   "cell_type": "code",
   "execution_count": 154,
   "id": "214b599a",
   "metadata": {},
   "outputs": [],
   "source": [
    "X_train=scaler.transform(X_train)\n",
    "X_test=scaler.transform(X_test)"
   ]
  },
  {
   "cell_type": "markdown",
   "id": "7a542cbf",
   "metadata": {},
   "source": [
    "### Balancing Data"
   ]
  },
  {
   "cell_type": "markdown",
   "id": "6ec33f30",
   "metadata": {},
   "source": [
    "#### It seems we have unbalanced data w'ill have to balance it"
   ]
  },
  {
   "cell_type": "code",
   "execution_count": 155,
   "id": "33945328",
   "metadata": {},
   "outputs": [
    {
     "data": {
      "text/plain": [
       "<AxesSubplot:ylabel='loan_status'>"
      ]
     },
     "execution_count": 155,
     "metadata": {},
     "output_type": "execute_result"
    },
    {
     "data": {
      "image/png": "[encoded data removed]",
      "text/plain": [
       "<Figure size 432x288 with 1 Axes>"
      ]
     },
     "metadata": {},
     "output_type": "display_data"
    }
   ],
   "source": [
    "y.value_counts().plot.pie(autopct='%.2f')"
   ]
  },
  {
   "cell_type": "code",
   "execution_count": 156,
   "id": "16546bcb",
   "metadata": {},
   "outputs": [],
   "source": [
    "#!pip install imblearn"
   ]
  },
  {
   "cell_type": "code",
   "execution_count": 157,
   "id": "fd07ba75",
   "metadata": {},
   "outputs": [
    {
     "data": {
      "image/png": "[encoded data removed]",
      "text/plain": [
       "<Figure size 432x288 with 1 Axes>"
      ]
     },
     "metadata": {},
     "output_type": "display_data"
    }
   ],
   "source": [
    "from imblearn.over_sampling import RandomOverSampler\n",
    "\n",
    "ros=RandomOverSampler(sampling_strategy=1)\n",
    "X_res, y_res=ros.fit_resample(X_train,y_train)\n",
    "ax = y_res.value_counts().plot.pie(autopct='%.2f')\n",
    "_=ax.set_title(\"Over-Sampling-Data\")"
   ]
  },
  {
   "cell_type": "markdown",
   "id": "37657b70",
   "metadata": {},
   "source": [
    "## **Building Models**"
   ]
  },
  {
   "cell_type": "markdown",
   "id": "9971c3b6",
   "metadata": {},
   "source": [
    "### **Running Models and Evaluating with graphs and indicators**"
   ]
  },
  {
   "cell_type": "markdown",
   "id": "a1e20d73",
   "metadata": {},
   "source": [
    "#### **Load Classification Models**"
   ]
  },
  {
   "cell_type": "code",
   "execution_count": 158,
   "id": "62094bcd",
   "metadata": {},
   "outputs": [],
   "source": [
    "from sklearn.linear_model import LogisticRegression\n",
    "from sklearn.discriminant_analysis import LinearDiscriminantAnalysis\n",
    "from sklearn.tree import DecisionTreeClassifier\n",
    "from sklearn.neighbors import KNeighborsClassifier\n",
    "from sklearn.svm import SVC\n",
    "from sklearn.ensemble import AdaBoostClassifier, GradientBoostingClassifier\n",
    "from sklearn.ensemble import BaggingClassifier, RandomForestClassifier, ExtraTreesClassifier\n",
    "from sklearn.metrics import plot_roc_curve\n",
    "from sklearn.metrics import accuracy_score,f1_score, roc_auc_score ,confusion_matrix, classification_report\n",
    "from sklearn.metrics import plot_confusion_matrix"
   ]
  },
  {
   "cell_type": "markdown",
   "id": "f92540d7",
   "metadata": {},
   "source": [
    "### **Logistic Regression**"
   ]
  },
  {
   "cell_type": "code",
   "execution_count": 159,
   "id": "f2b8eaa5",
   "metadata": {},
   "outputs": [
    {
     "data": {
      "text/plain": [
       "LogisticRegression()"
      ]
     },
     "execution_count": 159,
     "metadata": {},
     "output_type": "execute_result"
    }
   ],
   "source": [
    "LR = LogisticRegression().fit(X_res,y_res)\n",
    "LR"
   ]
  },
  {
   "cell_type": "code",
   "execution_count": 160,
   "id": "54619f87",
   "metadata": {},
   "outputs": [
    {
     "name": "stdout",
     "output_type": "stream",
     "text": [
      "[[ 1619   228]\n",
      " [  397 10183]]\n",
      "              precision    recall  f1-score   support\n",
      "\n",
      "           0       0.80      0.88      0.84      1847\n",
      "           1       0.98      0.96      0.97     10580\n",
      "\n",
      "    accuracy                           0.95     12427\n",
      "   macro avg       0.89      0.92      0.90     12427\n",
      "weighted avg       0.95      0.95      0.95     12427\n",
      "\n"
     ]
    },
    {
     "data": {
      "text/plain": [
       "<sklearn.metrics._plot.roc_curve.RocCurveDisplay at 0x1ebf360d400>"
      ]
     },
     "execution_count": 160,
     "metadata": {},
     "output_type": "execute_result"
    },
    {
     "data": {
      "image/png": "[encoded data removed]",
      "text/plain": [
       "<Figure size 432x288 with 1 Axes>"
      ]
     },
     "metadata": {
      "needs_background": "light"
     },
     "output_type": "display_data"
    }
   ],
   "source": [
    "y_pred=LR.predict(X_test)\n",
    "print(confusion_matrix(y_test,y_pred))\n",
    "print(classification_report(y_test, y_pred))\n",
    "plot_roc_curve(LR,X_test,y_test)"
   ]
  },
  {
   "cell_type": "markdown",
   "id": "a2751c44",
   "metadata": {},
   "source": [
    "### **Linear Discriminant Analysis**"
   ]
  },
  {
   "cell_type": "code",
   "execution_count": 161,
   "id": "8badeaef",
   "metadata": {},
   "outputs": [
    {
     "data": {
      "text/plain": [
       "LinearDiscriminantAnalysis()"
      ]
     },
     "execution_count": 161,
     "metadata": {},
     "output_type": "execute_result"
    }
   ],
   "source": [
    "LDA = LinearDiscriminantAnalysis().fit(X_res,y_res)\n",
    "LDA"
   ]
  },
  {
   "cell_type": "code",
   "execution_count": 162,
   "id": "44583d43",
   "metadata": {},
   "outputs": [
    {
     "name": "stdout",
     "output_type": "stream",
     "text": [
      "[[ 1464   383]\n",
      " [  412 10168]]\n",
      "              precision    recall  f1-score   support\n",
      "\n",
      "           0       0.78      0.79      0.79      1847\n",
      "           1       0.96      0.96      0.96     10580\n",
      "\n",
      "    accuracy                           0.94     12427\n",
      "   macro avg       0.87      0.88      0.87     12427\n",
      "weighted avg       0.94      0.94      0.94     12427\n",
      "\n"
     ]
    },
    {
     "data": {
      "text/plain": [
       "<sklearn.metrics._plot.roc_curve.RocCurveDisplay at 0x1ebbe1aa7f0>"
      ]
     },
     "execution_count": 162,
     "metadata": {},
     "output_type": "execute_result"
    },
    {
     "data": {
      "image/png": "[encoded data removed]",
      "text/plain": [
       "<Figure size 432x288 with 1 Axes>"
      ]
     },
     "metadata": {
      "needs_background": "light"
     },
     "output_type": "display_data"
    }
   ],
   "source": [
    "y_pred=LDA.predict(X_test)\n",
    "print(confusion_matrix(y_test,y_pred))\n",
    "print(classification_report(y_test, y_pred))\n",
    "plot_roc_curve(LDA,X_test,y_test)"
   ]
  },
  {
   "cell_type": "markdown",
   "id": "807ed792",
   "metadata": {},
   "source": [
    "### **Decision Tree**"
   ]
  },
  {
   "cell_type": "code",
   "execution_count": 163,
   "id": "d67e06fd",
   "metadata": {},
   "outputs": [
    {
     "data": {
      "text/plain": [
       "DecisionTreeClassifier()"
      ]
     },
     "execution_count": 163,
     "metadata": {},
     "output_type": "execute_result"
    }
   ],
   "source": [
    "DT = DecisionTreeClassifier().fit(X_res,y_res)\n",
    "DT"
   ]
  },
  {
   "cell_type": "code",
   "execution_count": 164,
   "id": "3f3882e1",
   "metadata": {},
   "outputs": [
    {
     "name": "stdout",
     "output_type": "stream",
     "text": [
      "[[ 1785    62]\n",
      " [   41 10539]]\n",
      "              precision    recall  f1-score   support\n",
      "\n",
      "           0       0.98      0.97      0.97      1847\n",
      "           1       0.99      1.00      1.00     10580\n",
      "\n",
      "    accuracy                           0.99     12427\n",
      "   macro avg       0.99      0.98      0.98     12427\n",
      "weighted avg       0.99      0.99      0.99     12427\n",
      "\n"
     ]
    },
    {
     "data": {
      "text/plain": [
       "<sklearn.metrics._plot.roc_curve.RocCurveDisplay at 0x1ebf36445e0>"
      ]
     },
     "execution_count": 164,
     "metadata": {},
     "output_type": "execute_result"
    },
    {
     "data": {
      "image/png": "[encoded data removed]",
      "text/plain": [
       "<Figure size 432x288 with 1 Axes>"
      ]
     },
     "metadata": {
      "needs_background": "light"
     },
     "output_type": "display_data"
    }
   ],
   "source": [
    "y_pred=DT.predict(X_test)\n",
    "print(confusion_matrix(y_test,y_pred))\n",
    "print(classification_report(y_test, y_pred))\n",
    "plot_roc_curve(DT,X_test,y_test)"
   ]
  },
  {
   "cell_type": "markdown",
   "id": "2005a9cd",
   "metadata": {},
   "source": [
    "### **K-Nearest Neighbors Classifier**"
   ]
  },
  {
   "cell_type": "code",
   "execution_count": 165,
   "id": "23dcd8c6",
   "metadata": {},
   "outputs": [
    {
     "data": {
      "text/plain": [
       "KNeighborsClassifier()"
      ]
     },
     "execution_count": 165,
     "metadata": {},
     "output_type": "execute_result"
    }
   ],
   "source": [
    "KNN = KNeighborsClassifier().fit(X_res,y_res)\n",
    "KNN"
   ]
  },
  {
   "cell_type": "code",
   "execution_count": 166,
   "id": "00308d12",
   "metadata": {},
   "outputs": [
    {
     "name": "stdout",
     "output_type": "stream",
     "text": [
      "[[1024  823]\n",
      " [2200 8380]]\n",
      "              precision    recall  f1-score   support\n",
      "\n",
      "           0       0.32      0.55      0.40      1847\n",
      "           1       0.91      0.79      0.85     10580\n",
      "\n",
      "    accuracy                           0.76     12427\n",
      "   macro avg       0.61      0.67      0.63     12427\n",
      "weighted avg       0.82      0.76      0.78     12427\n",
      "\n"
     ]
    },
    {
     "data": {
      "text/plain": [
       "<sklearn.metrics._plot.roc_curve.RocCurveDisplay at 0x1ebc319f9a0>"
      ]
     },
     "execution_count": 166,
     "metadata": {},
     "output_type": "execute_result"
    },
    {
     "data": {
      "image/png": "[encoded data removed]",
      "text/plain": [
       "<Figure size 432x288 with 1 Axes>"
      ]
     },
     "metadata": {
      "needs_background": "light"
     },
     "output_type": "display_data"
    }
   ],
   "source": [
    "y_pred=KNN.predict(X_test)\n",
    "print(confusion_matrix(y_test,y_pred))\n",
    "print(classification_report(y_test, y_pred))\n",
    "plot_roc_curve(KNN,X_test,y_test)"
   ]
  },
  {
   "cell_type": "markdown",
   "id": "9c57d477",
   "metadata": {},
   "source": [
    "### **Support Vector Machine**"
   ]
  },
  {
   "cell_type": "code",
   "execution_count": 167,
   "id": "b5effb0c",
   "metadata": {},
   "outputs": [
    {
     "data": {
      "text/plain": [
       "SVC()"
      ]
     },
     "execution_count": 167,
     "metadata": {},
     "output_type": "execute_result"
    }
   ],
   "source": [
    "SVM = SVC().fit(X_res,y_res)\n",
    "SVM"
   ]
  },
  {
   "cell_type": "code",
   "execution_count": 168,
   "id": "a16f94fc",
   "metadata": {},
   "outputs": [
    {
     "name": "stdout",
     "output_type": "stream",
     "text": [
      "[[ 1632   215]\n",
      " [  191 10389]]\n",
      "              precision    recall  f1-score   support\n",
      "\n",
      "           0       0.90      0.88      0.89      1847\n",
      "           1       0.98      0.98      0.98     10580\n",
      "\n",
      "    accuracy                           0.97     12427\n",
      "   macro avg       0.94      0.93      0.94     12427\n",
      "weighted avg       0.97      0.97      0.97     12427\n",
      "\n"
     ]
    },
    {
     "data": {
      "text/plain": [
       "<sklearn.metrics._plot.roc_curve.RocCurveDisplay at 0x1ebf365f730>"
      ]
     },
     "execution_count": 168,
     "metadata": {},
     "output_type": "execute_result"
    },
    {
     "data": {
      "image/png": "[encoded data removed]",
      "text/plain": [
       "<Figure size 432x288 with 1 Axes>"
      ]
     },
     "metadata": {
      "needs_background": "light"
     },
     "output_type": "display_data"
    }
   ],
   "source": [
    "y_pred=SVM.predict(X_test)\n",
    "print(confusion_matrix(y_test,y_pred))\n",
    "print(classification_report(y_test, y_pred))\n",
    "plot_roc_curve(SVM,X_test,y_test)"
   ]
  },
  {
   "cell_type": "markdown",
   "id": "c966f621",
   "metadata": {},
   "source": [
    "### **Random Forest**"
   ]
  },
  {
   "cell_type": "code",
   "execution_count": 169,
   "id": "ea306231",
   "metadata": {},
   "outputs": [
    {
     "data": {
      "text/plain": [
       "RandomForestClassifier()"
      ]
     },
     "execution_count": 169,
     "metadata": {},
     "output_type": "execute_result"
    }
   ],
   "source": [
    "RF=RandomForestClassifier().fit(X_res,y_res)\n",
    "RF"
   ]
  },
  {
   "cell_type": "code",
   "execution_count": 170,
   "id": "13377bcf",
   "metadata": {},
   "outputs": [
    {
     "name": "stdout",
     "output_type": "stream",
     "text": [
      "[[ 1752    95]\n",
      " [    0 10580]]\n",
      "              precision    recall  f1-score   support\n",
      "\n",
      "           0       1.00      0.95      0.97      1847\n",
      "           1       0.99      1.00      1.00     10580\n",
      "\n",
      "    accuracy                           0.99     12427\n",
      "   macro avg       1.00      0.97      0.98     12427\n",
      "weighted avg       0.99      0.99      0.99     12427\n",
      "\n"
     ]
    },
    {
     "data": {
      "text/plain": [
       "<sklearn.metrics._plot.roc_curve.RocCurveDisplay at 0x1ebf3c5b130>"
      ]
     },
     "execution_count": 170,
     "metadata": {},
     "output_type": "execute_result"
    },
    {
     "data": {
      "image/png": "[encoded data removed]",
      "text/plain": [
       "<Figure size 432x288 with 1 Axes>"
      ]
     },
     "metadata": {
      "needs_background": "light"
     },
     "output_type": "display_data"
    }
   ],
   "source": [
    "y_pred=RF.predict(X_test)\n",
    "print(confusion_matrix(y_test,y_pred))\n",
    "print(classification_report(y_test, y_pred))\n",
    "plot_roc_curve(RF,X_test,y_test)"
   ]
  },
  {
   "cell_type": "markdown",
   "id": "297126e2",
   "metadata": {},
   "source": [
    "### **Bagging**"
   ]
  },
  {
   "cell_type": "code",
   "execution_count": 171,
   "id": "3a3a20aa",
   "metadata": {},
   "outputs": [
    {
     "data": {
      "text/plain": [
       "BaggingClassifier()"
      ]
     },
     "execution_count": 171,
     "metadata": {},
     "output_type": "execute_result"
    }
   ],
   "source": [
    "BG=BaggingClassifier().fit(X_res,y_res)\n",
    "BG"
   ]
  },
  {
   "cell_type": "code",
   "execution_count": 172,
   "id": "afb5891a",
   "metadata": {},
   "outputs": [
    {
     "name": "stdout",
     "output_type": "stream",
     "text": [
      "[[ 1793    54]\n",
      " [   25 10555]]\n",
      "              precision    recall  f1-score   support\n",
      "\n",
      "           0       0.99      0.97      0.98      1847\n",
      "           1       0.99      1.00      1.00     10580\n",
      "\n",
      "    accuracy                           0.99     12427\n",
      "   macro avg       0.99      0.98      0.99     12427\n",
      "weighted avg       0.99      0.99      0.99     12427\n",
      "\n"
     ]
    },
    {
     "data": {
      "text/plain": [
       "<sklearn.metrics._plot.roc_curve.RocCurveDisplay at 0x1ebb7275550>"
      ]
     },
     "execution_count": 172,
     "metadata": {},
     "output_type": "execute_result"
    },
    {
     "data": {
      "image/png": "[encoded data removed]",
      "text/plain": [
       "<Figure size 432x288 with 1 Axes>"
      ]
     },
     "metadata": {
      "needs_background": "light"
     },
     "output_type": "display_data"
    }
   ],
   "source": [
    "y_pred=BG.predict(X_test)\n",
    "print(confusion_matrix(y_test,y_pred))\n",
    "print(classification_report(y_test, y_pred))\n",
    "plot_roc_curve(BG,X_test,y_test)"
   ]
  },
  {
   "cell_type": "markdown",
   "id": "5ca04e6c",
   "metadata": {},
   "source": [
    "### **Extra Trees**"
   ]
  },
  {
   "cell_type": "code",
   "execution_count": 173,
   "id": "8504408c",
   "metadata": {},
   "outputs": [
    {
     "data": {
      "text/plain": [
       "ExtraTreesClassifier()"
      ]
     },
     "execution_count": 173,
     "metadata": {},
     "output_type": "execute_result"
    }
   ],
   "source": [
    "ET=ExtraTreesClassifier().fit(X_res,y_res)\n",
    "ET"
   ]
  },
  {
   "cell_type": "code",
   "execution_count": 174,
   "id": "864c3185",
   "metadata": {},
   "outputs": [
    {
     "name": "stdout",
     "output_type": "stream",
     "text": [
      "[[ 1627   220]\n",
      " [    1 10579]]\n",
      "              precision    recall  f1-score   support\n",
      "\n",
      "           0       1.00      0.88      0.94      1847\n",
      "           1       0.98      1.00      0.99     10580\n",
      "\n",
      "    accuracy                           0.98     12427\n",
      "   macro avg       0.99      0.94      0.96     12427\n",
      "weighted avg       0.98      0.98      0.98     12427\n",
      "\n"
     ]
    },
    {
     "data": {
      "text/plain": [
       "<sklearn.metrics._plot.roc_curve.RocCurveDisplay at 0x1ebbd62c0d0>"
      ]
     },
     "execution_count": 174,
     "metadata": {},
     "output_type": "execute_result"
    },
    {
     "data": {
      "image/png": "[encoded data removed]",
      "text/plain": [
       "<Figure size 432x288 with 1 Axes>"
      ]
     },
     "metadata": {
      "needs_background": "light"
     },
     "output_type": "display_data"
    }
   ],
   "source": [
    "y_pred=ET.predict(X_test)\n",
    "print(confusion_matrix(y_test,y_pred))\n",
    "print(classification_report(y_test, y_pred))\n",
    "plot_roc_curve(ET,X_test,y_test)"
   ]
  },
  {
   "cell_type": "markdown",
   "id": "7a41afd9",
   "metadata": {},
   "source": [
    "### **AdaBoost**"
   ]
  },
  {
   "cell_type": "code",
   "execution_count": 175,
   "id": "164c8a11",
   "metadata": {},
   "outputs": [
    {
     "data": {
      "text/plain": [
       "AdaBoostClassifier()"
      ]
     },
     "execution_count": 175,
     "metadata": {},
     "output_type": "execute_result"
    }
   ],
   "source": [
    "AB = AdaBoostClassifier().fit(X_res,y_res)\n",
    "AB"
   ]
  },
  {
   "cell_type": "code",
   "execution_count": 176,
   "id": "0d825746",
   "metadata": {},
   "outputs": [
    {
     "name": "stdout",
     "output_type": "stream",
     "text": [
      "[[ 1760    87]\n",
      " [   25 10555]]\n",
      "              precision    recall  f1-score   support\n",
      "\n",
      "           0       0.99      0.95      0.97      1847\n",
      "           1       0.99      1.00      0.99     10580\n",
      "\n",
      "    accuracy                           0.99     12427\n",
      "   macro avg       0.99      0.98      0.98     12427\n",
      "weighted avg       0.99      0.99      0.99     12427\n",
      "\n"
     ]
    },
    {
     "data": {
      "text/plain": [
       "<sklearn.metrics._plot.roc_curve.RocCurveDisplay at 0x1ebf36c6a30>"
      ]
     },
     "execution_count": 176,
     "metadata": {},
     "output_type": "execute_result"
    },
    {
     "data": {
      "image/png": "[encoded data removed]",
      "text/plain": [
       "<Figure size 432x288 with 1 Axes>"
      ]
     },
     "metadata": {
      "needs_background": "light"
     },
     "output_type": "display_data"
    }
   ],
   "source": [
    "y_pred=AB.predict(X_test)\n",
    "print(confusion_matrix(y_test,y_pred))\n",
    "print(classification_report(y_test, y_pred))\n",
    "plot_roc_curve(AB,X_test,y_test)"
   ]
  },
  {
   "cell_type": "markdown",
   "id": "559a1e59",
   "metadata": {},
   "source": [
    "### **Gradient Boosting**"
   ]
  },
  {
   "cell_type": "code",
   "execution_count": 177,
   "id": "0f669ac9",
   "metadata": {},
   "outputs": [
    {
     "data": {
      "text/plain": [
       "GradientBoostingClassifier()"
      ]
     },
     "execution_count": 177,
     "metadata": {},
     "output_type": "execute_result"
    }
   ],
   "source": [
    "GB = GradientBoostingClassifier().fit(X_res,y_res)\n",
    "GB"
   ]
  },
  {
   "cell_type": "code",
   "execution_count": 178,
   "id": "febbcd5b",
   "metadata": {},
   "outputs": [
    {
     "name": "stdout",
     "output_type": "stream",
     "text": [
      "[[ 1769    78]\n",
      " [    7 10573]]\n",
      "              precision    recall  f1-score   support\n",
      "\n",
      "           0       1.00      0.96      0.98      1847\n",
      "           1       0.99      1.00      1.00     10580\n",
      "\n",
      "    accuracy                           0.99     12427\n",
      "   macro avg       0.99      0.98      0.99     12427\n",
      "weighted avg       0.99      0.99      0.99     12427\n",
      "\n"
     ]
    },
    {
     "data": {
      "text/plain": [
       "<sklearn.metrics._plot.roc_curve.RocCurveDisplay at 0x1ebbe19f7c0>"
      ]
     },
     "execution_count": 178,
     "metadata": {},
     "output_type": "execute_result"
    },
    {
     "data": {
      "image/png": "[encoded data removed]",
      "text/plain": [
       "<Figure size 432x288 with 1 Axes>"
      ]
     },
     "metadata": {
      "needs_background": "light"
     },
     "output_type": "display_data"
    }
   ],
   "source": [
    "y_pred=GB.predict(X_test)\n",
    "print(confusion_matrix(y_test,y_pred))\n",
    "print(classification_report(y_test, y_pred))\n",
    "plot_roc_curve(GB,X_test,y_test)"
   ]
  },
  {
   "cell_type": "markdown",
   "id": "97a7c93f",
   "metadata": {},
   "source": [
    "### **Overview Of the models**"
   ]
  },
  {
   "cell_type": "code",
   "execution_count": 179,
   "id": "ff1a032e",
   "metadata": {},
   "outputs": [],
   "source": [
    "#set name for each model\n",
    "models =[('LReg',LogisticRegression()),\n",
    "         ('LDA',LinearDiscriminantAnalysis()),\n",
    "         ('DT',DecisionTreeClassifier(random_state=1)),\n",
    "         ('KNN',KNeighborsClassifier()),\n",
    "         ('SVM',SVC()),\n",
    "         ('RF',RandomForestClassifier(random_state=1)),\n",
    "         ('BR',BaggingClassifier(random_state=1)),\n",
    "         ('ExtraT',ExtraTreesClassifier(random_state=1)),\n",
    "         ('Adabst',AdaBoostClassifier(random_state=1)),\n",
    "         ('GBM',GradientBoostingClassifier(random_state=1))\n",
    "        ]"
   ]
  },
  {
   "cell_type": "code",
   "execution_count": 180,
   "id": "90f1e3d4",
   "metadata": {},
   "outputs": [],
   "source": [
    "#fit the models and evaluate them according classification metrics\n",
    "from sklearn.metrics import accuracy_score,f1_score, roc_auc_score\n",
    "lacc,lf1,lauc=[],[],[]\n",
    "names=[]\n",
    "for name,model in models:\n",
    "    model.fit(X_res,y_res)\n",
    "    y_pred=model.predict(X_test)\n",
    "    acc=round(accuracy_score(y_test,y_pred),2)\n",
    "    lacc.append(acc)\n",
    "    f1=round(f1_score(y_test,y_pred),2)\n",
    "    lf1.append(f1)\n",
    "    aucb=round(roc_auc_score(y_test,y_pred),2)\n",
    "    lauc.append(aucb)\n",
    "    names.append(name)"
   ]
  },
  {
   "cell_type": "code",
   "execution_count": 181,
   "id": "bb7effe0",
   "metadata": {},
   "outputs": [
    {
     "data": {
      "text/html": [
       "<div>\n",
       "<style scoped>\n",
       "    .dataframe tbody tr th:only-of-type {\n",
       "        vertical-align: middle;\n",
       "    }\n",
       "\n",
       "    .dataframe tbody tr th {\n",
       "        vertical-align: top;\n",
       "    }\n",
       "\n",
       "    .dataframe thead th {\n",
       "        text-align: right;\n",
       "    }\n",
       "</style>\n",
       "<table border=\"1\" class=\"dataframe\">\n",
       "  <thead>\n",
       "    <tr style=\"text-align: right;\">\n",
       "      <th></th>\n",
       "      <th>Accuracy</th>\n",
       "      <th>F1-score</th>\n",
       "      <th>AUC</th>\n",
       "    </tr>\n",
       "  </thead>\n",
       "  <tbody>\n",
       "    <tr>\n",
       "      <th>LReg</th>\n",
       "      <td>0.95</td>\n",
       "      <td>0.97</td>\n",
       "      <td>0.92</td>\n",
       "    </tr>\n",
       "    <tr>\n",
       "      <th>LDA</th>\n",
       "      <td>0.94</td>\n",
       "      <td>0.96</td>\n",
       "      <td>0.88</td>\n",
       "    </tr>\n",
       "    <tr>\n",
       "      <th>DT</th>\n",
       "      <td>0.99</td>\n",
       "      <td>0.99</td>\n",
       "      <td>0.98</td>\n",
       "    </tr>\n",
       "    <tr>\n",
       "      <th>KNN</th>\n",
       "      <td>0.76</td>\n",
       "      <td>0.85</td>\n",
       "      <td>0.67</td>\n",
       "    </tr>\n",
       "    <tr>\n",
       "      <th>SVM</th>\n",
       "      <td>0.97</td>\n",
       "      <td>0.98</td>\n",
       "      <td>0.93</td>\n",
       "    </tr>\n",
       "    <tr>\n",
       "      <th>RF</th>\n",
       "      <td>0.99</td>\n",
       "      <td>1.00</td>\n",
       "      <td>0.98</td>\n",
       "    </tr>\n",
       "    <tr>\n",
       "      <th>BR</th>\n",
       "      <td>0.99</td>\n",
       "      <td>1.00</td>\n",
       "      <td>0.99</td>\n",
       "    </tr>\n",
       "    <tr>\n",
       "      <th>ExtraT</th>\n",
       "      <td>0.98</td>\n",
       "      <td>0.99</td>\n",
       "      <td>0.94</td>\n",
       "    </tr>\n",
       "    <tr>\n",
       "      <th>Adabst</th>\n",
       "      <td>0.99</td>\n",
       "      <td>0.99</td>\n",
       "      <td>0.98</td>\n",
       "    </tr>\n",
       "    <tr>\n",
       "      <th>GBM</th>\n",
       "      <td>0.99</td>\n",
       "      <td>1.00</td>\n",
       "      <td>0.98</td>\n",
       "    </tr>\n",
       "  </tbody>\n",
       "</table>\n",
       "</div>"
      ],
      "text/plain": [
       "        Accuracy  F1-score   AUC\n",
       "LReg        0.95      0.97  0.92\n",
       "LDA         0.94      0.96  0.88\n",
       "DT          0.99      0.99  0.98\n",
       "KNN         0.76      0.85  0.67\n",
       "SVM         0.97      0.98  0.93\n",
       "RF          0.99      1.00  0.98\n",
       "BR          0.99      1.00  0.99\n",
       "ExtraT      0.98      0.99  0.94\n",
       "Adabst      0.99      0.99  0.98\n",
       "GBM         0.99      1.00  0.98"
      ]
     },
     "execution_count": 181,
     "metadata": {},
     "output_type": "execute_result"
    }
   ],
   "source": [
    "#show the metrics for each model\n",
    "dm=pd.DataFrame(index=names)\n",
    "dm['Accuracy']=lacc\n",
    "dm['F1-score']=lf1\n",
    "dm['AUC']=lauc\n",
    "dm"
   ]
  },
  {
   "cell_type": "markdown",
   "id": "5913659f",
   "metadata": {},
   "source": [
    "## **Tuning Of Top 3 Models**"
   ]
  },
  {
   "cell_type": "markdown",
   "id": "dea0830f",
   "metadata": {},
   "source": [
    "#### DecisionTreeClassifier\n",
    "#### BaggingClassifier\n",
    "#### GradientBoostingClassifier"
   ]
  },
  {
   "cell_type": "markdown",
   "id": "e7b8901a",
   "metadata": {},
   "source": [
    "### **Implementation of GridSearchCV**"
   ]
  },
  {
   "cell_type": "markdown",
   "id": "aef3435e",
   "metadata": {},
   "source": [
    "#### The gridSearchCV() function will be used to preform an exhaustive search of the optimal parameter "
   ]
  },
  {
   "cell_type": "code",
   "execution_count": 182,
   "id": "8010638d",
   "metadata": {},
   "outputs": [],
   "source": [
    "from sklearn.model_selection import GridSearchCV\n",
    "\n",
    "# setup of the basic model (default model)\n",
    "\n",
    "RF=RandomForestClassifier(random_state=1)\n",
    "RF.fit(X_res,y_res)\n",
    "y_pred=RF.predict(X_test)"
   ]
  },
  {
   "cell_type": "code",
   "execution_count": 183,
   "id": "b464f5b5",
   "metadata": {},
   "outputs": [],
   "source": [
    "def model_report(model):\n",
    "    plot_confusion_matrix(model,X_test,y_test)\n",
    "    print(classification_report(y_test,model.predict(X_test)))\n",
    "    print(\"Training accuracy: \",RF.score(X_res,y_res))"
   ]
  },
  {
   "cell_type": "code",
   "execution_count": 184,
   "id": "92c31bb3",
   "metadata": {},
   "outputs": [
    {
     "name": "stdout",
     "output_type": "stream",
     "text": [
      "              precision    recall  f1-score   support\n",
      "\n",
      "           0       1.00      0.95      0.97      1847\n",
      "           1       0.99      1.00      1.00     10580\n",
      "\n",
      "    accuracy                           0.99     12427\n",
      "   macro avg       1.00      0.98      0.99     12427\n",
      "weighted avg       0.99      0.99      0.99     12427\n",
      "\n",
      "Training accuracy:  1.0\n"
     ]
    },
    {
     "data": {
      "image/png": "[encoded data removed]",
      "text/plain": [
       "<Figure size 432x288 with 2 Axes>"
      ]
     },
     "metadata": {
      "needs_background": "light"
     },
     "output_type": "display_data"
    }
   ],
   "source": [
    "model_report(RF)"
   ]
  },
  {
   "cell_type": "markdown",
   "id": "4c829d21",
   "metadata": {},
   "source": [
    "#### Observations & Conclusions:\n",
    "###### We can see that the training accuracy of Decision Tree with default hyperparameters is 1 i.e. 100% accuracy. and when we fit the same model on testing data, the accuracy reduces to 99% approx. we'll proced to tunning to see if we can improve some accuracy prediction"
   ]
  },
  {
   "cell_type": "markdown",
   "id": "e3f9f6ca",
   "metadata": {},
   "source": [
    "### Hyperparameter Tuning"
   ]
  },
  {
   "cell_type": "markdown",
   "id": "8ac4aa3f",
   "metadata": {},
   "source": [
    "#### For Random Forest Classifier"
   ]
  },
  {
   "cell_type": "code",
   "execution_count": 185,
   "id": "a21f06b2",
   "metadata": {},
   "outputs": [
    {
     "name": "stdout",
     "output_type": "stream",
     "text": [
      "Actual Parameters of the RF model :\n",
      "{'bootstrap': True,\n",
      " 'ccp_alpha': 0.0,\n",
      " 'class_weight': None,\n",
      " 'criterion': 'gini',\n",
      " 'max_depth': None,\n",
      " 'max_features': 'auto',\n",
      " 'max_leaf_nodes': None,\n",
      " 'max_samples': None,\n",
      " 'min_impurity_decrease': 0.0,\n",
      " 'min_samples_leaf': 1,\n",
      " 'min_samples_split': 2,\n",
      " 'min_weight_fraction_leaf': 0.0,\n",
      " 'n_estimators': 100,\n",
      " 'n_jobs': None,\n",
      " 'oob_score': False,\n",
      " 'random_state': 1,\n",
      " 'verbose': 0,\n",
      " 'warm_start': False}\n"
     ]
    }
   ],
   "source": [
    "print('Actual Parameters of the RF model :')\n",
    "from pprint import pprint\n",
    "pprint(RF.get_params())"
   ]
  },
  {
   "cell_type": "markdown",
   "id": "05a1361b",
   "metadata": {},
   "source": [
    "##### Parameters to investigate\n",
    "- max_depth\n",
    "- max_features\n",
    "- min_samples_split\n",
    "- min_samples_leaf"
   ]
  },
  {
   "cell_type": "code",
   "execution_count": 113,
   "id": "68b967d3",
   "metadata": {},
   "outputs": [
    {
     "name": "stdout",
     "output_type": "stream",
     "text": [
      "Fitting 3 folds for each of 400 candidates, totalling 1200 fits\n"
     ]
    }
   ],
   "source": [
    "#Setting values for the parameters\n",
    "max_depth = [5, 10, 15, 25, 30]\n",
    "min_samples_split = [2, 5, 10, 15, 100]\n",
    "min_samples_leaf = [1, 2, 5, 10]\n",
    "max_features = [1, 2, 5, 10]\n",
    "\n",
    "#Creating a dictionary for the hyper parameters\n",
    "hyperT = dict(max_depth = max_depth, min_samples_split = min_samples_split, \n",
    "              min_samples_leaf = min_samples_leaf, max_features=max_features)\n",
    "\n",
    "#Applying GridSearchCV to get the best value for hyperparameters\n",
    "gridRF = GridSearchCV(RF, hyperT, cv = 3, verbose = 1, n_jobs = -1)\n",
    "bestRF = gridRF.fit(X_res,y_res)"
   ]
  },
  {
   "cell_type": "code",
   "execution_count": 115,
   "id": "ae209cac",
   "metadata": {},
   "outputs": [
    {
     "name": "stdout",
     "output_type": "stream",
     "text": [
      "The best hyper parameters are:\n",
      " {'max_depth': 25, 'max_features': 5, 'min_samples_leaf': 1, 'min_samples_split': 2}\n"
     ]
    }
   ],
   "source": [
    "#Printing the best hyperparameters\n",
    "print('The best hyper parameters are:\\n',gridRF.best_params_)"
   ]
  },
  {
   "cell_type": "markdown",
   "id": "71c7500f",
   "metadata": {},
   "source": [
    "#### Fitting Random Forest with best Hyper parameters"
   ]
  },
  {
   "cell_type": "code",
   "execution_count": 186,
   "id": "3f7fa07f",
   "metadata": {},
   "outputs": [],
   "source": [
    "#Fitting the decision tree model with the best hyper parameters obtained through GridSearchCV\n",
    "RF_HY = RandomForestClassifier(max_depth=25, min_samples_leaf=1,min_samples_split=2)\n",
    "RF_HY.fit(X_res,y_res)\n",
    "pred_RF_HY = RF_HY.predict(X_test)"
   ]
  },
  {
   "cell_type": "code",
   "execution_count": 187,
   "id": "7ccca6dd",
   "metadata": {},
   "outputs": [
    {
     "name": "stdout",
     "output_type": "stream",
     "text": [
      "              precision    recall  f1-score   support\n",
      "\n",
      "           0       1.00      0.95      0.97      1847\n",
      "           1       0.99      1.00      1.00     10580\n",
      "\n",
      "    accuracy                           0.99     12427\n",
      "   macro avg       1.00      0.97      0.98     12427\n",
      "weighted avg       0.99      0.99      0.99     12427\n",
      "\n",
      "Training accuracy:  1.0\n"
     ]
    },
    {
     "data": {
      "image/png": "[encoded data removed]",
      "text/plain": [
       "<Figure size 432x288 with 2 Axes>"
      ]
     },
     "metadata": {
      "needs_background": "light"
     },
     "output_type": "display_data"
    }
   ],
   "source": [
    "model_report(RF_HY)"
   ]
  },
  {
   "cell_type": "markdown",
   "id": "ae142186",
   "metadata": {},
   "source": [
    "#### For BaggingClassifier"
   ]
  },
  {
   "cell_type": "code",
   "execution_count": 190,
   "id": "0c6f5fb8",
   "metadata": {},
   "outputs": [],
   "source": [
    "# setup of the basic model (default model)\n",
    "BG=BaggingClassifier()\n",
    "BG.fit(X_res,y_res)\n",
    "y_pred=BG.predict(X_test)"
   ]
  },
  {
   "cell_type": "code",
   "execution_count": 191,
   "id": "7665a420",
   "metadata": {},
   "outputs": [
    {
     "name": "stdout",
     "output_type": "stream",
     "text": [
      "              precision    recall  f1-score   support\n",
      "\n",
      "           0       0.99      0.97      0.98      1847\n",
      "           1       0.99      1.00      1.00     10580\n",
      "\n",
      "    accuracy                           0.99     12427\n",
      "   macro avg       0.99      0.98      0.99     12427\n",
      "weighted avg       0.99      0.99      0.99     12427\n",
      "\n",
      "Training accuracy:  1.0\n"
     ]
    },
    {
     "data": {
      "image/png": "[encoded data removed]",
      "text/plain": [
       "<Figure size 432x288 with 2 Axes>"
      ]
     },
     "metadata": {
      "needs_background": "light"
     },
     "output_type": "display_data"
    }
   ],
   "source": [
    "model_report(BG)"
   ]
  },
  {
   "cell_type": "code",
   "execution_count": 124,
   "id": "727933d9",
   "metadata": {},
   "outputs": [
    {
     "name": "stdout",
     "output_type": "stream",
     "text": [
      "Actual Parameters of the a model :\n",
      "{'base_estimator': None,\n",
      " 'bootstrap': True,\n",
      " 'bootstrap_features': False,\n",
      " 'max_features': 1.0,\n",
      " 'max_samples': 1.0,\n",
      " 'n_estimators': 10,\n",
      " 'n_jobs': None,\n",
      " 'oob_score': False,\n",
      " 'random_state': 1,\n",
      " 'verbose': 0,\n",
      " 'warm_start': False}\n"
     ]
    }
   ],
   "source": [
    "print('Actual Parameters of the a model :')\n",
    "from pprint import pprint\n",
    "pprint(BG.get_params())"
   ]
  },
  {
   "cell_type": "markdown",
   "id": "62179df7",
   "metadata": {},
   "source": [
    "##### Parameters to investigate\n",
    "- n_estimators\n",
    "- max_depth\n",
    "- max_samples \n",
    "- max_features "
   ]
  },
  {
   "cell_type": "code",
   "execution_count": 125,
   "id": "9b55064d",
   "metadata": {},
   "outputs": [
    {
     "name": "stdout",
     "output_type": "stream",
     "text": [
      "Fitting 3 folds for each of 125 candidates, totalling 375 fits\n"
     ]
    }
   ],
   "source": [
    "#Setting values for the parameters\n",
    "n_estimators = [100, 300, 500, 800, 1200]\n",
    "max_depth = [5, 10, 15, 25, 30]\n",
    "max_samples = [5, 10, 25, 50, 100]\n",
    "max_features = [1, 2, 5, 10, 13]\n",
    "\n",
    "#Creating a dictionary for the hyper parameters\n",
    "hyperbag = dict(n_estimators = n_estimators, max_samples = max_samples, \n",
    "              max_features = max_features)\n",
    "\n",
    "#Applying GridSearchCV to get the best value for hyperparameters\n",
    "gridbag = GridSearchCV(BG, hyperbag, cv = 3, verbose = 1, n_jobs = -1)\n",
    "bestbag = gridbag.fit(X_res,y_res)"
   ]
  },
  {
   "cell_type": "code",
   "execution_count": 126,
   "id": "e7144522",
   "metadata": {},
   "outputs": [
    {
     "name": "stdout",
     "output_type": "stream",
     "text": [
      "The best hyper parameters are:\n",
      " {'max_features': 10, 'max_samples': 100, 'n_estimators': 1200}\n"
     ]
    }
   ],
   "source": [
    "#Printing the best hyperparameters\n",
    "print('The best hyper parameters are:\\n',gridbag.best_params_)"
   ]
  },
  {
   "cell_type": "markdown",
   "id": "46782ecb",
   "metadata": {},
   "source": [
    "#### Fitting Bagging Classifier with hyper parameters"
   ]
  },
  {
   "cell_type": "code",
   "execution_count": 196,
   "id": "bc57988a",
   "metadata": {},
   "outputs": [],
   "source": [
    "#Fitting the bagging model with the best hyper parameters obtained through GridSearchCV\n",
    "BG_HY = BaggingClassifier(max_features=10, max_samples=100,n_estimators= 1200)\n",
    "BG_HY.fit(X_res,y_res)\n",
    "pred_BG_HY = BG_HY.predict(X_test)"
   ]
  },
  {
   "cell_type": "code",
   "execution_count": 197,
   "id": "56ba8a53",
   "metadata": {},
   "outputs": [
    {
     "name": "stdout",
     "output_type": "stream",
     "text": [
      "              precision    recall  f1-score   support\n",
      "\n",
      "           0       0.98      0.91      0.95      1847\n",
      "           1       0.98      1.00      0.99     10580\n",
      "\n",
      "    accuracy                           0.98     12427\n",
      "   macro avg       0.98      0.95      0.97     12427\n",
      "weighted avg       0.98      0.98      0.98     12427\n",
      "\n",
      "Training accuracy:  1.0\n"
     ]
    },
    {
     "data": {
      "image/png": "[encoded data removed]",
      "text/plain": [
       "<Figure size 432x288 with 2 Axes>"
      ]
     },
     "metadata": {
      "needs_background": "light"
     },
     "output_type": "display_data"
    }
   ],
   "source": [
    "model_report(BG_HY)"
   ]
  },
  {
   "cell_type": "markdown",
   "id": "31c3e5a2",
   "metadata": {},
   "source": [
    "#### For Gradient Boosting Classifier "
   ]
  },
  {
   "cell_type": "code",
   "execution_count": 198,
   "id": "00fb1611",
   "metadata": {},
   "outputs": [],
   "source": [
    "# setup of the basic model (default model)\n",
    "GB=GradientBoostingClassifier()\n",
    "GB.fit(X_res,y_res)\n",
    "y_pred=GB.predict(X_test)"
   ]
  },
  {
   "cell_type": "code",
   "execution_count": 199,
   "id": "548ce0f8",
   "metadata": {},
   "outputs": [
    {
     "name": "stdout",
     "output_type": "stream",
     "text": [
      "              precision    recall  f1-score   support\n",
      "\n",
      "           0       1.00      0.96      0.98      1847\n",
      "           1       0.99      1.00      1.00     10580\n",
      "\n",
      "    accuracy                           0.99     12427\n",
      "   macro avg       0.99      0.98      0.99     12427\n",
      "weighted avg       0.99      0.99      0.99     12427\n",
      "\n",
      "Training accuracy:  1.0\n"
     ]
    },
    {
     "data": {
      "image/png": "[encoded data removed]",
      "text/plain": [
       "<Figure size 432x288 with 2 Axes>"
      ]
     },
     "metadata": {
      "needs_background": "light"
     },
     "output_type": "display_data"
    }
   ],
   "source": [
    "model_report(GB)"
   ]
  },
  {
   "cell_type": "code",
   "execution_count": 201,
   "id": "c96168ef",
   "metadata": {},
   "outputs": [
    {
     "name": "stdout",
     "output_type": "stream",
     "text": [
      "Actual Parameters of the a model :\n",
      "{'ccp_alpha': 0.0,\n",
      " 'criterion': 'friedman_mse',\n",
      " 'init': None,\n",
      " 'learning_rate': 0.1,\n",
      " 'loss': 'deviance',\n",
      " 'max_depth': 3,\n",
      " 'max_features': None,\n",
      " 'max_leaf_nodes': None,\n",
      " 'min_impurity_decrease': 0.0,\n",
      " 'min_samples_leaf': 1,\n",
      " 'min_samples_split': 2,\n",
      " 'min_weight_fraction_leaf': 0.0,\n",
      " 'n_estimators': 100,\n",
      " 'n_iter_no_change': None,\n",
      " 'random_state': None,\n",
      " 'subsample': 1.0,\n",
      " 'tol': 0.0001,\n",
      " 'validation_fraction': 0.1,\n",
      " 'verbose': 0,\n",
      " 'warm_start': False}\n"
     ]
    }
   ],
   "source": [
    "print('Actual Parameters of the a model :')\n",
    "from pprint import pprint\n",
    "pprint(GB.get_params())"
   ]
  },
  {
   "cell_type": "markdown",
   "id": "325f13a3",
   "metadata": {},
   "source": [
    "#### Fitting Gradient Boosting Classifier with hyper parameters"
   ]
  },
  {
   "cell_type": "code",
   "execution_count": 202,
   "id": "5e6923d4",
   "metadata": {},
   "outputs": [
    {
     "name": "stdout",
     "output_type": "stream",
     "text": [
      "Fitting 3 folds for each of 320 candidates, totalling 960 fits\n"
     ]
    }
   ],
   "source": [
    "learning_rate=[0.15,0.1,0.05,0.01,0.005]\n",
    "n_estimators=[1, 2, 5, 10, 13,15,17,19]\n",
    "max_features=[2,3,4,5,6,7,9,12]\n",
    "\n",
    "#Creating a dictionary for the hyper parameters\n",
    "hypergb = dict(n_estimators = n_estimators, learning_rate = learning_rate, \n",
    "              max_features = max_features)\n",
    "\n",
    "#Applying GridSearchCV to get the best value for hyperparameters\n",
    "gridgb = GridSearchCV(GB, hypergb, cv = 3, verbose = 1, n_jobs = -1)\n",
    "bestgb = gridgb.fit(X_res,y_res)"
   ]
  },
  {
   "cell_type": "code",
   "execution_count": 203,
   "id": "3a23b558",
   "metadata": {},
   "outputs": [
    {
     "name": "stdout",
     "output_type": "stream",
     "text": [
      "The best hyper parameters are:\n",
      " {'learning_rate': 0.15, 'max_features': 12, 'n_estimators': 19}\n"
     ]
    }
   ],
   "source": [
    "#Printing the best hyperparameters\n",
    "print('The best hyper parameters are:\\n',bestgb.best_params_)"
   ]
  },
  {
   "cell_type": "code",
   "execution_count": 204,
   "id": "943047b8",
   "metadata": {},
   "outputs": [],
   "source": [
    "#Fitting the bagging model with the best hyper parameters obtained through GridSearchCV\n",
    "GB_HY = GradientBoostingClassifier(max_features=12, learning_rate=0.15,n_estimators= 19)\n",
    "GB_HY.fit(X_res,y_res)\n",
    "pred_GBM_HY = GB_HY.predict(X_test)"
   ]
  },
  {
   "cell_type": "code",
   "execution_count": 205,
   "id": "ecc83179",
   "metadata": {},
   "outputs": [
    {
     "name": "stdout",
     "output_type": "stream",
     "text": [
      "              precision    recall  f1-score   support\n",
      "\n",
      "           0       1.00      0.91      0.95      1847\n",
      "           1       0.98      1.00      0.99     10580\n",
      "\n",
      "    accuracy                           0.99     12427\n",
      "   macro avg       0.99      0.95      0.97     12427\n",
      "weighted avg       0.99      0.99      0.99     12427\n",
      "\n",
      "Training accuracy:  1.0\n"
     ]
    },
    {
     "data": {
      "image/png": "[encoded data removed]",
      "text/plain": [
       "<Figure size 432x288 with 2 Axes>"
      ]
     },
     "metadata": {
      "needs_background": "light"
     },
     "output_type": "display_data"
    }
   ],
   "source": [
    "model_report(GB_HY)"
   ]
  },
  {
   "cell_type": "markdown",
   "id": "9729df36",
   "metadata": {},
   "source": [
    "### The model selected is Random Forest"
   ]
  },
  {
   "cell_type": "code",
   "execution_count": 206,
   "id": "f368653c",
   "metadata": {},
   "outputs": [
    {
     "name": "stdout",
     "output_type": "stream",
     "text": [
      "              precision    recall  f1-score   support\n",
      "\n",
      "           0       1.00      0.95      0.97      1847\n",
      "           1       0.99      1.00      1.00     10580\n",
      "\n",
      "    accuracy                           0.99     12427\n",
      "   macro avg       1.00      0.97      0.98     12427\n",
      "weighted avg       0.99      0.99      0.99     12427\n",
      "\n",
      "Training accuracy:  1.0\n"
     ]
    },
    {
     "data": {
      "image/png": "[encoded data removed]",
      "text/plain": [
       "<Figure size 432x288 with 2 Axes>"
      ]
     },
     "metadata": {
      "needs_background": "light"
     },
     "output_type": "display_data"
    }
   ],
   "source": [
    "model_report(RF_HY)"
   ]
  },
  {
   "cell_type": "markdown",
   "id": "c9a92586",
   "metadata": {},
   "source": [
    "#### The confusion matrix shows us that the model has been trained well to predict x test \n",
    "#### in 0 \"charged off\" section he miss 93 predicting them as fully paid\n",
    "#### and 0 miss in fully paid section"
   ]
  },
  {
   "cell_type": "markdown",
   "id": "4f244d2f",
   "metadata": {},
   "source": [
    "###  Model saving"
   ]
  },
  {
   "cell_type": "code",
   "execution_count": 211,
   "id": "1f968bcf",
   "metadata": {},
   "outputs": [],
   "source": [
    "import pickle\n",
    "filename = 'RF_HY.pkl'\n",
    "pickle.dump(RF_HY, open(filename, 'wb'))"
   ]
  },
  {
   "cell_type": "code",
   "execution_count": 212,
   "id": "35e7c213",
   "metadata": {},
   "outputs": [],
   "source": [
    "#to load a saved model\n",
    "RF_HY = pickle.load(open(\"RF_HY.pkl\", \"rb\"))"
   ]
  },
  {
   "cell_type": "code",
   "execution_count": 213,
   "id": "3ab347e1",
   "metadata": {},
   "outputs": [
    {
     "data": {
      "text/plain": [
       "array([1, 0, 1, ..., 1, 1, 0])"
      ]
     },
     "execution_count": 213,
     "metadata": {},
     "output_type": "execute_result"
    }
   ],
   "source": [
    "#the you can use the loaded model\n",
    "RF_HY.predict(X_test)"
   ]
  },
  {
   "cell_type": "code",
   "execution_count": 214,
   "id": "ffc01836",
   "metadata": {},
   "outputs": [
    {
     "data": {
      "text/plain": [
       "array([[0.  , 1.  ],\n",
       "       [0.87, 0.13],\n",
       "       [0.02, 0.98],\n",
       "       ...,\n",
       "       [0.  , 1.  ],\n",
       "       [0.02, 0.98],\n",
       "       [1.  , 0.  ]])"
      ]
     },
     "execution_count": 214,
     "metadata": {},
     "output_type": "execute_result"
    }
   ],
   "source": [
    "#the you can use the loaded model\n",
    "RF_HY.predict_proba(X_test)"
   ]
  },
  {
   "cell_type": "code",
   "execution_count": null,
   "id": "30bbcaf4",
   "metadata": {},
   "outputs": [],
   "source": []
  }
 ],
 "metadata": {
  "kernelspec": {
   "display_name": "Python 3 (ipykernel)",
   "language": "python",
   "name": "python3"
  },
  "language_info": {
   "codemirror_mode": {
    "name": "ipython",
    "version": 3
   },
   "file_extension": ".py",
   "mimetype": "text/x-python",
   "name": "python",
   "nbconvert_exporter": "python",
   "pygments_lexer": "ipython3",
   "version": "3.8.16"
  }
 },
 "nbformat": 4,
 "nbformat_minor": 5
}
